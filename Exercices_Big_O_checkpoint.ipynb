{
  "nbformat": 4,
  "nbformat_minor": 0,
  "metadata": {
    "kernelspec": {
      "display_name": "Python 2",
      "language": "python",
      "name": "python2"
    },
    "language_info": {
      "codemirror_mode": {
        "name": "ipython",
        "version": 2
      },
      "file_extension": ".py",
      "mimetype": "text/x-python",
      "name": "python",
      "nbconvert_exporter": "python",
      "pygments_lexer": "ipython2",
      "version": "2.7.10"
    },
    "colab": {
      "provenance": [],
      "include_colab_link": true
    }
  },
  "cells": [
    {
      "cell_type": "markdown",
      "metadata": {
        "id": "view-in-github",
        "colab_type": "text"
      },
      "source": [
        "<a href=\"https://colab.research.google.com/github/pat-ch0/NumPy-intro/blob/main/Exercices_Big_O_checkpoint.ipynb\" target=\"_parent\"><img src=\"https://colab.research.google.com/assets/colab-badge.svg\" alt=\"Open In Colab\"/></a>"
      ]
    },
    {
      "cell_type": "markdown",
      "metadata": {
        "id": "huD44pEZv1vu"
      },
      "source": [
        "#Exemples de Big O\n",
        "\n",
        "Dans la première partie de la section sur les exemples de Big-O, nous allons passer en revue diverses itérations des différentes fonctions Big-O.\n",
        "\n",
        "Commençons par quelques exemples simples et explorons ce qu'est leur Big-O.\n",
        "\n",
        "# O(1) Constant"
      ]
    },
    {
      "cell_type": "code",
      "metadata": {
        "id": "lwozHxHMv1v8",
        "outputId": "e2c03771-a14e-4a43-cd3f-d23840d63117",
        "colab": {
          "base_uri": "https://localhost:8080/"
        }
      },
      "source": [
        "def func_constant(values):\n",
        "    '''\n",
        "    Prints first item in a list of values.\n",
        "    '''\n",
        "    print(values[0])\n",
        "\n",
        "func_constant([1,2,3])"
      ],
      "execution_count": 2,
      "outputs": [
        {
          "output_type": "stream",
          "name": "stdout",
          "text": [
            "1\n"
          ]
        }
      ]
    },
    {
      "cell_type": "markdown",
      "metadata": {
        "id": "mU3y-VzDv1v_"
      },
      "source": [
        "Notez que cette fonction est constante car, quelle que soit la taille de la liste, la fonction ne prendra jamais qu'une seule étape, dans ce cas 1, en imprimant la première valeur de la liste. Ainsi, nous pouvons voir ici qu'une liste d'entrée de 100 valeurs n'imprimera qu'un seul élément, une liste de 10 000 valeurs n'imprimera qu'un seul élément et une liste de n valeurs n'imprimera qu'un seul élément !"
      ]
    },
    {
      "cell_type": "markdown",
      "metadata": {
        "id": "JcYlgCULv1wB"
      },
      "source": [
        "## O(n) Linéaire"
      ]
    },
    {
      "cell_type": "code",
      "metadata": {
        "id": "-d4QhXU3v1wB",
        "outputId": "e29e3941-66c2-4508-cf3f-7e8b9066201d",
        "colab": {
          "base_uri": "https://localhost:8080/"
        }
      },
      "source": [
        "def func_lin(lst):\n",
        "    '''\n",
        "    Takes in list and prints out all values\n",
        "    '''\n",
        "    for val in lst:\n",
        "        print(val)\n",
        "\n",
        "func_lin([1,2,3])"
      ],
      "execution_count": 3,
      "outputs": [
        {
          "output_type": "stream",
          "name": "stdout",
          "text": [
            "1\n",
            "2\n",
            "3\n"
          ]
        }
      ]
    },
    {
      "cell_type": "markdown",
      "metadata": {
        "id": "JgIQasuwv1wC"
      },
      "source": [
        "Quelles est la complexité de cette fonction ?"
      ]
    },
    {
      "cell_type": "markdown",
      "metadata": {
        "id": "SWd7YDV8v1wD"
      },
      "source": [
        "## O(n^2) Quadratique"
      ]
    },
    {
      "cell_type": "code",
      "metadata": {
        "id": "QO0yDTpTv1wE",
        "outputId": "7cc70a7c-e079-4632-85e7-fec702e71cc2",
        "colab": {
          "base_uri": "https://localhost:8080/"
        }
      },
      "source": [
        "def func_quad(lst):\n",
        "    '''\n",
        "    Prints pairs for every item in list.\n",
        "    '''\n",
        "    for item_1 in lst:\n",
        "        for item_2 in lst:\n",
        "            print(item_1,item_2)\n",
        "\n",
        "lst = [0, 1, 2, 3]\n",
        "\n",
        "func_quad(lst)"
      ],
      "execution_count": 4,
      "outputs": [
        {
          "output_type": "stream",
          "name": "stdout",
          "text": [
            "0 0\n",
            "0 1\n",
            "0 2\n",
            "0 3\n",
            "1 0\n",
            "1 1\n",
            "1 2\n",
            "1 3\n",
            "2 0\n",
            "2 1\n",
            "2 2\n",
            "2 3\n",
            "3 0\n",
            "3 1\n",
            "3 2\n",
            "3 3\n"
          ]
        }
      ]
    },
    {
      "cell_type": "markdown",
      "metadata": {
        "id": "PfXKbvf1v1wF"
      },
      "source": [
        "Notez que nous avons maintenant deux boucles, l'une imbriquée dans l'autre.\n",
        "Cela signifie que pour une liste de n éléments, nous devrons effectuer n opérations pour chaque élément de la liste !\n",
        "\n",
        "Cela signifie qu'au total, nous effectuerons n fois n assignations, soit n^2.\n",
        "\n",
        "Donc, une liste de 10 éléments aura 10^2, soit 100 opérations.\n",
        "\n",
        "Vous pouvez voir à quel point cela peut devenir dangereux pour les entrées très volumineuses !\n",
        "\n",
        "C'est pourquoi il est si important d'être conscient de Big-O en Big Data !"
      ]
    },
    {
      "cell_type": "markdown",
      "source": [
        "En effet, le Big Data fait référence à des ensembles de données extrêmement volumineux et complexes qui ne peuvent pas être facilement gérés ou analysés avec des outils et méthodes de traitement de données traditionnels.\n",
        "\n",
        "Il représente un défi majeur pour les entreprises et les organisations, mais offre également un potentiel considérable pour l'innovation et la croissance.\n",
        "\n",
        "### Caractéristiques principales du Big Data :\n",
        "\n",
        "* **Volume :** Le Big Data implique d'énormes quantités de données, souvent mesurées en téraoctets, pétaoctets ou même exaoctets.\n",
        "* **Vélocité :** Les données sont générées et doivent être traitées à une vitesse très rapide, souvent en temps réel.\n",
        "* **Variété :** Le Big Data se présente sous différentes formes, y compris des données structurées (bases de données), non structurées (texte, images, vidéos) et semi-structurées (fichiers JSON, XML).\n",
        "* **Véracité :** La qualité et la fiabilité des données sont essentielles pour prendre des décisions éclairées. Le Big Data peut contenir des données bruitées, incomplètes ou incohérentes, ce qui nécessite des techniques de nettoyage et de validation des données.\n",
        "* **Valeur :** L'objectif principal du Big Data est d'extraire des informations précieuses et exploitables à partir de ces données massives pour améliorer la prise de décision, optimiser les processus et créer de nouvelles opportunités commerciales."
      ],
      "metadata": {
        "id": "Oul_HsbuFhWD"
      }
    },
    {
      "cell_type": "markdown",
      "metadata": {
        "id": "72fWfk0wv1wF"
      },
      "source": [
        "______\n",
        "## Calcul de l'échelle de Big-O\n",
        "\n",
        "Dans cette section, nous allons discuter de la façon dont les termes insignifiants sont ignorés dans la notation Big-O.\n",
        "\n",
        "Lorsqu'il s'agit de la notation Big O, nous ne nous intéressons qu'aux termes les plus significatifs. Rappelez-vous qu'à mesure que l'entrée augmente, seuls les termes qui croissent le plus rapidement auront de l'importance. Si vous avez déjà suivi un cours de calcul, cela vous rappellera la notion de limite à l'infini. Voyons un exemple de la façon d'ignorer les constantes :"
      ]
    },
    {
      "cell_type": "code",
      "metadata": {
        "collapsed": true,
        "id": "fys4AO9Xv1wG"
      },
      "source": [
        "def print_once(lst):\n",
        "    '''\n",
        "    Prints all items once\n",
        "    '''\n",
        "    for val in lst:\n",
        "        print(val)"
      ],
      "execution_count": 5,
      "outputs": []
    },
    {
      "cell_type": "code",
      "metadata": {
        "id": "jpdlMCukxngK",
        "colab": {
          "base_uri": "https://localhost:8080/"
        },
        "outputId": "cdac41cc-3755-405a-ef8b-b901df26eb64"
      },
      "source": [
        "print_once(lst)"
      ],
      "execution_count": 6,
      "outputs": [
        {
          "output_type": "stream",
          "name": "stdout",
          "text": [
            "0\n",
            "1\n",
            "2\n",
            "3\n"
          ]
        }
      ]
    },
    {
      "cell_type": "markdown",
      "metadata": {
        "id": "Hk7I0iROv1wH"
      },
      "source": [
        "Quelles est la complexité de cette fonction ?\n",
        "\n",
        "Qu'en est-il des exemples suivants ?"
      ]
    },
    {
      "cell_type": "code",
      "metadata": {
        "collapsed": true,
        "id": "Stf56HPov1wI"
      },
      "source": [
        "def print_3(lst):\n",
        "    '''\n",
        "    Prints all items three times\n",
        "    '''\n",
        "    for val in lst:\n",
        "        print val\n",
        "\n",
        "    for val in lst:\n",
        "        print val\n",
        "\n",
        "    for val in lst:\n",
        "        print val"
      ],
      "execution_count": null,
      "outputs": []
    },
    {
      "cell_type": "code",
      "metadata": {
        "id": "iEmZKT2Vv1wI",
        "outputId": "27677856-f69a-483f-a43f-3f60f8510dce"
      },
      "source": [
        "print_3(lst)"
      ],
      "execution_count": null,
      "outputs": [
        {
          "output_type": "stream",
          "text": [
            "0\n",
            "1\n",
            "2\n",
            "3\n",
            "0\n",
            "1\n",
            "2\n",
            "3\n",
            "0\n",
            "1\n",
            "2\n",
            "3\n"
          ],
          "name": "stdout"
        }
      ]
    },
    {
      "cell_type": "markdown",
      "metadata": {
        "id": "XwefPnULv1wJ"
      },
      "source": [
        "Voyons un exemple plus complexe de ceci :"
      ]
    },
    {
      "cell_type": "code",
      "metadata": {
        "id": "9b4XHjFbyD91"
      },
      "source": [
        "def comp(lst):\n",
        "  '''\n",
        "  This function prints the first item 0(1)\n",
        "  Then it prints the first 1/2 of the list 0(n/2)\n",
        "  Then prints a string 10 times O(10)\n",
        "  '''\n",
        "  print lst[0]\n",
        "\n",
        "  midpoint = len(lst)/2\n",
        "\n",
        "  for val in lst[:midpoint]:\n",
        "    print val\n",
        "\n",
        "  for x in range(10):\n",
        "    print 'number'"
      ],
      "execution_count": null,
      "outputs": []
    },
    {
      "cell_type": "code",
      "metadata": {
        "id": "q18lCGCmv1wK",
        "outputId": "738876de-9537-4432-e91f-021d67739733"
      },
      "source": [
        "lst = [1,2,3,4,5,6,7,8,9,10]\n",
        "\n",
        "comp(lst)"
      ],
      "execution_count": null,
      "outputs": [
        {
          "output_type": "stream",
          "text": [
            "1\n",
            "1\n",
            "2\n",
            "3\n",
            "4\n",
            "5\n",
            "number\n",
            "number\n",
            "number\n",
            "number\n",
            "number\n",
            "number\n",
            "number\n",
            "number\n",
            "number\n",
            "number\n"
          ],
          "name": "stdout"
        }
      ]
    },
    {
      "cell_type": "markdown",
      "metadata": {
        "id": "E9G-Be9av1wL"
      },
      "source": [
        "Quelles est la complexité de cette fonction ?"
      ]
    },
    {
      "cell_type": "markdown",
      "metadata": {
        "id": "vY9LqKl4v1wM"
      },
      "source": [
        "## Pire Cas vs Meilleur Cas\n",
        "\n",
        "Souvent, nous ne nous préoccupons que du pire cas possible d'un algorithme, mais lors d'un entretien, il est important de garder à l'esprit que les scénarios du pire cas et du meilleur cas peuvent avoir des temps Big-O complètement différents.\n",
        "\n",
        "Par exemple, considérons la fonction suivante :"
      ]
    },
    {
      "cell_type": "code",
      "metadata": {
        "collapsed": true,
        "id": "IcGR4ui3v1wM"
      },
      "source": [
        "def matcher(lst,match):\n",
        "    '''\n",
        "    Given a list lst, return a boolean indicating if match item is in the list\n",
        "    '''\n",
        "    for item in lst:\n",
        "        if item == match:\n",
        "            return True\n",
        "    return False"
      ],
      "execution_count": null,
      "outputs": []
    },
    {
      "cell_type": "code",
      "metadata": {
        "id": "UGPNIdsQzV_X",
        "colab": {
          "base_uri": "https://localhost:8080/"
        },
        "outputId": "f37002e1-ee4c-4b86-ad60-d2005264473d"
      },
      "source": [
        "lst"
      ],
      "execution_count": null,
      "outputs": [
        {
          "output_type": "execute_result",
          "data": {
            "text/plain": [
              "[1, 2, 3, 4, 5, 6, 7, 8, 9, 10]"
            ]
          },
          "metadata": {
            "tags": []
          },
          "execution_count": 11
        }
      ]
    },
    {
      "cell_type": "code",
      "metadata": {
        "id": "NWaLwU0BzXVd",
        "colab": {
          "base_uri": "https://localhost:8080/"
        },
        "outputId": "23bbeab7-63b5-4605-846a-a5fc93fcea95"
      },
      "source": [
        "matcher(lst,1)"
      ],
      "execution_count": null,
      "outputs": [
        {
          "output_type": "execute_result",
          "data": {
            "text/plain": [
              "True"
            ]
          },
          "metadata": {
            "tags": []
          },
          "execution_count": 12
        }
      ]
    },
    {
      "cell_type": "code",
      "metadata": {
        "id": "nuc_FlUEzZ-8",
        "colab": {
          "base_uri": "https://localhost:8080/"
        },
        "outputId": "4fd71010-f858-46ac-9191-9c008c48612e"
      },
      "source": [
        "matcher(lst,11)"
      ],
      "execution_count": null,
      "outputs": [
        {
          "output_type": "execute_result",
          "data": {
            "text/plain": [
              "False"
            ]
          },
          "metadata": {
            "tags": []
          },
          "execution_count": 13
        }
      ]
    },
    {
      "cell_type": "markdown",
      "metadata": {
        "id": "DKkb_JdMv1wP"
      },
      "source": [
        "Quelles est la complexité de ces fonctions ?\n",
        "\n",
        "Enfin, introduisons le concept de complexité spatiale.\n",
        "\n",
        "## Complexité Spatiale\n",
        "\n",
        "Souvent, nous nous préoccupons également de la quantité de mémoire/espace utilisée par un algorithme. La notation de la complexité spatiale est la même, mais au lieu de vérifier le temps des opérations, nous vérifions la taille de l'allocation de mémoire.\n",
        "\n",
        "Voyons quelques exemples :"
      ]
    },
    {
      "cell_type": "code",
      "metadata": {
        "collapsed": true,
        "id": "V7yBt4Kjv1wQ"
      },
      "source": [
        "def printer(n=10):\n",
        "    '''\n",
        "    Prints \"hello world!\" n times\n",
        "    '''\n",
        "    for x in range(n):\n",
        "        print('Hello World!')"
      ],
      "execution_count": 13,
      "outputs": []
    },
    {
      "cell_type": "code",
      "metadata": {
        "id": "NqNYSFn1z0vw",
        "colab": {
          "base_uri": "https://localhost:8080/"
        },
        "outputId": "f1e4fa47-85cc-4c52-96ed-4ec5594272da"
      },
      "source": [
        "printer()"
      ],
      "execution_count": 14,
      "outputs": [
        {
          "output_type": "stream",
          "name": "stdout",
          "text": [
            "Hello World!\n",
            "Hello World!\n",
            "Hello World!\n",
            "Hello World!\n",
            "Hello World!\n",
            "Hello World!\n",
            "Hello World!\n",
            "Hello World!\n",
            "Hello World!\n",
            "Hello World!\n"
          ]
        }
      ]
    },
    {
      "cell_type": "markdown",
      "metadata": {
        "id": "qF72zbVSv1wR"
      },
      "source": [
        "Notez comment nous n'assignons la variable 'hello world!' qu'une seule fois, et non à chaque impression.\n",
        "\n",
        "Quelles sont les complexités spatiales et temporelles de cette fonction ?\n",
        "\n",
        "Voyons un exemple de complexité spatiale **O(n)** :"
      ]
    },
    {
      "cell_type": "code",
      "metadata": {
        "id": "iXXdLh10z899"
      },
      "source": [
        "def create_list(n):\n",
        "  new_list = []\n",
        "\n",
        "  for num in range(n):\n",
        "    new_list.append('new')\n",
        "\n",
        "  return new_list"
      ],
      "execution_count": null,
      "outputs": []
    },
    {
      "cell_type": "code",
      "metadata": {
        "id": "-rWg47_h0NHJ",
        "colab": {
          "base_uri": "https://localhost:8080/"
        },
        "outputId": "cfd3cec7-9061-4ef4-a23e-a61d53de9f42"
      },
      "source": [
        "print create_list(5)"
      ],
      "execution_count": null,
      "outputs": [
        {
          "output_type": "stream",
          "text": [
            "['new', 'new', 'new', 'new', 'new']\n"
          ],
          "name": "stdout"
        }
      ]
    },
    {
      "cell_type": "markdown",
      "metadata": {
        "id": "rmiJQPJTv1wS"
      },
      "source": [
        "Notez comment la taille de l'objet new_list évolue avec l'entrée **n**, cela montre qu'il s'agit d'un algorithme O(n) en ce qui concerne la complexité **spatiale**.\n",
        "_____\n",
        "\n",
        "C'est tout pour cette leçon, avant de continuer, assurez-vous de terminer le devoir à la maison ci-dessous :"
      ]
    },
    {
      "cell_type": "markdown",
      "metadata": {
        "id": "Q1THoZzcv1wT"
      },
      "source": [
        "# Devoir\n",
        "\n",
        "Votre devoir à la maison après cette leçon est de lire les explications fantastiques de Big-O à ces deux sources :\n",
        "\n",
        "* [Big-O Notation Explained](http://stackoverflow.com/questions/487258/plain-english-explanation-of-big-o/487278#487278)\n",
        "\n",
        "* [Big-O Examples Explained](http://stackoverflow.com/questions/2307283/what-does-olog-n-mean-exactly)"
      ]
    },
    {
      "cell_type": "markdown",
      "metadata": {
        "id": "tnzKgap57Ugy"
      },
      "source": [
        "O(1) Constant"
      ]
    },
    {
      "cell_type": "code",
      "metadata": {
        "id": "1XLUgxtj7QZD"
      },
      "source": [
        "def func_constant(values):\n",
        "  print values[0]"
      ],
      "execution_count": null,
      "outputs": []
    },
    {
      "cell_type": "markdown",
      "source": [
        "On dit que cette fonction a une complexité temporelle de O(1), également appelée **Temps Constant**. En effet, quelle que soit la taille de la liste d'entrée (`values`), la fonction effectue toujours la même opération unique : saisir le premier élément et l'afficher. Le temps nécessaire à l'exécution de cette fonction reste constant, quelle que soit la taille de l'entrée."
      ],
      "metadata": {
        "id": "PCWLN7BBLmXC"
      }
    },
    {
      "cell_type": "code",
      "metadata": {
        "id": "3WrFliwf7bHm",
        "colab": {
          "base_uri": "https://localhost:8080/"
        },
        "outputId": "d6f83f69-4558-418a-bb6f-f9ea2818f4a1"
      },
      "source": [
        "lst = [1,2,3]\n",
        "func_constant(lst)"
      ],
      "execution_count": null,
      "outputs": [
        {
          "output_type": "stream",
          "text": [
            "1\n"
          ],
          "name": "stdout"
        }
      ]
    },
    {
      "cell_type": "markdown",
      "metadata": {
        "id": "JjodBeTQ7jLw"
      },
      "source": [
        "O(n) Linéaire"
      ]
    },
    {
      "cell_type": "code",
      "metadata": {
        "id": "EB7ybj9y7rJ-"
      },
      "source": [
        "def func_lin(lst):\n",
        "\n",
        "  for val in lst:\n",
        "    print val"
      ],
      "execution_count": null,
      "outputs": []
    },
    {
      "cell_type": "markdown",
      "source": [
        "Cette fonction a une complexité temporelle de O(n), également appelée **Temps Linéaire**.\n",
        "\n",
        "**Pourquoi?**\n",
        "\n",
        "*  La boucle itère sur chaque élément de la liste d'entrée `lst`.\n",
        "*  Si la liste a **n** éléments, la boucle s'exécutera **n** fois.\n",
        "*  Par conséquent, le temps nécessaire à l'exécution de la fonction est directement proportionnel au nombre d'éléments dans la liste d'entrée.\n",
        "\n",
        "**Exemple** :\n",
        "\n",
        "*  Si `lst` a 3 éléments, la boucle s'exécutera 3 fois.\n",
        "*  Si `lst` a 100 éléments, la boucle s'exécutera 100 fois.\n",
        "À mesure que la taille de l'entrée (lst) augmente, le nombre d'opérations effectuées par la fonction augmente au même rythme. C'est ce qui définit une complexité temporelle linéaire."
      ],
      "metadata": {
        "id": "wWafC0Y9MLGu"
      }
    },
    {
      "cell_type": "code",
      "metadata": {
        "id": "ZsyBQxQZ7wyN",
        "colab": {
          "base_uri": "https://localhost:8080/"
        },
        "outputId": "95d8f201-7332-4fcb-8550-6c418a94b90b"
      },
      "source": [
        "func_lin(lst)"
      ],
      "execution_count": null,
      "outputs": [
        {
          "output_type": "stream",
          "text": [
            "1\n",
            "2\n",
            "3\n"
          ],
          "name": "stdout"
        }
      ]
    },
    {
      "cell_type": "markdown",
      "metadata": {
        "id": "C3l7iIjN7m0-"
      },
      "source": [
        "O(n²) Quadratique"
      ]
    },
    {
      "cell_type": "code",
      "metadata": {
        "id": "L7-mqL4W7fth"
      },
      "source": [
        "def func_quad(lst):\n",
        "\n",
        "  for item_1 in lst:\n",
        "    for item_2 in lst:\n",
        "      print item_1,item_2"
      ],
      "execution_count": null,
      "outputs": []
    },
    {
      "cell_type": "markdown",
      "source": [
        "**Pourquoi est-ce O(n²) ?**\n",
        "\n",
        "* **Taille de l'entrée** : Supposons que la liste d'entrée `lst` ait `n` éléments.\n",
        "*  **Boucle externe** : La boucle externe s'exécutera `n` fois (une fois pour chaque élément de la liste).\n",
        "*  **Boucle interne** : Pour chaque itération de la boucle externe, la boucle interne s'exécute également `n` fois.\n",
        "*  **Opérations totales** : Cela se traduit par un total de n * n (ou n^2) opérations exécutées.\n",
        "\n",
        "Le temps d'exécution de la fonction augmente proportionnellement au carré de la taille de l'entrée. Si la liste a 3 éléments, elle effectue environ 3\\*3 = 9 opérations. Si la liste a 10 éléments, elle effectue environ 10*10 = 100 opérations.\n",
        "\n",
        "**Importance de comprendre O(n^2)**\n",
        "\n",
        "Une complexité temporelle quadratique peut devenir inefficace très rapidement à mesure que la taille de l'entrée augmente. Il est essentiel d'en tenir compte lorsque l'on traite de grands ensembles de données, car le temps d'exécution peut augmenter considérablement, ce qui a un impact sur les performances.\n",
        "\n"
      ],
      "metadata": {
        "id": "kWigfE2eNU5W"
      }
    },
    {
      "cell_type": "code",
      "metadata": {
        "id": "XiQplpYl8Cy2",
        "colab": {
          "base_uri": "https://localhost:8080/"
        },
        "outputId": "5807e8a0-5d6e-499e-a469-451becdeab45"
      },
      "source": [
        "lst = [1,2,3]\n",
        "\n",
        "func_quad(lst)"
      ],
      "execution_count": null,
      "outputs": [
        {
          "output_type": "stream",
          "text": [
            "1 1\n",
            "1 2\n",
            "1 3\n",
            "2 1\n",
            "2 2\n",
            "2 3\n",
            "3 1\n",
            "3 2\n",
            "3 3\n"
          ],
          "name": "stdout"
        }
      ]
    },
    {
      "cell_type": "code",
      "metadata": {
        "id": "AeMIo1Xl8HKW"
      },
      "source": [
        "def print_once(lst): # O(n)\n",
        "\n",
        "  for val in lst:\n",
        "    print val"
      ],
      "execution_count": null,
      "outputs": []
    },
    {
      "cell_type": "code",
      "metadata": {
        "id": "R8OQefUE8a91",
        "colab": {
          "base_uri": "https://localhost:8080/"
        },
        "outputId": "abaff2db-a980-4c17-929b-1a5e74cd67b7"
      },
      "source": [
        "print_once(lst)"
      ],
      "execution_count": null,
      "outputs": [
        {
          "output_type": "stream",
          "text": [
            "1\n",
            "2\n",
            "3\n"
          ],
          "name": "stdout"
        }
      ]
    },
    {
      "cell_type": "code",
      "metadata": {
        "id": "gUsJ7dIQ8dbY"
      },
      "source": [
        "def print_2(lst): #O(n) O(2n)\n",
        "\n",
        "  for val in lst:\n",
        "    print val\n",
        "\n",
        "  for val in lst:\n",
        "    print val"
      ],
      "execution_count": null,
      "outputs": []
    },
    {
      "cell_type": "code",
      "metadata": {
        "id": "U1VDp6Z-8mW-",
        "colab": {
          "base_uri": "https://localhost:8080/"
        },
        "outputId": "1ca5f7ea-f318-4032-e3ed-7973adbcb1a2"
      },
      "source": [
        "print_2(lst)"
      ],
      "execution_count": null,
      "outputs": [
        {
          "output_type": "stream",
          "text": [
            "1\n",
            "2\n",
            "3\n",
            "1\n",
            "2\n",
            "3\n"
          ],
          "name": "stdout"
        }
      ]
    },
    {
      "cell_type": "markdown",
      "metadata": {
        "id": "cNWEEuOs95nm"
      },
      "source": [
        "# O(1 + n/2 + 10)"
      ]
    },
    {
      "cell_type": "code",
      "metadata": {
        "id": "Rq0GX34e8oe8"
      },
      "source": [
        "def comp(lst):\n",
        "\n",
        "  print lst[0] # O(1)\n",
        "\n",
        "  #### 0(n/2) ... 0( 1/2 * n )\n",
        "  midpoint = len(lst)/2\n",
        "\n",
        "  for val in lst[:midpoint]:\n",
        "    print val\n",
        "  ####\n",
        "\n",
        "  for x in range(10): # 0(10)\n",
        "    print 'hello world'"
      ],
      "execution_count": null,
      "outputs": []
    },
    {
      "cell_type": "code",
      "metadata": {
        "id": "bffTLQZQ9Rbd",
        "colab": {
          "base_uri": "https://localhost:8080/"
        },
        "outputId": "2d1e4c0c-96ed-4504-b66c-53efbece68da"
      },
      "source": [
        "lst = [1,2,3,4,5,6,7,8,9,10]\n",
        "\n",
        "comp(lst)"
      ],
      "execution_count": null,
      "outputs": [
        {
          "output_type": "stream",
          "text": [
            "1\n",
            "1\n",
            "2\n",
            "3\n",
            "4\n",
            "5\n",
            "hello world\n",
            "hello world\n",
            "hello world\n",
            "hello world\n",
            "hello world\n",
            "hello world\n",
            "hello world\n",
            "hello world\n",
            "hello world\n",
            "hello world\n"
          ],
          "name": "stdout"
        }
      ]
    },
    {
      "cell_type": "markdown",
      "source": [
        "# O(n)"
      ],
      "metadata": {
        "id": "20-13s4RpuT6"
      }
    },
    {
      "cell_type": "code",
      "metadata": {
        "id": "mEgmJ6C59cRO"
      },
      "source": [
        "def matcher(lst,match):\n",
        "\n",
        "  for item in lst:\n",
        "    if item == match:\n",
        "      return True\n",
        "\n",
        "  return False"
      ],
      "execution_count": null,
      "outputs": []
    },
    {
      "cell_type": "markdown",
      "source": [
        "La complexité temporelle de cette fonction est généralement considérée comme **O(n)**. Voici pourquoi :\n",
        "\n",
        "**Pire cas O(n)** : Si l'élément `match` ne se trouve pas dans la liste ou se trouve à la toute fin, la fonction devra parcourir chaque élément de la `lst` avant de renvoyer `False`.\n",
        "\n",
        "**Meilleur cas O(1)** : Si l'élément `match` est trouvé au début de la `lst`.\n",
        "\n",
        "En général, vous considéreriez le cas moyen comme étant O(n) car, en moyenne, vous vous attendriez à parcourir environ la moitié de la liste.\n",
        "\n",
        "En substance, cette fonction effectue une recherche linéaire, ce qui signifie qu'elle examine chaque élément de la liste un par un jusqu'à ce qu'elle trouve la valeur souhaitée ou atteigne la fin. C'est un algorithme courant et fondamental utilisé pour la recherche dans les structures de données."
      ],
      "metadata": {
        "id": "wtsDvseqS_rB"
      }
    },
    {
      "cell_type": "code",
      "metadata": {
        "id": "PcdQ0Ezk-Z8k",
        "colab": {
          "base_uri": "https://localhost:8080/"
        },
        "outputId": "a378fe64-a925-4ac1-8a9f-ec0b84141ec9"
      },
      "source": [
        "lst"
      ],
      "execution_count": null,
      "outputs": [
        {
          "output_type": "execute_result",
          "data": {
            "text/plain": [
              "[1, 2, 3, 4, 5, 6, 7, 8, 9, 10]"
            ]
          },
          "metadata": {
            "tags": []
          },
          "execution_count": 31
        }
      ]
    },
    {
      "cell_type": "code",
      "metadata": {
        "id": "9cIwaSna-bML",
        "colab": {
          "base_uri": "https://localhost:8080/"
        },
        "outputId": "b0cf555d-11e4-4a7c-9eac-69f820b6cd55"
      },
      "source": [
        "matcher(lst,1) #O(1)"
      ],
      "execution_count": null,
      "outputs": [
        {
          "output_type": "execute_result",
          "data": {
            "text/plain": [
              "True"
            ]
          },
          "metadata": {
            "tags": []
          },
          "execution_count": 32
        }
      ]
    },
    {
      "cell_type": "code",
      "metadata": {
        "id": "t896J0Mu-dQ_",
        "colab": {
          "base_uri": "https://localhost:8080/"
        },
        "outputId": "9ad79236-c8cb-4435-a109-87cdd7776e68"
      },
      "source": [
        "matcher(lst,11) #O(n)"
      ],
      "execution_count": null,
      "outputs": [
        {
          "output_type": "execute_result",
          "data": {
            "text/plain": [
              "False"
            ]
          },
          "metadata": {
            "tags": []
          },
          "execution_count": 33
        }
      ]
    },
    {
      "cell_type": "code",
      "metadata": {
        "id": "Veux3M8b-fdX"
      },
      "source": [
        "def create_list(n):\n",
        "\n",
        "  new_list = []\n",
        "\n",
        "  for num in range(n):\n",
        "    new_list.append('new')\n",
        "\n",
        "  return new_list"
      ],
      "execution_count": null,
      "outputs": []
    },
    {
      "cell_type": "markdown",
      "source": [
        "**Pourquoi O(n) ?**\n",
        "\n",
        "La complexité spatiale de cette fonction est **O(n)** car la quantité de mémoire qu'elle utilise est directement proportionnelle à l'entrée `n`.\n",
        "\n",
        "*  Lorsque `n` augmente, la taille de `new_list` augmente linéairement. Si `n` est 5, la liste contiendra 5 éléments. Si `n` est 1000, elle contiendra 1000 éléments.\n",
        "*  Cette relation linéaire entre l'entrée et la mémoire utilisée classe la fonction comme ayant une complexité spatiale O(n).\n",
        "\n",
        "En termes plus simples, plus l'entrée `n` est grande, plus la fonction a besoin de mémoire pour stocker la liste résultante."
      ],
      "metadata": {
        "id": "YzknLeudbZT_"
      }
    },
    {
      "cell_type": "code",
      "metadata": {
        "id": "JyiKb3js-_92",
        "colab": {
          "base_uri": "https://localhost:8080/"
        },
        "outputId": "5db0e6b9-1846-4283-8752-4ad3a3183b05"
      },
      "source": [
        "create_list(5)"
      ],
      "execution_count": null,
      "outputs": [
        {
          "output_type": "execute_result",
          "data": {
            "text/plain": [
              "['new', 'new', 'new', 'new', 'new']"
            ]
          },
          "metadata": {
            "tags": []
          },
          "execution_count": 35
        }
      ]
    },
    {
      "cell_type": "code",
      "metadata": {
        "id": "CRtSCFSS_B7Y"
      },
      "source": [
        "def printer(n):\n",
        "\n",
        "  for x in range(10): # Time Complexity O(n)\n",
        "    print 'Hello World!' # Space Complexity O(1)"
      ],
      "execution_count": null,
      "outputs": []
    },
    {
      "cell_type": "code",
      "metadata": {
        "id": "bvuPpkq9_MNP",
        "colab": {
          "base_uri": "https://localhost:8080/"
        },
        "outputId": "f6756198-f30d-4715-f399-904144d1d677"
      },
      "source": [
        "printer(10)"
      ],
      "execution_count": null,
      "outputs": [
        {
          "output_type": "stream",
          "text": [
            "Hello World!\n",
            "Hello World!\n",
            "Hello World!\n",
            "Hello World!\n",
            "Hello World!\n",
            "Hello World!\n",
            "Hello World!\n",
            "Hello World!\n",
            "Hello World!\n",
            "Hello World!\n"
          ],
          "name": "stdout"
        }
      ]
    },
    {
      "cell_type": "markdown",
      "source": [
        "`Complexité temporelle`\n",
        "\n",
        "*  **Définition** : La complexité temporelle mesure le temps qu'un algorithme prend pour s'exécuter en fonction de la taille de l'entrée.\n",
        "*  **Focus** : Elle se concentre sur le nombre d'opérations effectuées par l'algorithme (comparaisons, assignations, opérations arithmétiques, etc.).\n",
        "*  **Notation** : On utilise la notation Big O (ex: O(n), O(n^2), O(log n)) pour exprimer la complexité temporelle.\n",
        "*  **Objectif** : L'objectif est d'estimer combien de temps un algorithme prendra à s'exécuter pour des entrées de différentes tailles.\n",
        "\n",
        "**Complexité spatiale**\n",
        "\n",
        "*  **Définition** : La complexité spatiale mesure la quantité de mémoire qu'un algorithme utilise en fonction de la taille de l'entrée.\n",
        "*  **Focus** : Elle se concentre sur l'espace mémoire utilisé par l'algorithme pour stocker des données, des variables, et d'autres structures.\n",
        "*  **Notation** : On utilise également la notation Big O pour exprimer la complexité spatiale.\n",
        "*  **Objectif** : L'objectif est d'estimer combien de mémoire un algorithme aura besoin pour s'exécuter pour des entrées de différentes tailles.\n",
        "\n",
        "**En résumé** :\n",
        "\n",
        "*  **Complexité temporelle** : Combien de temps prend l'algorithme ?\n",
        "*  **Complexité spatiale** : Combien de mémoire utilise l'algorithme ?\n",
        "\n",
        "Exemple :\n",
        "\n",
        "Imaginez un algorithme qui trie une liste de nombres.\n",
        "\n",
        "*  **Complexité temporelle** : Elle serait liée au nombre de comparaisons et d'échanges effectués pour trier la liste.\n",
        "*  **Complexité spatiale** : Elle serait liée à la quantité de mémoire supplémentaire utilisée par l'algorithme pendant le tri (par exemple, si l'algorithme crée une nouvelle liste pour stocker les nombres triés).\n",
        "\n",
        "**Pourquoi ces deux complexités sont-elles importantes ?**\n",
        "\n",
        "En informatique, il est crucial de choisir des algorithmes efficaces à la fois en termes de temps et d'espace. Un algorithme peut être rapide mais utiliser beaucoup de mémoire, ou inversement. L'analyse de la complexité temporelle et spatiale aide à prendre des décisions éclairées sur le choix des algorithmes en fonction des contraintes de ressources."
      ],
      "metadata": {
        "id": "xq1TlieGcFe7"
      }
    }
  ]
}