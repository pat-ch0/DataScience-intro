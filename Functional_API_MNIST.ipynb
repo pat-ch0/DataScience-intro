{
  "nbformat": 4,
  "nbformat_minor": 0,
  "metadata": {
    "colab": {
      "provenance": [],
      "include_colab_link": true
    },
    "kernelspec": {
      "name": "python3",
      "display_name": "Python 3"
    }
  },
  "cells": [
    {
      "cell_type": "markdown",
      "metadata": {
        "id": "view-in-github",
        "colab_type": "text"
      },
      "source": [
        "<a href=\"https://colab.research.google.com/github/pat-ch0/DataScience-intro/blob/main/Functional_API_MNIST.ipynb\" target=\"_parent\"><img src=\"https://colab.research.google.com/assets/colab-badge.svg\" alt=\"Open In Colab\"/></a>"
      ]
    },
    {
      "cell_type": "markdown",
      "metadata": {
        "id": "PkTmc4FVJDAN"
      },
      "source": [
        "# Loading the MNIST data"
      ]
    },
    {
      "cell_type": "code",
      "metadata": {
        "id": "77ObZYZY2KFa",
        "outputId": "595848ef-d794-4244-b5ee-a12d53fa0d40",
        "colab": {
          "base_uri": "https://localhost:8080/"
        }
      },
      "source": [
        "from keras.datasets import mnist\n",
        "(train_images, train_labels), (test_images, test_labels) = mnist.load_data()"
      ],
      "execution_count": 1,
      "outputs": [
        {
          "output_type": "stream",
          "name": "stdout",
          "text": [
            "Downloading data from https://storage.googleapis.com/tensorflow/tf-keras-datasets/mnist.npz\n",
            "\u001b[1m11490434/11490434\u001b[0m \u001b[32m━━━━━━━━━━━━━━━━━━━━\u001b[0m\u001b[37m\u001b[0m \u001b[1m1s\u001b[0m 0us/step\n"
          ]
        }
      ]
    },
    {
      "cell_type": "code",
      "source": [
        "plt.imshow(test_images[0])"
      ],
      "metadata": {
        "id": "XAJe-0yiNchM",
        "outputId": "8cce8734-0054-4522-c0d5-b627893c5c05",
        "colab": {
          "base_uri": "https://localhost:8080/",
          "height": 447
        }
      },
      "execution_count": null,
      "outputs": [
        {
          "output_type": "execute_result",
          "data": {
            "text/plain": [
              "<matplotlib.image.AxesImage at 0x7914523d3610>"
            ]
          },
          "metadata": {},
          "execution_count": 56
        },
        {
          "output_type": "display_data",
          "data": {
            "text/plain": [
              "<Figure size 640x480 with 1 Axes>"
            ],
            "image/png": "[encoded data removed]"
          },
          "metadata": {}
        }
      ]
    },
    {
      "cell_type": "markdown",
      "metadata": {
        "id": "s4DJ8s7cJKLa"
      },
      "source": [
        "# Preparing the data"
      ]
    },
    {
      "cell_type": "code",
      "metadata": {
        "id": "vNBwgWDjI-yT"
      },
      "source": [
        "train_images = train_images.reshape((60000, 28 * 28))\n",
        "train_images = train_images.astype('float32') / 255\n",
        "test_images = test_images.reshape((10000, 28 * 28))\n",
        "test_images = test_images.astype('float32') / 255\n",
        "\n",
        "from keras.utils import to_categorical\n",
        "train_labels = to_categorical(train_labels)\n",
        "test_labels = to_categorical(test_labels)"
      ],
      "execution_count": null,
      "outputs": []
    },
    {
      "cell_type": "markdown",
      "source": [
        "*  `train_images.reshape((60000, 28 * 28))` redimensionne le tableau `train_images`. Les images MNIST sont à l'origine de 28x28 pixels. Cette ligne aplatit chaque image en un vecteur à 784 dimensions (28 * 28 = 784). Le 60000 représente le nombre d'images d'entraînement.\n",
        "*  `train_images.astype('float32') / 255` convertit le type de données de `train_images` en `float32` et met à l'échelle les valeurs des pixels sur une plage comprise entre 0 et 1. Les valeurs des pixels dans les images varient généralement de 0 à 255. La division par 255 normalise les données, ce qui peut améliorer les performances du réseau de neurones."
      ],
      "metadata": {
        "id": "EGjPPqaFGobd"
      }
    },
    {
      "cell_type": "markdown",
      "metadata": {
        "id": "L2iztvr2J-Qq"
      },
      "source": [
        "# Defining the network"
      ]
    },
    {
      "cell_type": "code",
      "metadata": {
        "id": "Pgv1ylhjJ7jS",
        "outputId": "7688fa10-9880-4156-f99b-9788927b780b",
        "colab": {
          "base_uri": "https://localhost:8080/"
        }
      },
      "source": [
        "from keras import models\n",
        "from keras import layers\n",
        "network = models.Sequential()\n",
        "network.add(layers.Dense(512, activation='relu', input_shape=(28 * 28,)))\n",
        "network.add(layers.Dense(10, activation='softmax'))"
      ],
      "execution_count": null,
      "outputs": [
        {
          "output_type": "stream",
          "name": "stderr",
          "text": [
            "/usr/local/lib/python3.11/dist-packages/keras/src/layers/core/dense.py:87: UserWarning: Do not pass an `input_shape`/`input_dim` argument to a layer. When using Sequential models, prefer using an `Input(shape)` object as the first layer in the model instead.\n",
            "  super().__init__(activity_regularizer=activity_regularizer, **kwargs)\n"
          ]
        }
      ]
    },
    {
      "cell_type": "markdown",
      "source": [
        "*  `network = models.Sequential()` : Crée un modèle `Sequential`. Ce type de modèle est un empilement linéaire de couches, ce qui signifie que les données traversent chaque couche de manière séquentielle. C'est une façon simple et courante de construire des réseaux neuronaux, en particulier pour des tâches comme la classification d'images.\n",
        "*  `network.add(layers.Dense(512, activation='relu', input_shape=(28 * 28,)))` ajoute la première couche au modèle.\n",
        "*  `network.add(layers.Dense(10, activation='softmax'))` ajoute la dernière couche, qui est la couche de sortie du réseau.\n",
        "  *  `10` : Cette couche a 10 neurones, correspondant aux 10 classes de chiffres possibles (0-9) dans le jeu de données MNIST.\n",
        "  *  `activation='softmax'` : La fonction d'activation est **softmax**. Softmax est couramment utilisé dans la couche de sortie pour les **problèmes de classification multiclasse**. Il convertit la sortie brute des neurones en probabilités, où chaque probabilité représente la probabilité que l'entrée appartienne à une classe particulière. La classe avec la probabilité la plus élevée est la prédiction du modèle.\n",
        "\n",
        "Ce code définit un réseau neuronal simple avec deux couches : une couche cachée avec 512 neurones et une activation ReLU, suivie d'une couche de sortie avec 10 neurones et une activation softmax. Cette structure est adaptée à la classification des chiffres manuscrits MNIST."
      ],
      "metadata": {
        "id": "XPCc9RqMH00d"
      }
    },
    {
      "cell_type": "markdown",
      "metadata": {
        "id": "1B-SlLTF8MAO"
      },
      "source": [
        "## The functional API: Defining the network"
      ]
    },
    {
      "cell_type": "markdown",
      "metadata": {
        "id": "jbJJ8roV9GwI"
      },
      "source": [
        "### Chargement de Keras et définition de la couche d'entrée"
      ]
    },
    {
      "cell_type": "code",
      "metadata": {
        "id": "DMxB1gUk71P3"
      },
      "source": [
        "from tensorflow import keras\n",
        "\n",
        "# specify the shape of each data sample: 784-dimensional vectors\n",
        "inputs = keras.Input(shape=(784,), name='img')\n",
        "# the batch size is always omitted: inputs = keras.Input(shape=(784,))"
      ],
      "execution_count": null,
      "outputs": []
    },
    {
      "cell_type": "markdown",
      "source": [
        "*  `keras.Input` : Cette fonction crée le nœud d'entrée.\n",
        "*  `shape=(784,)` : Cet argument définit la forme des données que le modèle attendra. `(784,)` signifie que chaque échantillon de données d'entrée sera un vecteur à 784 dimensions. Dans le contexte de MNIST, cela représente une image de 28x28 pixels aplatie (28 * 28 = 784).\n",
        "`name='img'` : Il s'agit d'un argument optionnel qui donne un nom au nœud d'entrée, ce qui facilite la compréhension de la structure de votre modèle.\n",
        "\n",
        "Lors de la définition de la forme d'entrée, vous spécifiez uniquement les dimensions d'un seul échantillon de données. La taille du lot (le nombre d'échantillons traités à la fois pendant l'entraînement) est gérée automatiquement par Keras et n'est pas incluse dans la forme d'entrée."
      ],
      "metadata": {
        "id": "9-_OsVdX03uW"
      }
    },
    {
      "cell_type": "markdown",
      "metadata": {
        "id": "fAELFcoJ965f"
      },
      "source": [
        "### Création d'une couche Dense"
      ]
    },
    {
      "cell_type": "code",
      "metadata": {
        "id": "ErYFbrQs-Fwt"
      },
      "source": [
        "# calling a layer on this inputs object\n",
        "from tensorflow.keras import layers\n",
        "\n",
        "# drawing an arrow from \"inputs\" to this layer we created\n",
        "dense = layers.Dense(64, activation='relu')\n",
        "# \"passing\" the inputs to the dense layer, and out we get x\n",
        "x = dense(inputs)"
      ],
      "execution_count": null,
      "outputs": []
    },
    {
      "cell_type": "markdown",
      "source": [
        "1. `from tensorflow.keras import layers` importe le module `layers` de `tensorflow.keras`. Ce module fournit divers blocs de construction pour la construction de réseaux de neurones, y compris la couche `Dense`.\n",
        "2. `dense = layers.Dense(64, activation='relu')` crée une couche Dense et l'affecte à la variable `dense`.\n",
        "*  Une couche **Dense** est un type de couche où chaque neurone est connecté à chaque neurone de la couche précédente. Elle est également appelée couche entièrement connectée.\n",
        "*  `64` spécifie le nombre de neurones (également appelés unités) dans cette couche.\n",
        "*  `activation='relu'` définit la fonction d'activation de cette couche sur **ReLU** (Rectified Linear Unit). Les fonctions d'activation introduisent une non-linéarité dans le réseau, ce qui est crucial pour apprendre des modèles complexes. ReLU est une fonction d'activation populaire.\n",
        "*  `x = dense(inputs)` connecte la couche dense que nous venons de créer aux inputs du modèle (définis précédemment comme `keras.Input`).\n",
        "Imaginez que vous dessinez une flèche du nœud `inputs` vers la couche `dense` dans la structure du réseau.\n",
        "La sortie de cette couche `dense` est affectée à la variable `x`. Ce `x` représente maintenant les données d'entrée transformées après avoir traversé la couche dense."
      ],
      "metadata": {
        "id": "MsstnN4L2Nbm"
      }
    },
    {
      "cell_type": "markdown",
      "metadata": {
        "id": "INrUXTjd-t-U"
      },
      "source": [
        "### add a few more layers to the graph of layers"
      ]
    },
    {
      "cell_type": "code",
      "metadata": {
        "id": "sh-HvG-k_A8J"
      },
      "source": [
        "x = layers.Dense(64, activation='relu')(x)\n",
        "outputs = layers.Dense(10, activation='softmax')(x)"
      ],
      "execution_count": null,
      "outputs": []
    },
    {
      "cell_type": "markdown",
      "source": [
        "1. Une couche cachée avec 64 neurones et une activation ReLU.\n",
        "\n",
        "  * `layers.Dense(64, activation='relu')` : Cela crée une nouvelle couche Dense.\n",
        "\n",
        "    *  `64` : Il s'agit du nombre de neurones (ou unités) dans cette couche.\n",
        "    *  `activation='relu'` : Cela spécifie que la fonction d'activation de la couche est ReLU (Rectified Linear Unit). ReLU introduit une non-linéarité dans le réseau, ce qui est crucial pour apprendre des modèles complexes.\n",
        "  *  `(x)` : Cette partie est l'endroit où l'API fonctionnelle entre en jeu. Elle connecte essentiellement la sortie précédemment définie (`x`) à cette nouvelle couche Dense en tant qu'entrée. Imaginez que vous dessiniez une flèche de la sortie de la couche précédente vers l'entrée de cette nouvelle couche.\n",
        "\n",
        "  *  `x = ...` : La sortie de cette nouvelle couche Dense est réaffectée à la variable `x`. Cela signifie que `x` contient désormais les données transformées après avoir traversé cette couche.\n",
        "\n",
        "2. Une couche de sortie avec 10 neurones et une activation softmax.\n",
        "\n",
        "  *  layers.Dense(10, activation='softmax') :\n",
        "\n",
        "    *  `10` : Cette couche a 10 neurones, ce qui est typique pour une tâche de classification avec 10 classes (comme les chiffres de 0 à 9 dans le jeu de données MNIST).\n",
        "    *  `activation='softmax'` : La fonction d'activation est softmax. Softmax est souvent utilisée dans la couche de sortie des modèles de classification multiclasse. Elle convertit la sortie brute des neurones en probabilités, où chaque probabilité représente la probabilité que l'entrée appartienne à une classe spécifique.\n",
        "  *  `(x)` : Cela connecte la sortie de la couche précédente (stockée dans x) à cette nouvelle couche Dense.\n",
        "\n",
        "  *  `outputs = ...` : La sortie de cette couche Dense finale est affectée à la variable outputs. Cela représente les prédictions finales du modèle."
      ],
      "metadata": {
        "id": "fvAqfxpo7Fbc"
      }
    },
    {
      "cell_type": "markdown",
      "source": [
        "La sortie de la première couche est fournie en entrée à la deuxième couche. La sortie de la deuxième couche (stockée dans outputs) représente les prédictions finales du modèle. Cette structure est typique d'un réseau de neurones simple utilisé pour classer des images comme celles du jeu de données MNIST."
      ],
      "metadata": {
        "id": "-i2DXHXB6zLz"
      }
    },
    {
      "cell_type": "markdown",
      "metadata": {
        "id": "zdpKQSuV_X8P"
      },
      "source": [
        "### create a Model by specifying its inputs and outputs in the graph of layers"
      ]
    },
    {
      "cell_type": "code",
      "metadata": {
        "id": "7YJ5xl7n_d3T"
      },
      "source": [
        "# model = keras.Model(inputs=inputs, outputs=outputs)\n",
        "model = keras.Model(inputs=inputs, outputs=outputs, name='mnist_model')"
      ],
      "execution_count": null,
      "outputs": []
    },
    {
      "cell_type": "markdown",
      "source": [
        "Cette ligne de code assemble toutes les couches que l'on a définies précédemment en un modèle Keras complet, prêt à être entraîné. Elle indique au modèle où les données entrent, comment elles sont transformées à travers les différentes couches et où la sortie finale est produite.\n",
        "\n",
        "Pensez à ce code comme la création du plan d'architecture final de votre réseau de neurones, reliant l'entrée à la sortie en passant par toutes les étapes intermédiaires."
      ],
      "metadata": {
        "id": "vbBgd__M9mAS"
      }
    },
    {
      "cell_type": "markdown",
      "metadata": {
        "id": "k7bcSDA8BnbR"
      },
      "source": [
        "### full model definition process"
      ]
    },
    {
      "cell_type": "code",
      "metadata": {
        "id": "gvxeRj0IBs-2",
        "outputId": "35b45926-7e66-4b8e-dd80-33eddcba8f6f",
        "colab": {
          "base_uri": "https://localhost:8080/",
          "height": 70
        }
      },
      "source": [
        "\"\"\"\n",
        "inputs = keras.Input(shape=(784,), name='img')\n",
        "x = layers.Dense(64, activation='relu')(inputs)\n",
        "x = layers.Dense(64, activation='relu')(x)\n",
        "output = layers.Dense(10, activation='softmax')(x)\n",
        "\n",
        "model = keras.Model(inputs=inputs, outputs=outputs, name='mnist_model')\n",
        "\"\"\""
      ],
      "execution_count": null,
      "outputs": [
        {
          "output_type": "execute_result",
          "data": {
            "text/plain": [
              "\"\\ninputs = keras.Input(shape=(784,), name='img')\\nx = layers.Dense(64, activation='relu')(inputs)\\nx = layers.Dense(64, activation='relu')(x)\\noutput = layers.Dense(10, activation='softmax')(x)\\n\\nmodel = keras.Model(inputs=inputs, outputs=outputs, name='mnist_model')\\n\""
            ],
            "application/vnd.google.colaboratory.intrinsic+json": {
              "type": "string"
            }
          },
          "metadata": {},
          "execution_count": 34
        }
      ]
    },
    {
      "cell_type": "markdown",
      "metadata": {
        "id": "dGLrAwxDDER5"
      },
      "source": [
        "### plot the model as a graph"
      ]
    },
    {
      "cell_type": "markdown",
      "metadata": {
        "id": "BqAAJwSB_ZGg"
      },
      "source": [
        "### display the input and output shapes of each layer"
      ]
    },
    {
      "cell_type": "code",
      "metadata": {
        "id": "eQSnY1dvDYAn",
        "outputId": "f2526cb0-5bc4-4e47-a6ed-507a3f704513",
        "colab": {
          "base_uri": "https://localhost:8080/",
          "height": 1000
        }
      },
      "source": [
        "keras.utils.plot_model(model, 'my_fist_model_with_shape_info.png', \\\n",
        "                       show_shapes=True)"
      ],
      "execution_count": null,
      "outputs": [
        {
          "output_type": "execute_result",
          "data": {
            "image/png": "[encoded data removed]",
            "text/plain": [
              "<IPython.core.display.Image object>"
            ]
          },
          "metadata": {},
          "execution_count": 35
        }
      ]
    },
    {
      "cell_type": "markdown",
      "metadata": {
        "id": "u44zZ3OFKiT6"
      },
      "source": [
        "# Defining the optimizer and the loss"
      ]
    },
    {
      "cell_type": "code",
      "metadata": {
        "id": "h_7VGt2pKedh"
      },
      "source": [
        "network.compile(optimizer='rmsprop', loss='categorical_crossentropy', \\\n",
        "                metrics=['accuracy'])"
      ],
      "execution_count": null,
      "outputs": []
    },
    {
      "cell_type": "markdown",
      "source": [
        "*  Les optimiseurs déterminent comment le réseau met à jour ses poids et ses biais pendant l'entraînement pour minimiser la fonction de perte. Ils contrôlent le processus d'apprentissage, guidant le modèle vers de meilleures prédictions.\n",
        "`'rmsprop'` est un algorithme d'optimisation spécifique appelé RMSprop (Root Mean Square Propagation). Il est connu pour sa capacité à adapter le taux d'apprentissage pour chaque paramètre individuellement, ce qui peut conduire à un entraînement plus rapide et plus stable.\n",
        "*  `['accuracy']` spécifie que nous voulons suivre la précision du modèle, qui est le pourcentage d'exemples correctement classés."
      ],
      "metadata": {
        "id": "eBADeIxcKEaP"
      }
    },
    {
      "cell_type": "code",
      "metadata": {
        "id": "Gtn78lXoK52K",
        "outputId": "5efe68e0-dcc9-425d-bd92-84e4f3a176b5",
        "colab": {
          "base_uri": "https://localhost:8080/"
        }
      },
      "source": [
        "# Training the network\n",
        "network.fit(train_images, train_labels, epochs=5, batch_size=128)"
      ],
      "execution_count": null,
      "outputs": [
        {
          "output_type": "stream",
          "name": "stdout",
          "text": [
            "Epoch 1/5\n",
            "\u001b[1m469/469\u001b[0m \u001b[32m━━━━━━━━━━━━━━━━━━━━\u001b[0m\u001b[37m\u001b[0m \u001b[1m6s\u001b[0m 11ms/step - accuracy: 0.8695 - loss: 0.4474\n",
            "Epoch 2/5\n",
            "\u001b[1m469/469\u001b[0m \u001b[32m━━━━━━━━━━━━━━━━━━━━\u001b[0m\u001b[37m\u001b[0m \u001b[1m5s\u001b[0m 10ms/step - accuracy: 0.9654 - loss: 0.1170\n",
            "Epoch 3/5\n",
            "\u001b[1m469/469\u001b[0m \u001b[32m━━━━━━━━━━━━━━━━━━━━\u001b[0m\u001b[37m\u001b[0m \u001b[1m6s\u001b[0m 12ms/step - accuracy: 0.9786 - loss: 0.0718\n",
            "Epoch 4/5\n",
            "\u001b[1m469/469\u001b[0m \u001b[32m━━━━━━━━━━━━━━━━━━━━\u001b[0m\u001b[37m\u001b[0m \u001b[1m8s\u001b[0m 8ms/step - accuracy: 0.9850 - loss: 0.0516\n",
            "Epoch 5/5\n",
            "\u001b[1m469/469\u001b[0m \u001b[32m━━━━━━━━━━━━━━━━━━━━\u001b[0m\u001b[37m\u001b[0m \u001b[1m5s\u001b[0m 11ms/step - accuracy: 0.9894 - loss: 0.0365\n"
          ]
        },
        {
          "output_type": "execute_result",
          "data": {
            "text/plain": [
              "<keras.src.callbacks.history.History at 0x791461b26110>"
            ]
          },
          "metadata": {},
          "execution_count": 44
        }
      ]
    },
    {
      "cell_type": "markdown",
      "metadata": {
        "id": "eMHLKWKnLjjJ"
      },
      "source": [
        "### Testing the network"
      ]
    },
    {
      "cell_type": "code",
      "metadata": {
        "id": "W5QmqKyLLfed",
        "outputId": "01b5139b-c7e6-4337-9929-a42ef9197d6e",
        "colab": {
          "base_uri": "https://localhost:8080/"
        }
      },
      "source": [
        "test_loss, test_acc = network.evaluate(test_images, test_labels)\n",
        "print('test_acc:', test_acc)"
      ],
      "execution_count": null,
      "outputs": [
        {
          "output_type": "stream",
          "name": "stdout",
          "text": [
            "\u001b[1m313/313\u001b[0m \u001b[32m━━━━━━━━━━━━━━━━━━━━\u001b[0m\u001b[37m\u001b[0m \u001b[1m1s\u001b[0m 2ms/step - accuracy: 0.9749 - loss: 0.0756\n",
            "test_acc: 0.9789000153541565\n"
          ]
        }
      ]
    },
    {
      "cell_type": "markdown",
      "source": [
        "La fonction evaluate renvoie deux valeurs : la test_loss (perte de test) et la test_acc (précision de test). Ces valeurs sont affectées aux variables respectives du côté gauche de l'équation.\n",
        "Ces deux lignes de code mesurent et rapportent les performances du réseau de neurones entraîné sur des données non vues, fournissant un indicateur crucial de sa capacité à généraliser à de nouveaux exemples."
      ],
      "metadata": {
        "id": "KFTyxfMM_0NU"
      }
    },
    {
      "cell_type": "markdown",
      "metadata": {
        "id": "c3bFfo9hEYN0"
      },
      "source": [
        "# demo"
      ]
    },
    {
      "cell_type": "code",
      "metadata": {
        "id": "JXRN969OEc_y",
        "outputId": "197ae8f8-b469-455b-ce40-391ff837bd81",
        "colab": {
          "base_uri": "https://localhost:8080/"
        }
      },
      "source": [
        "(x_train, y_train), (x_test, y_test) = keras.datasets.mnist.load_data()\n",
        "x_train = x_train.reshape(60000, 784).astype('float32') / 255\n",
        "x_test = x_test.reshape(10000, 784).astype('float32') / 255\n",
        "\n",
        "# 'sparse_categorical_crossentropy prend des entiers iso one-hot encoding\n",
        "model.compile(loss='sparse_categorical_crossentropy',\n",
        "              optimizer=keras.optimizers.RMSprop(),\n",
        "              metrics=['accuracy'])\n",
        "history = model.fit(x_train, y_train,\n",
        "                    batch_size=64,\n",
        "                    epochs=5,\n",
        "                    validation_split=0.2)\n",
        "test_scores = model.evaluate(x_test, y_test, verbose=2)\n",
        "print('Test loss:', test_scores[0])\n",
        "print('Test accuracy:', test_scores[1])"
      ],
      "execution_count": null,
      "outputs": [
        {
          "output_type": "stream",
          "name": "stdout",
          "text": [
            "Epoch 1/5\n",
            "\u001b[1m750/750\u001b[0m \u001b[32m━━━━━━━━━━━━━━━━━━━━\u001b[0m\u001b[37m\u001b[0m \u001b[1m4s\u001b[0m 4ms/step - accuracy: 0.8354 - loss: 0.5848 - val_accuracy: 0.9430 - val_loss: 0.1951\n",
            "Epoch 2/5\n",
            "\u001b[1m750/750\u001b[0m \u001b[32m━━━━━━━━━━━━━━━━━━━━\u001b[0m\u001b[37m\u001b[0m \u001b[1m4s\u001b[0m 3ms/step - accuracy: 0.9487 - loss: 0.1749 - val_accuracy: 0.9581 - val_loss: 0.1412\n",
            "Epoch 3/5\n",
            "\u001b[1m750/750\u001b[0m \u001b[32m━━━━━━━━━━━━━━━━━━━━\u001b[0m\u001b[37m\u001b[0m \u001b[1m2s\u001b[0m 3ms/step - accuracy: 0.9619 - loss: 0.1250 - val_accuracy: 0.9613 - val_loss: 0.1275\n",
            "Epoch 4/5\n",
            "\u001b[1m750/750\u001b[0m \u001b[32m━━━━━━━━━━━━━━━━━━━━\u001b[0m\u001b[37m\u001b[0m \u001b[1m3s\u001b[0m 4ms/step - accuracy: 0.9706 - loss: 0.0969 - val_accuracy: 0.9635 - val_loss: 0.1129\n",
            "Epoch 5/5\n",
            "\u001b[1m750/750\u001b[0m \u001b[32m━━━━━━━━━━━━━━━━━━━━\u001b[0m\u001b[37m\u001b[0m \u001b[1m3s\u001b[0m 4ms/step - accuracy: 0.9772 - loss: 0.0750 - val_accuracy: 0.9672 - val_loss: 0.1168\n",
            "313/313 - 0s - 2ms/step - accuracy: 0.9690 - loss: 0.1000\n",
            "Test loss: 0.0999896302819252\n",
            "Test accuracy: 0.968999981880188\n"
          ]
        }
      ]
    },
    {
      "cell_type": "markdown",
      "source": [
        "*  `model.compile(...)` configure le modèle pour l'entraînement.\n",
        "  *  `loss='sparse_categorical_crossentropy'` : Définit la fonction de perte, utilisée pour mesurer l'erreur du modèle pendant l'entraînement. `sparse_categorical_crossentropy` est adaptée à la classification multiclasse avec des étiquettes entières (non encodées en \"one-hot\").\n",
        "  *  `optimizer=keras.optimizers.RMSprop()` : Définit l'optimiseur, qui ajuste les paramètres du modèle pour minimiser la fonction de perte. RMSprop est un algorithme d'optimisation courant.\n",
        "  *  `metrics=['accuracy']` : Définit les métriques à surveiller pendant l'entraînement et l'évaluation. Ici, on utilise la précision (`accuracy`) pour évaluer la performance du modèle."
      ],
      "metadata": {
        "id": "HH1yS4GCAu2g"
      }
    },
    {
      "cell_type": "markdown",
      "metadata": {
        "id": "Pkz2Wrj6JdcD"
      },
      "source": [
        "# Saving and serialization"
      ]
    },
    {
      "cell_type": "code",
      "metadata": {
        "id": "zIZB2ip8Jkjy"
      },
      "source": [
        "model.save('path_to_my_model.h5')\n",
        "\n",
        "# Recreate the exact same model purely from the file\n",
        "model = keras.models.load_model('path_to_my_model.h5')"
      ],
      "execution_count": null,
      "outputs": []
    },
    {
      "cell_type": "markdown",
      "source": [
        "*  `model.save()` est utilisée pour sauvegarder le modèle Keras.\n",
        "*  `'path_to_my_model.h5'` est le chemin où le modèle sera sauvegardé. Le `.h5` indique que le modèle sera sauvegardé dans un format de fichier HDF5 (à ne pas confondre avec le système de fichiers distribué HDFS :) . HDF5 est un format de fichier standard pour stocker de grandes quantités de données numériques, souvent utilisé en science des données et en apprentissage automatique.\n",
        "En exécutant cette ligne, votre modèle, incluant son architecture, ses poids et son optimiseur, est sauvegardé dans le fichier 'path_to_my_model.h5'.\n",
        "\n",
        "`keras.models.load_model()` est utilisée pour charger un modèle Keras précédemment sauvegardé.\n",
        "`'path_to_my_model.h5'` est le chemin du fichier contenant le modèle sauvegardé.\n",
        "Cette ligne charge le modèle qui a été sauvegardé précédemment dans la variable model. Vous pouvez maintenant réutiliser ce modèle sans avoir à le re-entraîner."
      ],
      "metadata": {
        "id": "ok5eTQldBtyo"
      }
    },
    {
      "cell_type": "markdown",
      "metadata": {
        "id": "2lhX5ttuKTTA"
      },
      "source": [
        "# end-to-end autoencoder model for training"
      ]
    },
    {
      "cell_type": "code",
      "metadata": {
        "id": "1zdc0aTRKVIL"
      },
      "source": [
        "encoder_input = keras.Input(shape=(28, 28, 1), name='img')\n",
        "x = layers.Conv2D(16, 3, activation='relu')(encoder_input)\n",
        "x = layers.Conv2D(32, 3, activation='relu')(x)\n",
        "x = layers.MaxPooling2D(3)(x)\n",
        "x = layers.Conv2D(32, 3, activation='relu')(x)\n",
        "x = layers.Conv2D(16, 3, activation='relu')(x)"
      ],
      "execution_count": null,
      "outputs": []
    },
    {
      "cell_type": "markdown",
      "source": [
        "*  `encoder_input = keras.Input(...)` crée une couche d'entrée pour le modèle, qui sera utilisée pour alimenter les données d'entrée. On l'appelle `encoder_input` car elle est destinée à être l'entrée d'un encodeur (dans le contexte d'un auto-encodeur).\n",
        "*  `shape=(28, 28, 1)` spécifie la forme des données d'entrée attendues par le modèle. Dans ce cas, il s'agit d'images de 28x28 pixels avec un seul canal (noir et blanc). Pour des images en couleur, il y aurait 3 canaux (rouge, vert, bleu).\n",
        "*  `name='img'` donne un nom à la couche d'entrée, ce qui peut être utile pour la clarté et le débogage.\n",
        "*  `x = layers.Conv2D(...)`: Cette ligne crée une couche de convolution 2D (Conv2D) et l'applique à l'entrée `encoder_input`. Le résultat est stocké dans la variable x.\n",
        "*  `16`: Ceci spécifie le nombre de filtres (ou noyaux) dans la couche de convolution. Chaque filtre apprend à détecter des caractéristiques spécifiques dans l'image d'entrée.\n",
        "*  `3`: Ceci spécifie la taille du noyau de convolution, qui est une matrice 3x3 dans ce cas. La taille du noyau détermine la zone de l'image d'entrée sur laquelle le filtre est appliqué à la fois.\n",
        "*  `x = layers.MaxPooling2D(...)` crée une couche de \"max pooling\" et l'applique à la sortie de la couche précédente. Le \"max pooling\" réduit la taille des données en ne conservant que la valeur maximale dans une région donnée. Cela permet de réduire la complexité du modèle et de le rendre plus robuste aux variations mineures dans les données d'entrée."
      ],
      "metadata": {
        "id": "SXYJv61WDeoI"
      }
    },
    {
      "cell_type": "markdown",
      "metadata": {
        "id": "zQPxpWm1SxzG"
      },
      "source": [
        "## predicting the class of an exemple"
      ]
    },
    {
      "cell_type": "code",
      "metadata": {
        "id": "IkvGic1vTs_0",
        "outputId": "a8e4d330-63a0-443d-f036-7225cdb57814",
        "colab": {
          "base_uri": "https://localhost:8080/",
          "height": 482
        }
      },
      "source": [
        "import matplotlib.pyplot as plt\n",
        "\n",
        "(train_images, train_labels), (test_images, test_labels) = mnist.load_data()\n",
        "plt.imshow(test_images [0])\n",
        "# img = test_images [0].reshape ((1, 28 * 28))\n",
        "# il faut aussi faire la division par 255 si on prend les exemples de base\n",
        "test_images = test_images.astype('float32') / 255\n",
        "img = test_images[0].reshape((1, 28 * 28))\n",
        "print(network.predict(img))"
      ],
      "execution_count": null,
      "outputs": [
        {
          "output_type": "stream",
          "name": "stdout",
          "text": [
            "\u001b[1m1/1\u001b[0m \u001b[32m━━━━━━━━━━━━━━━━━━━━\u001b[0m\u001b[37m\u001b[0m \u001b[1m0s\u001b[0m 37ms/step\n",
            "[[2.7125376e-08 5.5586762e-09 1.4498020e-05 6.5813103e-05 5.0705490e-12\n",
            "  4.0885490e-07 2.0257435e-11 9.9991810e-01 2.2582127e-07 9.0756015e-07]]\n"
          ]
        },
        {
          "output_type": "display_data",
          "data": {
            "text/plain": [
              "<Figure size 640x480 with 1 Axes>"
            ],
            "image/png": "[encoded data removed]"
          },
          "metadata": {}
        }
      ]
    },
    {
      "cell_type": "markdown",
      "source": [
        "*  `astype('float32')` convertit le type de données des images en nombres à virgule flottante 32 bits."
      ],
      "metadata": {
        "id": "sAoNVTXWPE7x"
      }
    },
    {
      "cell_type": "markdown",
      "source": [
        "## Questions"
      ],
      "metadata": {
        "id": "NAmmKhkOP8xX"
      }
    },
    {
      "cell_type": "markdown",
      "source": [
        "**Question: Décrivez le jeu de données MNIST et son utilisation dans ce notebook.**"
      ],
      "metadata": {
        "id": "VNxm61kgQF1h"
      }
    },
    {
      "cell_type": "markdown",
      "source": [
        "MNIST est une base de données d'images de chiffres manuscrits, largement utilisée pour l'entraînement et le test de modèles de Machine Learning, notamment en reconnaissance d'images. Dans ce notebook, MNIST sert à entraîner un réseau de neurones à classifier des images de chiffres (0 à 9)."
      ],
      "metadata": {
        "id": "-sWP_nlkQKuB"
      }
    },
    {
      "cell_type": "markdown",
      "source": [
        "**Question: Expliquez le rôle des fonctions d'activation ReLU et softmax dans un réseau de neurones.**"
      ],
      "metadata": {
        "id": "U5mXhxZaQNtR"
      }
    },
    {
      "cell_type": "markdown",
      "source": [
        "ReLU (Rectified Linear Unit): Introduit une non-linéarité, essentielle pour apprendre des modèles complexes. Elle remplace les valeurs négatives par 0 et garde les valeurs positives inchangées. Utilisée dans les couches cachées.\n",
        "\n",
        "Softmax: Utilisée dans la couche de sortie pour la classification multiclasse. Convertit les sorties brutes en probabilités, indiquant la probabilité d'appartenance à chaque classe."
      ],
      "metadata": {
        "id": "lTP5iHuaQUMw"
      }
    },
    {
      "cell_type": "markdown",
      "source": [
        "**Question: Quelle est la différence entre une couche Dense et une couche Conv2D ? Dans quels cas utiliseriez-vous chacune d'elles ?**"
      ],
      "metadata": {
        "id": "u4FMzdqzQj80"
      }
    },
    {
      "cell_type": "markdown",
      "source": [
        "Dense: Chaque neurone est connecté à tous les neurones de la couche précédente (couche entièrement connectée). Adaptée pour traiter des données vectorielles, comme les images aplaties.\n",
        "\n",
        "Conv2D: Utilise des filtres pour extraire des caractéristiques spatiales des données d'entrée. Adaptée pour traiter des images, car elle préserve les relations spatiales entre les pixels."
      ],
      "metadata": {
        "id": "VKUY5oZuQoLk"
      }
    },
    {
      "cell_type": "markdown",
      "source": [
        "**Question: Pourquoi est-il important de normaliser les données d'entrée avant de les utiliser pour entraîner un réseau de neurones ? Comment est-ce fait dans ce notebook ?**"
      ],
      "metadata": {
        "id": "7dRi_wBuQswu"
      }
    },
    {
      "cell_type": "markdown",
      "source": [
        "La normalisation permet d'éviter que certaines caractéristiques dominent l'apprentissage en raison de leurs valeurs plus élevées. Elle accélère l'entraînement et améliore les performances. Dans ce notebook, la normalisation est effectuée en divisant les valeurs des pixels par 255, les ramenant ainsi dans la plage [0, 1]."
      ],
      "metadata": {
        "id": "Hwe_sEZ-QwRd"
      }
    },
    {
      "cell_type": "markdown",
      "source": [
        "**Question: Décrivez les étapes principales pour entraîner un réseau de neurones avec Keras.**"
      ],
      "metadata": {
        "id": "JuX3jkmAQ1-u"
      }
    },
    {
      "cell_type": "markdown",
      "source": [
        "1. Définir le modèle: Choisir l'architecture du réseau (couches, fonctions d'activation...).\n",
        "2. Compiler le modèle: Spécifier la fonction de perte, l'optimiseur et les métriques.\n",
        "3. Entraîner le modèle: Utiliser la méthode *fit* pour alimenter le modèle avec les données d'entraînement et ajuster ses poids.\n",
        "4. Évaluer le modèle: Utiliser la méthode *evaluate* pour mesurer les performances du modèle sur des données de test."
      ],
      "metadata": {
        "id": "1C4DEx52Q4sK"
      }
    },
    {
      "cell_type": "markdown",
      "source": [
        "**Question: Expliquez la structure du réseau de neurones défini dans le notebook (nombre de couches, types de couches, etc.).**"
      ],
      "metadata": {
        "id": "OO8EKxxERADd"
      }
    },
    {
      "cell_type": "markdown",
      "source": [
        "Le réseau a deux couches Dense : une couche cachée avec 512 neurones et activation ReLU, et une couche de sortie avec 10 neurones et activation softmax."
      ],
      "metadata": {
        "id": "ds6iaUh-RL_Q"
      }
    },
    {
      "cell_type": "markdown",
      "source": [
        "**Question: Comment la fonction de perte et l'optimiseur sont-ils choisis pour ce modèle ? Quel est leur impact sur l'entraînement ?**"
      ],
      "metadata": {
        "id": "gmOykcHRRPIM"
      }
    },
    {
      "cell_type": "markdown",
      "source": [
        " Les performances sont évaluées avec la méthode *evaluate*. `test_loss` représente la perte du modèle sur les données de test, tandis que `test_acc` représente la précision (proportion de prédictions correctes) sur les données de test.\n",
        "\n",
        " Le choix de la fonction de perte dépend principalement du type de tâche d'apprentissage automatique que l'on souhaite accomplir (classification, régression, détection d'objets...). L'optimiseur est responsable de la mise à jour des paramètres du modèle pour minimiser la fonction de perte.\n",
        "\n",
        " Une fonction de perte bien choisie guide le modèle vers une meilleure précision en minimisant l'écart entre les prédictions et les valeurs réelles. Un optimiseur approprié assure que ce processus se déroule efficacement et rapidement.  La combinaison d'une bonne fonction de perte et d'un optimiseur approprié aide le modèle à mieux généraliser aux données non vues, en évitant le surajustement ou le sous-ajustement."
      ],
      "metadata": {
        "id": "SHAzYjjpRR7z"
      }
    },
    {
      "cell_type": "markdown",
      "source": [
        "**Question: Comment pouvez-vous sauvegarder et recharger un modèle Keras entraîné ?**"
      ],
      "metadata": {
        "id": "FRAAB4jfRcGE"
      }
    },
    {
      "cell_type": "markdown",
      "source": [
        "Sauvegarder: Utiliser la méthode `model.save('nom_du_fichier.h5')`.\n",
        "\n",
        "Recharger: Utiliser `keras.models.load_model('nom_du_fichier.h5')`."
      ],
      "metadata": {
        "id": "MqooEcaSRf3O"
      }
    },
    {
      "cell_type": "markdown",
      "source": [
        "**Question: Quels sont les avantages d'utiliser l'API fonctionnelle de Keras pour définir un modèle ?**"
      ],
      "metadata": {
        "id": "i9eiNgSTRsj7"
      }
    },
    {
      "cell_type": "markdown",
      "source": [
        "L'API fonctionnelle permet de créer des modèles plus flexibles et complexes, avec des architectures non linéaires (branchements, fusions...)."
      ],
      "metadata": {
        "id": "K1lR61Y6Rvjc"
      }
    },
    {
      "cell_type": "markdown",
      "source": [
        "**Question: Expliquez comment créer un modèle simple avec l'API fonctionnelle, en utilisant des couches Dense.**"
      ],
      "metadata": {
        "id": "GAcMD-kiR02L"
      }
    },
    {
      "cell_type": "markdown",
      "source": [
        "```py\n",
        "inputs = keras.Input(shape=(taille_entree,))\n",
        "x = layers.Dense(nb_neurones, activation='relu')(inputs)\n",
        "outputs = layers.Dense(nb_classes, activation='softmax')(x)\n",
        "model = keras.Model(inputs=inputs, outputs=outputs)\n",
        "```\n",
        "\n"
      ],
      "metadata": {
        "id": "08QaG5FGR4Br"
      }
    },
    {
      "cell_type": "markdown",
      "source": [
        "**Question: Comment visualiser la structure d'un modèle créé avec l'API fonctionnelle ?**"
      ],
      "metadata": {
        "id": "Ul1PM-VwSAaa"
      }
    },
    {
      "cell_type": "markdown",
      "source": [
        "Utiliser `keras.utils.plot_model(model, show_shapes=True)`."
      ],
      "metadata": {
        "id": "mMJr-NOjSDeo"
      }
    },
    {
      "cell_type": "markdown",
      "source": [
        "**Question: Comment pourriez-vous adapter ce modèle pour une autre tâche de classification d'images ?**"
      ],
      "metadata": {
        "id": "9-YgyLjSSUrM"
      }
    },
    {
      "cell_type": "markdown",
      "source": [
        "Modifier la couche d'entrée pour correspondre à la taille des nouvelles images, ajuster le nombre de neurones dans la couche de sortie pour correspondre au nombre de classes, et réentraîner le modèle avec les nouvelles données."
      ],
      "metadata": {
        "id": "WPjilpKZSXXZ"
      }
    }
  ]
}