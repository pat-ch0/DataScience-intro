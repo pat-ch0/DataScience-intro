{
  "nbformat": 4,
  "nbformat_minor": 0,
  "metadata": {
    "colab": {
      "provenance": [],
      "include_colab_link": true
    },
    "kernelspec": {
      "name": "python3",
      "display_name": "Python 3"
    }
  },
  "cells": [
    {
      "cell_type": "markdown",
      "metadata": {
        "id": "view-in-github",
        "colab_type": "text"
      },
      "source": [
        "<a href=\"https://colab.research.google.com/github/pat-ch0/DataScience-intro/blob/main/Cross_validation.ipynb\" target=\"_parent\"><img src=\"https://colab.research.google.com/assets/colab-badge.svg\" alt=\"Open In Colab\"/></a>"
      ]
    },
    {
      "cell_type": "markdown",
      "source": [
        "## Chargement du jeu de données Boston Housing"
      ],
      "metadata": {
        "id": "v63D-GOxcCyX"
      }
    },
    {
      "cell_type": "markdown",
      "metadata": {
        "id": "hEcFe_L4Zu31"
      },
      "source": [
        "Prédire le prix médian des maisons dans une banlieue donnée de Boston au milieu des années 1970, en fonction de données concernant cette banlieue à l'époque, telles que le taux de criminalité, le taux d'imposition foncière local, etc.\n",
        "\n",
        "Le jeu de données que vous utiliserez présente une différence intéressante par rapport aux deux exemples précédents.\n",
        "\n",
        "Il comporte relativement peu de points de données : seulement 506, répartis entre 404 échantillons d'entraînement et 102 échantillons de test. Et chaque caractéristique des données d'entrée (par exemple, le taux de criminalité) a une échelle différente. Par exemple, certaines valeurs sont des proportions, qui prennent des valeurs entre 0 et 1 ; d'autres prennent des valeurs entre 1 et 12, d'autres entre 0 et 100, etc."
      ]
    },
    {
      "cell_type": "code",
      "metadata": {
        "id": "Mo_N4jPDZkVI",
        "outputId": "c0d50643-eb60-4aa3-8b70-6ebfeb17850f",
        "colab": {
          "base_uri": "https://localhost:8080/"
        }
      },
      "source": [
        "from keras.datasets import boston_housing\n",
        "(train_data, train_targets), (test_data, test_targets) = \\\n",
        "boston_housing.load_data()"
      ],
      "execution_count": null,
      "outputs": [
        {
          "output_type": "stream",
          "name": "stdout",
          "text": [
            "Downloading data from https://storage.googleapis.com/tensorflow/tf-keras-datasets/boston_housing.npz\n",
            "\u001b[1m57026/57026\u001b[0m \u001b[32m━━━━━━━━━━━━━━━━━━━━\u001b[0m\u001b[37m\u001b[0m \u001b[1m0s\u001b[0m 0us/step\n"
          ]
        }
      ]
    },
    {
      "cell_type": "markdown",
      "metadata": {
        "id": "pUl6AHRKaMZU"
      },
      "source": [
        "# Train a small dense network on the Boston Housing data"
      ]
    },
    {
      "cell_type": "markdown",
      "metadata": {
        "id": "Ru1jhX47aQB1"
      },
      "source": [
        "## Encode the data"
      ]
    },
    {
      "cell_type": "markdown",
      "metadata": {
        "id": "H2JN5r2Faasd"
      },
      "source": [
        "### Preparing the data"
      ]
    },
    {
      "cell_type": "markdown",
      "metadata": {
        "id": "xZ41wLYyahmW"
      },
      "source": [
        "Il serait problématique de fournir à un réseau de neurones des valeurs qui ont toutes des plages très différentes.\n",
        "\n",
        "Le réseau pourrait être capable de s'adapter automatiquement à des données aussi hétérogènes, mais cela rendrait certainement l'apprentissage plus difficile.\n",
        "\n",
        "Une pratique courante pour traiter ce type de données est d'effectuer une normalisation par caractéristique : pour chaque caractéristique des données d'entrée (une colonne dans la matrice de données d'entrée), on soustrait la moyenne de la caractéristique et on divise par l'écart type, de sorte que la caractéristique soit centrée autour de 0 et ait un écart type unitaire. Cela se fait facilement avec Numpy.\n",
        "\n"
      ]
    },
    {
      "cell_type": "markdown",
      "metadata": {
        "id": "LN4fw_nDbOiT"
      },
      "source": [
        "#### Preparing the data 1.1"
      ]
    },
    {
      "cell_type": "code",
      "metadata": {
        "id": "Xzckz4pjbDho"
      },
      "source": [
        "mean = train_data.mean(axis=0)\n",
        "train_data -= mean\n",
        "std = train_data.std(axis=0)\n",
        "train_data /= std\n",
        "test_data -= mean\n",
        "test_data /= std"
      ],
      "execution_count": null,
      "outputs": []
    },
    {
      "cell_type": "markdown",
      "source": [
        "Cette section du code est axée sur le **prétraitement des données**, plus précisément sur une technique appelée **mise à l'échelle des caractéristiques** ou **standardisation**. L'objectif est de transformer les données d'entrée (`train_data` et `test_data`) afin que chaque caractéristique (colonne) ait une moyenne de 0 et un écart type de 1. Cela est fait pour garantir que les caractéristiques avec des échelles différentes n'influencent pas de manière disproportionnée le processus d'apprentissage du modèle.\n",
        "* `axis=0` spécifie que la moyenne doit être calculée le long des colonnes.\n",
        "*  `train_data -= mean` soustrait la `mean` calculée de chaque caractéristique correspondante dans `train_data`, centrant ainsi efficacement les données autour de 0.\n",
        "*  `std = train_data.std(axis=0)` calcule l'écart type de chaque caractéristique dans train_data (après centrage) et le stocke dans la variable std.\n",
        "\n",
        "Ces lignes appliquent la même mise à l'échelle (en utilisant la mean et le std calculés à partir des données d'entraînement) aux test_data. Ceci est crucial pour garantir que les données de test sont prétraitées de la même manière que les données d'entraînement.\n",
        "\n",
        "En résumé, ce code standardise les caractéristiques des données d'entraînement et de test afin d'améliorer les performances et la stabilité du modèle d'apprentissage automatique. En appliquant ces transformations, le modèle peut plus facilement apprendre des schémas à partir des données, quelles que soient les échelles d'origine des caractéristiques."
      ],
      "metadata": {
        "id": "kpNd0AHifUPr"
      }
    },
    {
      "cell_type": "markdown",
      "metadata": {
        "id": "IJvW3z8EbrIc"
      },
      "source": [
        "### Building your network"
      ]
    },
    {
      "cell_type": "markdown",
      "metadata": {
        "id": "4YRkEkrLbutl"
      },
      "source": [
        "Parce que si peu d'échantillons sont disponibles, vous utiliserez un très petit réseau avec deux couches cachées, chacune comportant 64 unités.\n",
        "\n",
        "En général, moins vous avez de données d'entraînement, plus le surapprentissage sera important, et l'utilisation d'un petit réseau est un moyen d'atténuer le surapprentissage."
      ]
    },
    {
      "cell_type": "code",
      "metadata": {
        "id": "tHxEwYqIbj31"
      },
      "source": [
        "from keras import models\n",
        "from keras import layers"
      ],
      "execution_count": null,
      "outputs": []
    },
    {
      "cell_type": "code",
      "metadata": {
        "id": "32QlTYUYcEK0"
      },
      "source": [
        "def build_model():\n",
        "  model = models.Sequential()\n",
        "  model.add(layers.Dense(64, activation='relu', \\\n",
        "                         input_shape=(train_data.shape[1],)))\n",
        "  model.add(layers.Dense(64, activation='relu'))\n",
        "  model.add(layers.Dense(1))\n",
        "  model.compile(optimizer='rmsprop', loss='mse', metrics=['mae'])\n",
        "  return model"
      ],
      "execution_count": null,
      "outputs": []
    },
    {
      "cell_type": "markdown",
      "source": [
        "*  `optimizer='rmsprop'` : L'optimiseur 'rmsprop' est utilisé pour ajuster les poids du modèle pendant l'entraînement. Il s'agit d'un algorithme qui tente de trouver les meilleurs poids pour minimiser la fonction de perte.\n",
        "*  `loss='mse'` : La fonction de perte utilisée est l'erreur quadratique moyenne (\"Mean Squared Error\", MSE). Elle mesure la différence entre les prédictions du modèle et les valeurs réelles. L'objectif de l'entraînement est de minimiser cette perte.\n",
        "*  `metrics=['mae']` : On souhaite surveiller l'erreur absolue moyenne (\"Mean Absolute Error\", MAE) pendant l'entraînement. C'est une autre mesure de la performance du modèle."
      ],
      "metadata": {
        "id": "_8Zen1zHieNt"
      }
    },
    {
      "cell_type": "markdown",
      "metadata": {
        "id": "bA1mJg6Hc3-a"
      },
      "source": [
        "### 3-fold cross-validation"
      ]
    },
    {
      "cell_type": "code",
      "metadata": {
        "id": "Uwu62Uz9cx_r"
      },
      "source": [
        "import numpy as np"
      ],
      "execution_count": null,
      "outputs": []
    },
    {
      "cell_type": "markdown",
      "metadata": {
        "id": "6LITNzewftv7"
      },
      "source": [
        "#### 3-fold cross-validation 1.1"
      ]
    },
    {
      "cell_type": "code",
      "metadata": {
        "id": "EfDu0QmWfwUG",
        "outputId": "6d4ace81-af2c-42f6-ce56-1f19e137283e",
        "colab": {
          "base_uri": "https://localhost:8080/"
        }
      },
      "source": [
        "num_epochs = 100\n",
        "all_scores = []\n",
        "\n",
        "k = 4 # Setting k to 4 for 4-fold cross-validation\n",
        "num_val_samples = len(train_data) // k # Calculate the size of each validation set\n",
        "\n",
        "for i in range(k):\n",
        "  print('processing fold #', i)\n",
        "  val_data = train_data[i * num_val_samples: (i + 1) * num_val_samples]\n",
        "  val_targets = train_targets[i * num_val_samples: (i + 1) * num_val_samples]\n",
        "  partial_train_data =\\\n",
        "  np.concatenate([train_data[:i * num_val_samples], \\\n",
        "                  train_data[(i + 1) * num_val_samples:]], axis=0)\n",
        "  partial_train_targets = \\\n",
        "  np.concatenate([train_targets[:i * num_val_samples],\\\n",
        "                  train_targets[(i + 1) * num_val_samples:]], axis=0)\n",
        "  model = build_model()\n",
        "  model.fit(partial_train_data, partial_train_targets, \\\n",
        "            epochs=num_epochs, batch_size=1, verbose=0)\n",
        "  val_mse, val_mae = model.evaluate(val_data, val_targets, verbose=0)\n",
        "  all_scores.append(val_mae)"
      ],
      "execution_count": null,
      "outputs": [
        {
          "output_type": "stream",
          "name": "stdout",
          "text": [
            "processing fold # 0\n"
          ]
        },
        {
          "output_type": "stream",
          "name": "stderr",
          "text": [
            "/usr/local/lib/python3.11/dist-packages/keras/src/layers/core/dense.py:87: UserWarning: Do not pass an `input_shape`/`input_dim` argument to a layer. When using Sequential models, prefer using an `Input(shape)` object as the first layer in the model instead.\n",
            "  super().__init__(activity_regularizer=activity_regularizer, **kwargs)\n"
          ]
        },
        {
          "output_type": "stream",
          "name": "stdout",
          "text": [
            "processing fold # 1\n",
            "processing fold # 2\n",
            "processing fold # 3\n"
          ]
        }
      ]
    },
    {
      "cell_type": "markdown",
      "source": [
        "Ce code effectue une validation croisée k-fold en divisant à plusieurs reprises les données d'entraînement en ensembles d'entraînement et de validation, en entraînant un modèle sur l'ensemble d'entraînement et en l'évaluant sur l'ensemble de validation. Les scores de validation sont collectés pour chaque pli, fournissant une estimation plus fiable des performances du modèle sur des données non vues. En calculant la moyenne des scores de tous les plis, on obtient une mesure de performance plus robuste que si l'on évaluait simplement le modèle sur une seule division train/test.\n",
        "\n",
        "*  `all_scores = []` initialise une liste vide pour stocker les scores de validation (erreur absolue moyenne - MAE dans ce cas) pour chaque pli (fold).\n",
        "* `partial_train_data = np.concatenate([train_data[:i * num_val_samples], train_data[(i + 1) * num_val_samples:]], axis=0)` crée les données d'entraînement pour le pli courant en concaténant deux parties de train_data : les données avant le jeu de validation et les données après. Cela garantit que le jeu de validation n'est pas utilisé pour l'entraînement.\n",
        "*  `model = build_model()` appelle la fonction `build_model` (définie plus haut dans le code) pour créer une nouvelle instance du modèle de réseau neuronal.\n",
        "*  `val_mse, val_mae = model.evaluate(val_data, val_targets, verbose=0)` évalue le modèle entraîné sur les données de validation (`val_data` et `val_targets`) et renvoie l'erreur quadratique moyenne (`val_mse`) et l'erreur absolue moyenne (`val_mae`). `verbose=0` supprime la sortie d'évaluation."
      ],
      "metadata": {
        "id": "7O1VqKUHjGH5"
      }
    },
    {
      "cell_type": "code",
      "metadata": {
        "id": "9QY-L1GRfabJ",
        "outputId": "9e0d4688-4d94-4abc-99ff-06089e40e223",
        "colab": {
          "base_uri": "https://localhost:8080/"
        }
      },
      "source": [
        "num_epochs_1 = 500\n",
        "all_mae_histories = []\n",
        "for i in range(k):\n",
        "  print('processing fold #', i)\n",
        "  val_data_1 = train_data[i * num_val_samples: (i + 1) * num_val_samples]\n",
        "  val_targets_1 = train_targets[i * num_val_samples: (i + 1) * num_val_samples]\n",
        "  partial_train_data_1 = \\\n",
        "  np.concatenate([train_data[:i * num_val_samples],\\\n",
        "                  train_data[(i + 1) * num_val_samples:]], axis=0)\n",
        "  partial_train_targets_1 = \\\n",
        "  np.concatenate([train_targets[:i * num_val_samples],\\\n",
        "                  train_targets[(i + 1) * num_val_samples:]], axis=0)\n",
        "  model_1 = build_model()\n",
        "  history_1 = model.fit(partial_train_data_1, partial_train_targets_1,\\\n",
        "                        validation_data=(val_data_1, val_targets_1),\\\n",
        "                        epochs=num_epochs, batch_size=1, verbose=0)\n",
        "  mae_history = history_1.history['val_mae']\n",
        "  all_mae_histories.append(mae_history)"
      ],
      "execution_count": null,
      "outputs": [
        {
          "output_type": "stream",
          "name": "stdout",
          "text": [
            "processing fold # 0\n"
          ]
        },
        {
          "output_type": "stream",
          "name": "stderr",
          "text": [
            "/usr/local/lib/python3.11/dist-packages/keras/src/layers/core/dense.py:87: UserWarning: Do not pass an `input_shape`/`input_dim` argument to a layer. When using Sequential models, prefer using an `Input(shape)` object as the first layer in the model instead.\n",
            "  super().__init__(activity_regularizer=activity_regularizer, **kwargs)\n"
          ]
        },
        {
          "output_type": "stream",
          "name": "stdout",
          "text": [
            "processing fold # 1\n",
            "processing fold # 2\n",
            "processing fold # 3\n"
          ]
        }
      ]
    },
    {
      "cell_type": "code",
      "metadata": {
        "id": "O_h5LnY8mndq"
      },
      "source": [
        "average_mae_history = [\\\n",
        "                       np.mean([x[i] for x in all_mae_histories]) for i in \\\n",
        "                       range(num_epochs)]"
      ],
      "execution_count": null,
      "outputs": []
    },
    {
      "cell_type": "code",
      "metadata": {
        "id": "rFcPC7qrm5qR"
      },
      "source": [
        "import matplotlib.pyplot as plt"
      ],
      "execution_count": null,
      "outputs": []
    },
    {
      "cell_type": "code",
      "source": [
        "plt.plot(range(1, len(average_mae_history) + 1),\\\n",
        "               average_mae_history)\n",
        "plt.xlabel('Epochs')\n",
        "plt.ylabel('Validation MAE')\n",
        "plt.show()"
      ],
      "metadata": {
        "colab": {
          "base_uri": "https://localhost:8080/",
          "height": 449
        },
        "id": "D5x7alsYotri",
        "outputId": "d030b3eb-5657-40d6-bbc9-ed4db7f98038"
      },
      "execution_count": null,
      "outputs": [
        {
          "output_type": "display_data",
          "data": {
            "text/plain": [
              "<Figure size 640x480 with 1 Axes>"
            ],
            "image/png": "[encoded data removed]"
          },
          "metadata": {}
        }
      ]
    },
    {
      "cell_type": "markdown",
      "metadata": {
        "id": "sTyNiuxaneoQ"
      },
      "source": [
        "Une fois que vous avez terminé d'ajuster les autres paramètres du modèle (en plus du nombre d'epochs, vous pourriez également ajuster la taille des couches cachées), vous pouvez entraîner un modèle final de production sur toutes les données d'entraînement, avec les meilleurs paramètres, puis observer ses performances sur les données de test."
      ]
    },
    {
      "cell_type": "code",
      "metadata": {
        "id": "cHXwFhBXnZvq",
        "outputId": "b883576c-80f6-436b-9cb7-a29bb9fff7c1",
        "colab": {
          "base_uri": "https://localhost:8080/"
        }
      },
      "source": [
        "model_2 = build_model()\n",
        "\n",
        "model_2.fit(train_data, train_targets,\\\n",
        "            epochs=80, batch_size=16, verbose=0)\n",
        "test_mse_score, test_mae_score = model.evaluate(test_data, test_targets)"
      ],
      "execution_count": null,
      "outputs": [
        {
          "output_type": "stream",
          "name": "stdout",
          "text": [
            "\u001b[1m4/4\u001b[0m \u001b[32m━━━━━━━━━━━━━━━━━━━━\u001b[0m\u001b[37m\u001b[0m \u001b[1m0s\u001b[0m 10ms/step - loss: 11.9163 - mae: 2.4157\n"
          ]
        }
      ]
    },
    {
      "cell_type": "markdown",
      "source": [
        "## Questions"
      ],
      "metadata": {
        "id": "14Z7ND1pqpYg"
      }
    },
    {
      "cell_type": "markdown",
      "source": [
        "**Quel est l'objectif de ce notebook ?**"
      ],
      "metadata": {
        "id": "dsdszyS5qru3"
      }
    },
    {
      "cell_type": "markdown",
      "source": [
        "Prédire le prix médian des maisons dans une banlieue donnée de Boston au milieu des années 1970, en se basant sur des données concernant cette banlieue à l'époque, telles que le taux de criminalité, le taux d'imposition foncière local, etc."
      ],
      "metadata": {
        "id": "wc5ACGnIrMzl"
      }
    },
    {
      "cell_type": "markdown",
      "source": [
        "**Pourquoi est-il important de prétraiter les données avant de les utiliser pour entraîner un modèle d'apprentissage automatique ?**"
      ],
      "metadata": {
        "id": "fVm9EDvgrRx0"
      }
    },
    {
      "cell_type": "markdown",
      "source": [
        "Le prétraitement, notamment la mise à l'échelle des caractéristiques, est crucial car il permet d'uniformiser les échelles des différentes caractéristiques des données. Cela facilite l'apprentissage du modèle en évitant que les caractéristiques avec des valeurs plus grandes n'influencent de manière disproportionnée le processus d'apprentissage."
      ],
      "metadata": {
        "id": "xDygULQ-rUGi"
      }
    },
    {
      "cell_type": "markdown",
      "source": [
        "**Qu'est-ce que la validation croisée et pourquoi est-elle utilisée dans ce notebook ?**"
      ],
      "metadata": {
        "id": "yhlZ3HaMrX2N"
      }
    },
    {
      "cell_type": "markdown",
      "source": [
        "La validation croisée est une technique qui consiste à diviser les données d'entraînement en plusieurs parties (plis) et à entraîner le modèle sur une partie tout en le validant sur une autre. Cela permet d'obtenir une estimation plus fiable des performances du modèle sur des données non vues et d'éviter le surapprentissage."
      ],
      "metadata": {
        "id": "I5KxKkk6rbAV"
      }
    },
    {
      "cell_type": "markdown",
      "source": [
        "**Comment le surapprentissage est-il anticipé dans ce notebook ?**"
      ],
      "metadata": {
        "id": "rkcjKnXrrhha"
      }
    },
    {
      "cell_type": "markdown",
      "source": [
        "Le surapprentissage est abordé en utilisant un réseau neuronal relativement petit avec seulement deux couches cachées. Un réseau plus petit est moins susceptible de mémoriser les données d'entraînement et a donc plus de chances de généraliser correctement à de nouvelles données."
      ],
      "metadata": {
        "id": "d2WInzYSrlES"
      }
    },
    {
      "cell_type": "markdown",
      "source": [
        "**Expliquez le rôle de la fonction `build_model()` dans ce code.**"
      ],
      "metadata": {
        "id": "ooQSYku4rorE"
      }
    },
    {
      "cell_type": "markdown",
      "source": [
        "La fonction build_model() est responsable de la création et de la configuration du modèle de réseau neuronal. Elle définit l'architecture du modèle, y compris le nombre de couches, le nombre d'unités par couche, les fonctions d'activation, l'optimiseur, la fonction de perte et les métriques à suivre."
      ],
      "metadata": {
        "id": "86wSv0x5rtMR"
      }
    },
    {
      "cell_type": "markdown",
      "source": [
        "**Que signifient les paramètres `epochs` et `batch_size` dans la fonction model_2.fit() ?**"
      ],
      "metadata": {
        "id": "qsTOJxc0rwmY"
      }
    },
    {
      "cell_type": "markdown",
      "source": [
        "- `epochs` : nombre de fois où le modèle parcourt l'ensemble des données d'entraînement pendant l'apprentissage.\n",
        "\n",
        "- `batch_size` : nombre d'échantillons de données utilisés à chaque itération de la mise à jour des poids du modèle."
      ],
      "metadata": {
        "id": "e9c8DNbcsAqa"
      }
    },
    {
      "cell_type": "markdown",
      "source": [
        "**À quoi servent les variables `test_mse_score` et `test_mae_score` ?**"
      ],
      "metadata": {
        "id": "wtJUaqeRsOHi"
      }
    },
    {
      "cell_type": "markdown",
      "source": [
        "Ces variables stockent les résultats de l'évaluation du modèle sur les données de test. `test_mse_score` représente l'erreur quadratique moyenne (Mean Squared Error) et `test_mae_score` représente l'erreur absolue moyenne (Mean Absolute Error), qui sont des mesures de la performance du modèle."
      ],
      "metadata": {
        "id": "hngAWf3bsROo"
      }
    },
    {
      "cell_type": "markdown",
      "source": [
        "**Pourquoi est-il important d'évaluer le modèle sur des données de test distinctes des données d'entraînement ?**"
      ],
      "metadata": {
        "id": "dcvMkAxCsctw"
      }
    },
    {
      "cell_type": "markdown",
      "source": [
        "Il est crucial d'évaluer le modèle sur des données de test distinctes pour vérifier sa capacité à généraliser à de nouvelles données qu'il n'a jamais vues pendant l'entraînement. Cela permet de s'assurer que le modèle n'a pas simplement mémorisé les données d'entraînement mais qu'il a réellement appris des schémas généraux."
      ],
      "metadata": {
        "id": "PZRy2iVysgAa"
      }
    },
    {
      "cell_type": "markdown",
      "source": [
        "**Que se passerait-il si on utilisait model au lieu de model_2 pour évaluer le modèle dans la dernière ligne?**"
      ],
      "metadata": {
        "id": "uqhAcCXcskqm"
      }
    },
    {
      "cell_type": "markdown",
      "source": [
        "Si on utilisait model au lieu de model_2 dans la dernière ligne, on évaluerait un modèle potentiellement non optimal. model fait référence à une instance de modèle créée et entrainée lors de la validation croisée, tandis que model_2 est le modèle final entrainé sur toutes les données d'entrainement."
      ],
      "metadata": {
        "id": "LsddUmOzsnAh"
      }
    },
    {
      "cell_type": "markdown",
      "source": [
        "**Comment pourriez-vous améliorer encore les performances de ce modèle ?**"
      ],
      "metadata": {
        "id": "ZGCH283psrj1"
      }
    },
    {
      "cell_type": "markdown",
      "source": [
        "Le modèle est limité par les données sur lesquelles il a été entraîné. Si les données d'entraînement ne sont pas représentatives de la réalité, le modèle peut faire des prédictions erronées. De plus, le modèle peut être sujet à des biais présents dans les données d'entraînement. Il est important de garder ces limitations à l'esprit lors de l'interprétation des résultats."
      ],
      "metadata": {
        "id": "IfDrmIL2sunU"
      }
    }
  ]
}