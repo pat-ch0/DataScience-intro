{
  "nbformat": 4,
  "nbformat_minor": 0,
  "metadata": {
    "colab": {
      "provenance": [],
      "include_colab_link": true
    },
    "kernelspec": {
      "name": "python3",
      "display_name": "Python 3"
    }
  },
  "cells": [
    {
      "cell_type": "markdown",
      "metadata": {
        "id": "view-in-github",
        "colab_type": "text"
      },
      "source": [
        "<a href=\"https://colab.research.google.com/github/pat-ch0/DataScience-intro/blob/main/Multiclass_Classification_reuters.ipynb\" target=\"_parent\"><img src=\"https://colab.research.google.com/assets/colab-badge.svg\" alt=\"Open In Colab\"/></a>"
      ]
    },
    {
      "cell_type": "markdown",
      "source": [
        "## Chargement du jeu de données Reuters"
      ],
      "metadata": {
        "id": "V0tTfxBaw6ec"
      }
    },
    {
      "cell_type": "markdown",
      "metadata": {
        "id": "sAOtk4qstSTN"
      },
      "source": [
        "# Train a small dense network on the Reuters data"
      ]
    },
    {
      "cell_type": "markdown",
      "metadata": {
        "id": "NqhOmZZqtt3e"
      },
      "source": [
        "### define a vectorizer"
      ]
    },
    {
      "cell_type": "markdown",
      "metadata": {
        "id": "0T06MT0bwh6d"
      },
      "source": [
        "### import numpy"
      ]
    },
    {
      "cell_type": "markdown",
      "source": [
        "Importez NumPy en tant que 'np'."
      ],
      "metadata": {
        "id": "VhsBMTOC4Kvm"
      }
    },
    {
      "cell_type": "code",
      "source": [
        "import numpy as np"
      ],
      "metadata": {
        "id": "aDkZl06r4YD1"
      },
      "execution_count": 1,
      "outputs": []
    },
    {
      "cell_type": "markdown",
      "metadata": {
        "id": "nmQyNoYLEXx3"
      },
      "source": [
        "# Multiclass Classification 1.1"
      ]
    },
    {
      "cell_type": "markdown",
      "metadata": {
        "id": "xwf34iwvEToR"
      },
      "source": [
        "Vous allez travailler avec le jeu de données Reuters, un ensemble de dépêches courtes et leurs sujets, publié par Reuters en 1986. C'est un jeu de données simple et largement utilisé pour la classification de texte.\n",
        "\n",
        "Il y a 46 sujets différents ; certains sujets sont plus représentés que d'autres, mais chaque sujet a au moins 10 exemples dans l'ensemble d'entraînement."
      ]
    },
    {
      "cell_type": "markdown",
      "source": [
        "Cette code charge le jeu de données Reuters, qui est une collection d'articles de presse classés en différentes rubriques. Il est souvent utilisé pour les tâches de classification de texte."
      ],
      "metadata": {
        "id": "eXVEP4V2xFhf"
      }
    },
    {
      "cell_type": "markdown",
      "source": [
        "Importez 'reuters' depuis 'keras.datasets'."
      ],
      "metadata": {
        "id": "DNWHqauG4Tis"
      }
    },
    {
      "cell_type": "code",
      "source": [
        "from keras.datasets import reuters"
      ],
      "metadata": {
        "id": "KDMDnuvn4XbL"
      },
      "execution_count": 3,
      "outputs": []
    },
    {
      "cell_type": "code",
      "metadata": {
        "id": "7PNet4sCEg1H",
        "colab": {
          "base_uri": "https://localhost:8080/"
        },
        "outputId": "478f5e2c-d431-479c-e9c4-b57c864ae50f"
      },
      "source": [
        "(train_data, train_labels), (test_data, test_labels) = reuters.load_data(num_words=10000)"
      ],
      "execution_count": 4,
      "outputs": [
        {
          "output_type": "stream",
          "name": "stdout",
          "text": [
            "Downloading data from https://storage.googleapis.com/tensorflow/tf-keras-datasets/reuters.npz\n",
            "\u001b[1m2110848/2110848\u001b[0m \u001b[32m━━━━━━━━━━━━━━━━━━━━\u001b[0m\u001b[37m\u001b[0m \u001b[1m0s\u001b[0m 0us/step\n"
          ]
        }
      ]
    },
    {
      "cell_type": "markdown",
      "metadata": {
        "id": "Sgm165n9EyR-"
      },
      "source": [
        "## Train a small dense network on the Reuters data"
      ]
    },
    {
      "cell_type": "markdown",
      "metadata": {
        "id": "j9GZE9CFE18m"
      },
      "source": [
        "### Encoding the data"
      ]
    },
    {
      "cell_type": "markdown",
      "metadata": {
        "id": "Kw4FTfphFYqm"
      },
      "source": [
        "#### def vectorize_sequences"
      ]
    },
    {
      "cell_type": "markdown",
      "source": [
        "Cette fonction transforme des séquences de mots en vecteurs numériques où chaque élément du vecteur indique la présence (1) ou l'absence (0) d'un mot spécifique dans la séquence. Cette représentation vectorielle est essentielle pour que le réseau neuronal puisse traiter les données textuelles."
      ],
      "metadata": {
        "id": "20uah1wrynJI"
      }
    },
    {
      "cell_type": "markdown",
      "source": [
        "L'objectif est de transformer une liste de séquences (dans ce cas, des articles de presse représentés par des séquences de nombres) en une représentation vectorielle, utilisable par un réseau neuronal."
      ],
      "metadata": {
        "id": "qIlLGqFOxjV9"
      }
    },
    {
      "cell_type": "code",
      "metadata": {
        "id": "iQ9OcL4PF8_R"
      },
      "source": [
        "def vectorize_sequences(sequences, dimension=10000):\n",
        "  results = np.zeros((len(sequences), dimension))\n",
        "  for i, sequence in enumerate(sequences):\n",
        "    results[i, sequence] = 1\n",
        "  return results"
      ],
      "execution_count": 11,
      "outputs": []
    },
    {
      "cell_type": "markdown",
      "source": [
        "`num_words=10000`: Cet argument spécifie que nous voulons uniquement conserver les 10 000 mots les plus fréquents du jeu de données. Les mots moins fréquents seront ignorés. Cela est fait pour réduire la complexité des données."
      ],
      "metadata": {
        "id": "L2zGhuYxxLzj"
      }
    },
    {
      "cell_type": "markdown",
      "source": [
        "* On crée une matrice remplie de zéros à l'aide de la fonction np.zeros.\n",
        "* enumerate permet d'obtenir à la fois l'index (i) et la valeur (sequence) de chaque élément de la liste.\n",
        "* `results[i, sequence] = 1:` est le cœur de la vectorisation. Pour chaque mot présent dans la sequence courante, on met à 1 la valeur correspondante dans la ligne i de la matrice results.\n",
        "En d'autres termes, si le mot d'index 54 est présent dans la séquence, on mettra `results[i, 54]` à 1."
      ],
      "metadata": {
        "id": "Fnnps_-9x2m3"
      }
    },
    {
      "cell_type": "markdown",
      "metadata": {
        "id": "gSXj2wXhF8uv"
      },
      "source": [
        "#### Encoding the data 1.0"
      ]
    },
    {
      "cell_type": "markdown",
      "source": [
        "Veuillez importer la fonction 'to_categorical' depuis 'tensorflow.keras.utils'. Ensuite, appliquez cette fonction à 'train_labels' et 'test_labels' pour créer respectivement 'one_hot_train_labels' et 'one_hot_test_labels'."
      ],
      "metadata": {
        "id": "wytt-1GK4wpa"
      }
    },
    {
      "cell_type": "code",
      "source": [
        "from tensorflow.keras.utils import to_categorical\n",
        "\n",
        "one_hot_train_labels = to_categorical(train_labels)\n",
        "one_hot_test_labels = to_categorical(test_labels)"
      ],
      "metadata": {
        "id": "Kf4aLFW94zRQ"
      },
      "execution_count": 6,
      "outputs": []
    },
    {
      "cell_type": "markdown",
      "source": [
        "**Qu'est-ce que le \"one-hot encoding\" ?**\n",
        "\n",
        "Imaginez que vous avez 4 catégories : \"sport\", \"finance\", \"technologie\", \"santé\". Au lieu de représenter ces catégories par des nombres (1, 2, 3, 4), le \"one-hot encoding\" les représente par des vecteurs binaires :\n",
        "\n",
        "- \"sport\" : [1, 0, 0, 0]\n",
        "- \"finance\" : [0, 1, 0, 0]\n",
        "- \"technologie\" : [0, 0, 1, 0]\n",
        "- \"santé\" : [0, 0, 0, 1]\n",
        "\n",
        "Chaque vecteur a un seul \"1\" à la position correspondant à la catégorie et des \"0\" partout ailleurs.\n",
        "\n",
        "**Pourquoi utiliser le \"one-hot encoding\" ?**\n",
        "\n",
        "Les réseaux neuronaux fonctionnent mieux avec des données numériques. Le \"one-hot encoding\" permet de représenter des catégories de manière numérique sans imposer un ordre artificiel entre elles (contrairement à l'utilisation de simples nombres). Cela évite de biaiser l'apprentissage du réseau neuronal.\n",
        "\n",
        "En résumé, ce code prépare les étiquettes de catégories des données d'entraînement et de test pour qu'elles puissent être utilisées efficacement par un réseau neuronal pour la classification de texte."
      ],
      "metadata": {
        "id": "CEcT2iNMzVKh"
      }
    },
    {
      "cell_type": "markdown",
      "metadata": {
        "id": "h9pfvXBOG3H-"
      },
      "source": [
        "### Defining the network"
      ]
    },
    {
      "cell_type": "markdown",
      "metadata": {
        "id": "-vxwex0LHF6v"
      },
      "source": [
        "### Defining the network 1.1"
      ]
    },
    {
      "cell_type": "markdown",
      "source": [
        "Importez 'models' et 'layers' depuis 'keras'."
      ],
      "metadata": {
        "id": "9WptzVsP47in"
      }
    },
    {
      "cell_type": "code",
      "metadata": {
        "id": "NqvIEguCG597"
      },
      "source": [
        "from keras import models, layers"
      ],
      "execution_count": 7,
      "outputs": []
    },
    {
      "cell_type": "markdown",
      "source": [
        "Veuillez créer un modèle séquentiel nommé 'model'. Ajoutez-y successivement trois couches Dense :\n",
        "\n",
        "1. Une première couche avec 64 unités, une fonction d'activation 'relu', et une forme d'entrée de (10000,).\n",
        "2. Une deuxième couche avec 64 unités et une fonction d'activation 'relu'.\n",
        "3. Une troisième couche avec 46 unités et une fonction d'activation 'softmax'"
      ],
      "metadata": {
        "id": "qrGmBmsn5IdO"
      }
    },
    {
      "cell_type": "code",
      "metadata": {
        "id": "Ry8mgrmWHWGf",
        "colab": {
          "base_uri": "https://localhost:8080/"
        },
        "outputId": "95080a62-2d05-4bd9-d81f-0a81f85d06f8"
      },
      "source": [
        "model = models.Sequential()\n",
        "model.add(layers.Dense(64, activation='relu', input_shape=(10000,)))\n",
        "model.add(layers.Dense(64, activation='relu'))\n",
        "model.add(layers.Dense(46, activation='softmax'))"
      ],
      "execution_count": 8,
      "outputs": [
        {
          "output_type": "stream",
          "name": "stderr",
          "text": [
            "/usr/local/lib/python3.11/dist-packages/keras/src/layers/core/dense.py:87: UserWarning: Do not pass an `input_shape`/`input_dim` argument to a layer. When using Sequential models, prefer using an `Input(shape)` object as the first layer in the model instead.\n",
            "  super().__init__(activity_regularizer=activity_regularizer, **kwargs)\n"
          ]
        }
      ]
    },
    {
      "cell_type": "markdown",
      "metadata": {
        "id": "EJUqSUvkH0UH"
      },
      "source": [
        "### Defining the optimizer and the loss"
      ]
    },
    {
      "cell_type": "markdown",
      "source": [
        "Veuillez compiler le modèle en utilisant l'optimiseur 'rmsprop', la fonction de perte 'categorical_crossentropy', et la métrique 'accuracy'."
      ],
      "metadata": {
        "id": "0qHTHW3B5SIr"
      }
    },
    {
      "cell_type": "code",
      "metadata": {
        "id": "kmQJJnKyHwVs"
      },
      "source": [
        "model.compile(optimizer='rmsprop',\n",
        "              loss='categorical_crossentropy',\n",
        "              metrics=['accuracy'])"
      ],
      "execution_count": 9,
      "outputs": []
    },
    {
      "cell_type": "markdown",
      "metadata": {
        "id": "f04gKZhzILXX"
      },
      "source": [
        "### Defining a validation set"
      ]
    },
    {
      "cell_type": "markdown",
      "metadata": {
        "id": "n5PG18w8Iz8c"
      },
      "source": [
        "### Encoding the data 1.1"
      ]
    },
    {
      "cell_type": "markdown",
      "metadata": {
        "id": "ZQKbOdfxJZ2Z"
      },
      "source": [
        "### Encoding the data 1.2"
      ]
    },
    {
      "cell_type": "markdown",
      "source": [
        "Veuillez appliquer la fonction 'vectorize_sequences' aux données d'entraînement ('train_data') et aux données de test ('test_data') pour créer respectivement les variables 'x_train' et 'x_test'."
      ],
      "metadata": {
        "id": "HGAjVwyb5ql5"
      }
    },
    {
      "cell_type": "code",
      "metadata": {
        "id": "QW39-AKgJTRy"
      },
      "source": [
        "x_train = vectorize_sequences(train_data)\n",
        "x_test = vectorize_sequences(test_data)"
      ],
      "execution_count": 12,
      "outputs": []
    },
    {
      "cell_type": "markdown",
      "metadata": {
        "id": "MddimZ4CJyTC"
      },
      "source": [
        "### Defining a validation set 1.1"
      ]
    },
    {
      "cell_type": "markdown",
      "source": [
        "Veuillez créer un ensemble de validation en utilisant les 1000 premières données de 'x_train' et 'one_hot_train_labels' et nommez-les respectivement 'x_val' et 'y_val'. Créez également des ensembles d'entraînement partiels en utilisant les données restantes de 'x_train' et 'one_hot_train_labels' et nommez-les respectivement 'partial_x_train' et 'partial_y_train'."
      ],
      "metadata": {
        "id": "eEjqV5Gh5v0U"
      }
    },
    {
      "cell_type": "code",
      "metadata": {
        "id": "CrPlM13YJnqe"
      },
      "source": [
        "x_val = x_train[:1000]\n",
        "partial_x_train = x_train[1000:]\n",
        "\n",
        "y_val = one_hot_train_labels[:1000]\n",
        "partial_y_train = one_hot_train_labels[1000:]"
      ],
      "execution_count": 16,
      "outputs": []
    },
    {
      "cell_type": "markdown",
      "metadata": {
        "id": "PAzc_ezsKMWX"
      },
      "source": [
        "### Training with a validation set"
      ]
    },
    {
      "cell_type": "markdown",
      "source": [
        "Veuillez entraîner le modèle en utilisant 'partial_x_train' et 'partial_y_train' comme données d'entraînement, 'x_val' et 'y_val' comme données de validation, pendant 20 epochs avec une taille de batch de 512. Stockez l'historique d'entraînement dans une variable nommée 'history'."
      ],
      "metadata": {
        "id": "zQ05lZTr55La"
      }
    },
    {
      "cell_type": "code",
      "metadata": {
        "id": "Uwt9cTIkKJrx",
        "outputId": "35f6d5bf-8674-4643-f0b3-42b837f99d4e",
        "colab": {
          "base_uri": "https://localhost:8080/"
        }
      },
      "source": [
        "history = model.fit(partial_x_train, partial_y_train, epochs=20, batch_size=512, validation_data=(x_val, y_val))"
      ],
      "execution_count": 17,
      "outputs": [
        {
          "output_type": "stream",
          "name": "stdout",
          "text": [
            "Epoch 1/20\n",
            "\u001b[1m16/16\u001b[0m \u001b[32m━━━━━━━━━━━━━━━━━━━━\u001b[0m\u001b[37m\u001b[0m \u001b[1m3s\u001b[0m 102ms/step - accuracy: 0.4113 - loss: 3.2637 - val_accuracy: 0.6120 - val_loss: 1.8836\n",
            "Epoch 2/20\n",
            "\u001b[1m16/16\u001b[0m \u001b[32m━━━━━━━━━━━━━━━━━━━━\u001b[0m\u001b[37m\u001b[0m \u001b[1m2s\u001b[0m 77ms/step - accuracy: 0.6610 - loss: 1.6865 - val_accuracy: 0.6950 - val_loss: 1.3998\n",
            "Epoch 3/20\n",
            "\u001b[1m16/16\u001b[0m \u001b[32m━━━━━━━━━━━━━━━━━━━━\u001b[0m\u001b[37m\u001b[0m \u001b[1m2s\u001b[0m 69ms/step - accuracy: 0.7299 - loss: 1.2587 - val_accuracy: 0.7350 - val_loss: 1.1916\n",
            "Epoch 4/20\n",
            "\u001b[1m16/16\u001b[0m \u001b[32m━━━━━━━━━━━━━━━━━━━━\u001b[0m\u001b[37m\u001b[0m \u001b[1m1s\u001b[0m 60ms/step - accuracy: 0.7845 - loss: 1.0069 - val_accuracy: 0.7630 - val_loss: 1.0968\n",
            "Epoch 5/20\n",
            "\u001b[1m16/16\u001b[0m \u001b[32m━━━━━━━━━━━━━━━━━━━━\u001b[0m\u001b[37m\u001b[0m \u001b[1m2s\u001b[0m 92ms/step - accuracy: 0.8119 - loss: 0.8553 - val_accuracy: 0.7890 - val_loss: 1.0085\n",
            "Epoch 6/20\n",
            "\u001b[1m16/16\u001b[0m \u001b[32m━━━━━━━━━━━━━━━━━━━━\u001b[0m\u001b[37m\u001b[0m \u001b[1m2s\u001b[0m 61ms/step - accuracy: 0.8453 - loss: 0.7099 - val_accuracy: 0.8060 - val_loss: 0.9438\n",
            "Epoch 7/20\n",
            "\u001b[1m16/16\u001b[0m \u001b[32m━━━━━━━━━━━━━━━━━━━━\u001b[0m\u001b[37m\u001b[0m \u001b[1m1s\u001b[0m 71ms/step - accuracy: 0.8700 - loss: 0.6036 - val_accuracy: 0.8070 - val_loss: 0.9050\n",
            "Epoch 8/20\n",
            "\u001b[1m16/16\u001b[0m \u001b[32m━━━━━━━━━━━━━━━━━━━━\u001b[0m\u001b[37m\u001b[0m \u001b[1m1s\u001b[0m 65ms/step - accuracy: 0.9018 - loss: 0.4778 - val_accuracy: 0.8180 - val_loss: 0.8860\n",
            "Epoch 9/20\n",
            "\u001b[1m16/16\u001b[0m \u001b[32m━━━━━━━━━━━━━━━━━━━━\u001b[0m\u001b[37m\u001b[0m \u001b[1m1s\u001b[0m 57ms/step - accuracy: 0.9189 - loss: 0.4130 - val_accuracy: 0.8200 - val_loss: 0.8610\n",
            "Epoch 10/20\n",
            "\u001b[1m16/16\u001b[0m \u001b[32m━━━━━━━━━━━━━━━━━━━━\u001b[0m\u001b[37m\u001b[0m \u001b[1m1s\u001b[0m 52ms/step - accuracy: 0.9307 - loss: 0.3359 - val_accuracy: 0.8120 - val_loss: 0.8745\n",
            "Epoch 11/20\n",
            "\u001b[1m16/16\u001b[0m \u001b[32m━━━━━━━━━━━━━━━━━━━━\u001b[0m\u001b[37m\u001b[0m \u001b[1m1s\u001b[0m 60ms/step - accuracy: 0.9395 - loss: 0.2912 - val_accuracy: 0.8000 - val_loss: 0.9276\n",
            "Epoch 12/20\n",
            "\u001b[1m16/16\u001b[0m \u001b[32m━━━━━━━━━━━━━━━━━━━━\u001b[0m\u001b[37m\u001b[0m \u001b[1m1s\u001b[0m 63ms/step - accuracy: 0.9364 - loss: 0.2718 - val_accuracy: 0.8230 - val_loss: 0.8618\n",
            "Epoch 13/20\n",
            "\u001b[1m16/16\u001b[0m \u001b[32m━━━━━━━━━━━━━━━━━━━━\u001b[0m\u001b[37m\u001b[0m \u001b[1m1s\u001b[0m 61ms/step - accuracy: 0.9461 - loss: 0.2294 - val_accuracy: 0.8130 - val_loss: 0.8694\n",
            "Epoch 14/20\n",
            "\u001b[1m16/16\u001b[0m \u001b[32m━━━━━━━━━━━━━━━━━━━━\u001b[0m\u001b[37m\u001b[0m \u001b[1m1s\u001b[0m 61ms/step - accuracy: 0.9521 - loss: 0.2014 - val_accuracy: 0.8110 - val_loss: 0.8922\n",
            "Epoch 15/20\n",
            "\u001b[1m16/16\u001b[0m \u001b[32m━━━━━━━━━━━━━━━━━━━━\u001b[0m\u001b[37m\u001b[0m \u001b[1m1s\u001b[0m 79ms/step - accuracy: 0.9575 - loss: 0.1826 - val_accuracy: 0.8100 - val_loss: 0.9003\n",
            "Epoch 16/20\n",
            "\u001b[1m16/16\u001b[0m \u001b[32m━━━━━━━━━━━━━━━━━━━━\u001b[0m\u001b[37m\u001b[0m \u001b[1m2s\u001b[0m 55ms/step - accuracy: 0.9589 - loss: 0.1561 - val_accuracy: 0.8050 - val_loss: 0.9514\n",
            "Epoch 17/20\n",
            "\u001b[1m16/16\u001b[0m \u001b[32m━━━━━━━━━━━━━━━━━━━━\u001b[0m\u001b[37m\u001b[0m \u001b[1m1s\u001b[0m 68ms/step - accuracy: 0.9555 - loss: 0.1638 - val_accuracy: 0.8100 - val_loss: 0.9073\n",
            "Epoch 18/20\n",
            "\u001b[1m16/16\u001b[0m \u001b[32m━━━━━━━━━━━━━━━━━━━━\u001b[0m\u001b[37m\u001b[0m \u001b[1m1s\u001b[0m 58ms/step - accuracy: 0.9586 - loss: 0.1454 - val_accuracy: 0.8040 - val_loss: 0.9697\n",
            "Epoch 19/20\n",
            "\u001b[1m16/16\u001b[0m \u001b[32m━━━━━━━━━━━━━━━━━━━━\u001b[0m\u001b[37m\u001b[0m \u001b[1m1s\u001b[0m 57ms/step - accuracy: 0.9649 - loss: 0.1289 - val_accuracy: 0.8070 - val_loss: 0.9271\n",
            "Epoch 20/20\n",
            "\u001b[1m16/16\u001b[0m \u001b[32m━━━━━━━━━━━━━━━━━━━━\u001b[0m\u001b[37m\u001b[0m \u001b[1m1s\u001b[0m 55ms/step - accuracy: 0.9607 - loss: 0.1244 - val_accuracy: 0.8200 - val_loss: 0.9295\n"
          ]
        }
      ]
    },
    {
      "cell_type": "markdown",
      "metadata": {
        "id": "HRvhJ2o_Klun"
      },
      "source": [
        "### Visualize the training"
      ]
    },
    {
      "cell_type": "markdown",
      "source": [
        "Veuillez visualiser l'historique d'entraînement en utilisant Matplotlib. Tracez un graphique affichant la perte d'entraînement et la perte de validation en fonction des epochs. Nommez le graphique 'Training and validation loss', étiquetez l'axe des x 'Epochs', l'axe des y 'Loss', et ajoutez une légende pour identifier les courbes."
      ],
      "metadata": {
        "id": "uXUTQFi_6C1R"
      }
    },
    {
      "cell_type": "code",
      "metadata": {
        "id": "dY89dZmxLX6A",
        "outputId": "e7c67a01-334f-4648-b22e-11a05ac387f0",
        "colab": {
          "base_uri": "https://localhost:8080/",
          "height": 472
        }
      },
      "source": [
        "import matplotlib.pyplot as plt\n",
        "\n",
        "plt.plot(history.history['loss'], label='Training loss')\n",
        "plt.plot(history.history['val_loss'], label='Validation loss')\n",
        "plt.title('Training and Validation Loss')\n",
        "plt.xlabel('Epochs')\n",
        "plt.ylabel('Loss')\n",
        "plt.legend()\n",
        "plt.show()"
      ],
      "execution_count": 20,
      "outputs": [
        {
          "output_type": "display_data",
          "data": {
            "text/plain": [
              "<Figure size 640x480 with 1 Axes>"
            ],
            "image/png": "[encoded data removed]"
          },
          "metadata": {}
        }
      ]
    },
    {
      "cell_type": "markdown",
      "metadata": {
        "id": "XNHVB8FVMqdG"
      },
      "source": [
        "### Further experiments"
      ]
    },
    {
      "cell_type": "markdown",
      "metadata": {
        "id": "0KAg2oVmMsQp"
      },
      "source": [
        "#### Train on less epochs"
      ]
    },
    {
      "cell_type": "markdown",
      "source": [
        "Veuillez entraîner le modèle en utilisant 'partial_x_train' et 'partial_y_train' comme données d'entraînement, 'x_val' et 'y_val' comme données de validation, pendant 2 epochs avec une taille de batch de 512. Stockez l'historique d'entraînement dans une variable nommée 'history_1'."
      ],
      "metadata": {
        "id": "qPqAe4gU6PIu"
      }
    },
    {
      "cell_type": "code",
      "metadata": {
        "id": "LZ_x8RuJMmAj",
        "outputId": "20c58a23-f41f-4d1f-d687-c8726edfa525",
        "colab": {
          "base_uri": "https://localhost:8080/"
        }
      },
      "source": [
        "history_1 = model.fit(partial_x_train, partial_y_train, epochs=2, batch_size=512, validation_data=(x_val, y_val))"
      ],
      "execution_count": 21,
      "outputs": [
        {
          "output_type": "stream",
          "name": "stdout",
          "text": [
            "Epoch 1/2\n",
            "\u001b[1m16/16\u001b[0m \u001b[32m━━━━━━━━━━━━━━━━━━━━\u001b[0m\u001b[37m\u001b[0m \u001b[1m1s\u001b[0m 68ms/step - accuracy: 0.9638 - loss: 0.1165 - val_accuracy: 0.8060 - val_loss: 0.9507\n",
            "Epoch 2/2\n",
            "\u001b[1m16/16\u001b[0m \u001b[32m━━━━━━━━━━━━━━━━━━━━\u001b[0m\u001b[37m\u001b[0m \u001b[1m1s\u001b[0m 56ms/step - accuracy: 0.9604 - loss: 0.1159 - val_accuracy: 0.7930 - val_loss: 1.0357\n"
          ]
        }
      ]
    },
    {
      "cell_type": "markdown",
      "metadata": {
        "id": "fJ719NgVPhVY"
      },
      "source": [
        "#### Visualize the training 1.1"
      ]
    },
    {
      "cell_type": "markdown",
      "source": [
        "Veuillez visualiser l'historique d'entraînement stocké dans 'history_1' en utilisant Matplotlib. Tracez un graphique affichant la perte d'entraînement et la perte de validation en fonction des epochs.\n",
        "Nommez le graphique 'Training and validation loss 1', étiquetez l'axe des x 'Epochs', l'axe des y 'Loss 1', et ajoutez une légende pour identifier les courbes. Les courbes doivent être différenciées par un label 'Training loss 1' et 'Validation loss 1'."
      ],
      "metadata": {
        "id": "bpK_pwTp6Yy1"
      }
    },
    {
      "cell_type": "code",
      "source": [
        "plt.plot(history_1.history['loss'], label='Training loss 1')\n",
        "plt.plot(history_1.history['val_loss'], label='Validation loss 1')\n",
        "plt.title('Training and Validation Loss 1')\n",
        "plt.xlabel('Epochs')\n",
        "plt.ylabel('Loss 1')\n",
        "plt.legend()\n",
        "plt.show()"
      ],
      "metadata": {
        "id": "WZLCN9T6BKCX",
        "outputId": "6ba39f5f-e5ee-45c0-d107-40676ecd06a2",
        "colab": {
          "base_uri": "https://localhost:8080/",
          "height": 472
        }
      },
      "execution_count": 22,
      "outputs": [
        {
          "output_type": "display_data",
          "data": {
            "text/plain": [
              "<Figure size 640x480 with 1 Axes>"
            ],
            "image/png": "[encoded data removed]"
          },
          "metadata": {}
        }
      ]
    },
    {
      "cell_type": "code",
      "metadata": {
        "id": "4dIcs5hdQ3Qs",
        "outputId": "b25c9e0c-d0c7-4909-ee8f-76ecc3766dea",
        "colab": {
          "base_uri": "https://localhost:8080/",
          "height": 472
        }
      },
      "source": [],
      "execution_count": null,
      "outputs": [
        {
          "output_type": "display_data",
          "data": {
            "text/plain": [
              "<Figure size 640x480 with 1 Axes>"
            ],
            "image/png": "[encoded data removed]"
          },
          "metadata": {}
        }
      ]
    },
    {
      "cell_type": "markdown",
      "metadata": {
        "id": "Y8hS8bQWR7QJ"
      },
      "source": [
        "#### Try using larger or smaller layers"
      ]
    },
    {
      "cell_type": "markdown",
      "metadata": {
        "id": "VrqRGgNbSGXp"
      },
      "source": [
        "##### 32 **units**"
      ]
    },
    {
      "cell_type": "markdown",
      "metadata": {
        "id": "iTsoeyyASHe8"
      },
      "source": [
        "###### Defining the network 1.2"
      ]
    },
    {
      "cell_type": "markdown",
      "source": [
        "Veuillez créer un modèle séquentiel nommé 'model_1'. Ajoutez-y successivement trois couches Dense :\n",
        "\n",
        "1. Une première couche avec 32 unités, une fonction d'activation 'relu', et une forme d'entrée de (1000,).\n",
        "2. Une deuxième couche avec 32 unités et une fonction d'activation 'relu'.\n",
        "3. Une troisième couche avec 46 unités et une fonction d'activation 'softmax'."
      ],
      "metadata": {
        "id": "EfpEYHGa6pqy"
      }
    },
    {
      "cell_type": "code",
      "metadata": {
        "id": "QsYtg6ZPSxDY",
        "colab": {
          "base_uri": "https://localhost:8080/"
        },
        "outputId": "3c55760c-2f35-4ab7-c392-48bd21bae081"
      },
      "source": [
        "model_1 = models.Sequential()\n",
        "model_1.add(layers.Dense(32, activation='relu', input_shape=(1000,)))\n",
        "model_1.add(layers.Dense(32, activation='relu'))\n",
        "model_1.add(layers.Dense(46, activation='softmax'))"
      ],
      "execution_count": 23,
      "outputs": [
        {
          "output_type": "stream",
          "name": "stderr",
          "text": [
            "/usr/local/lib/python3.11/dist-packages/keras/src/layers/core/dense.py:87: UserWarning: Do not pass an `input_shape`/`input_dim` argument to a layer. When using Sequential models, prefer using an `Input(shape)` object as the first layer in the model instead.\n",
            "  super().__init__(activity_regularizer=activity_regularizer, **kwargs)\n"
          ]
        }
      ]
    },
    {
      "cell_type": "markdown",
      "metadata": {
        "id": "aYRDzOZcQ8zh"
      },
      "source": [
        "Defining the network 1.3"
      ]
    },
    {
      "cell_type": "markdown",
      "metadata": {
        "id": "igoqITUSi1LS"
      },
      "source": [
        "Defining the optimizer and the loss"
      ]
    },
    {
      "cell_type": "markdown",
      "source": [
        "Veuillez compiler le modèle 'model_1' en utilisant l'optimiseur 'rmsprop', la fonction de perte 'categorical_crossentropy', et la métrique 'accuracy'."
      ],
      "metadata": {
        "id": "gsw5HFiV68R6"
      }
    },
    {
      "cell_type": "code",
      "metadata": {
        "id": "XAd5wmQJimDb"
      },
      "source": [
        "model_1.compile(optimizer='rmsprop',\n",
        "              loss='categorical_crossentropy',\n",
        "              metrics=['accuracy'])"
      ],
      "execution_count": 24,
      "outputs": []
    },
    {
      "cell_type": "markdown",
      "source": [
        "Veuillez créer un modèle séquentiel nommé 'model_2'. Ajoutez-y successivement trois couches Dense :\n",
        "\n",
        "1. Une première couche avec 128 unités, une fonction d'activation 'relu', et une forme d'entrée de (10000,).\n",
        "2. Une deuxième couche avec 128 unités et une fonction d'activation 'relu'.\n",
        "3. Une troisième couche avec 46 unités et une fonction d'activation 'softmax'."
      ],
      "metadata": {
        "id": "V5H3xsyt6_33"
      }
    },
    {
      "cell_type": "code",
      "metadata": {
        "id": "wy1UXocKmSO2",
        "outputId": "82257dc8-67b8-4ba7-fb59-4f832baadf43",
        "colab": {
          "base_uri": "https://localhost:8080/"
        }
      },
      "source": [
        "model_2 = models.Sequential()\n",
        "model_2.add(layers.Dense(128, activation='relu', input_shape=(10000,)))\n",
        "model_2.add(layers.Dense(128, activation='relu'))\n",
        "model_2.add(layers.Dense(46, activation='softmax'))"
      ],
      "execution_count": 26,
      "outputs": [
        {
          "output_type": "stream",
          "name": "stderr",
          "text": [
            "/usr/local/lib/python3.11/dist-packages/keras/src/layers/core/dense.py:87: UserWarning: Do not pass an `input_shape`/`input_dim` argument to a layer. When using Sequential models, prefer using an `Input(shape)` object as the first layer in the model instead.\n",
            "  super().__init__(activity_regularizer=activity_regularizer, **kwargs)\n"
          ]
        }
      ]
    },
    {
      "cell_type": "markdown",
      "metadata": {
        "id": "nLrhaT9XnUeC"
      },
      "source": [
        "###### Defining the network 1.4"
      ]
    },
    {
      "cell_type": "markdown",
      "metadata": {
        "id": "bKoqWme8nHGO"
      },
      "source": [
        "###### Defining the optimizer and the loss"
      ]
    },
    {
      "cell_type": "markdown",
      "source": [
        "Veuillez compiler le modèle nommé 'model_2' en utilisant l'optimiseur 'rmsprop', la fonction de perte 'categorical_crossentropy', et la métrique 'accuracy'."
      ],
      "metadata": {
        "id": "27g__jdW7SMX"
      }
    },
    {
      "cell_type": "code",
      "metadata": {
        "id": "IWWDIhdBjCJY"
      },
      "source": [
        "model_2.compile(optimizer='rmsprop',\n",
        "              loss='categorical_crossentropy',\n",
        "              metrics=['accuracy'])"
      ],
      "execution_count": 27,
      "outputs": []
    },
    {
      "cell_type": "markdown",
      "source": [
        "Veuillez entraîner le modèle nommé 'model_2' en utilisant 'partial_x_train' et 'partial_y_train' comme données d'entraînement, 'x_val' et 'y_val' comme données de validation, pendant 2 epochs avec une taille de batch de 512. Stockez l'historique d'entraînement dans une variable nommée 'history_1_2'."
      ],
      "metadata": {
        "id": "-O8g_1XF7Vuz"
      }
    },
    {
      "cell_type": "code",
      "metadata": {
        "id": "W7wB_T5FntKd",
        "outputId": "6cabafba-67af-4aa7-e876-012b42de5cb5",
        "colab": {
          "base_uri": "https://localhost:8080/"
        }
      },
      "source": [
        "history_1_2 = model_2.fit(partial_x_train, partial_y_train, epochs=2, batch_size=512, validation_data=(x_val, y_val))"
      ],
      "execution_count": 28,
      "outputs": [
        {
          "output_type": "stream",
          "name": "stdout",
          "text": [
            "Epoch 1/2\n",
            "\u001b[1m16/16\u001b[0m \u001b[32m━━━━━━━━━━━━━━━━━━━━\u001b[0m\u001b[37m\u001b[0m \u001b[1m3s\u001b[0m 120ms/step - accuracy: 0.4321 - loss: 2.9679 - val_accuracy: 0.6250 - val_loss: 1.5686\n",
            "Epoch 2/2\n",
            "\u001b[1m16/16\u001b[0m \u001b[32m━━━━━━━━━━━━━━━━━━━━\u001b[0m\u001b[37m\u001b[0m \u001b[1m2s\u001b[0m 100ms/step - accuracy: 0.6977 - loss: 1.3723 - val_accuracy: 0.7300 - val_loss: 1.1818\n"
          ]
        }
      ]
    },
    {
      "cell_type": "markdown",
      "source": [
        "Veuillez visualiser l'historique d'entraînement stocké dans 'history_1_2' en utilisant Matplotlib. Tracez un graphique affichant la perte d'entraînement et la perte de validation en fonction des epochs. Nommez le graphique 'Training and validation loss 1_2', étiquetez l'axe des x 'Epochs 1_2', l'axe des y 'Loss 1_2', et ajoutez une légende pour identifier les courbes. Les courbes doivent être différenciées par un label 'Training loss 1_2' et 'Validation loss 1_2'."
      ],
      "metadata": {
        "id": "RtF_22pS7uWZ"
      }
    },
    {
      "cell_type": "code",
      "source": [
        "plt.plot(history_1_2.history['loss'], label='Training loss 1_2')\n",
        "plt.plot(history_1_2.history['val_loss'], label='Validation loss 1_2')\n",
        "plt.title('Training and Validation Loss 1_2')\n",
        "plt.xlabel('Epochs 1_2')\n",
        "plt.ylabel('Loss 1_2')\n",
        "plt.legend()\n",
        "plt.show()"
      ],
      "metadata": {
        "id": "MfojOfpOB0h3",
        "outputId": "f0447ee0-e7e7-4c79-9a6f-8bb226e92286",
        "colab": {
          "base_uri": "https://localhost:8080/",
          "height": 472
        }
      },
      "execution_count": 29,
      "outputs": [
        {
          "output_type": "display_data",
          "data": {
            "text/plain": [
              "<Figure size 640x480 with 1 Axes>"
            ],
            "image/png": "[encoded data removed]"
          },
          "metadata": {}
        }
      ]
    },
    {
      "cell_type": "code",
      "metadata": {
        "id": "kGhQ0x8wrVrY",
        "outputId": "124211b8-578a-44e9-e73a-bfe9fca2e95c",
        "colab": {
          "base_uri": "https://localhost:8080/",
          "height": 472
        }
      },
      "source": [],
      "execution_count": null,
      "outputs": [
        {
          "output_type": "display_data",
          "data": {
            "text/plain": [
              "<Figure size 640x480 with 1 Axes>"
            ],
            "image/png": "[encoded data removed]"
          },
          "metadata": {}
        }
      ]
    }
  ]
}