{
  "nbformat": 4,
  "nbformat_minor": 0,
  "metadata": {
    "colab": {
      "provenance": [],
      "include_colab_link": true
    },
    "kernelspec": {
      "name": "python3",
      "display_name": "Python 3"
    }
  },
  "cells": [
    {
      "cell_type": "markdown",
      "metadata": {
        "id": "view-in-github",
        "colab_type": "text"
      },
      "source": [
        "<a href=\"https://colab.research.google.com/github/pat-ch0/DataScience-intro/blob/main/Multiclass_Classification_reuters.ipynb\" target=\"_parent\"><img src=\"https://colab.research.google.com/assets/colab-badge.svg\" alt=\"Open In Colab\"/></a>"
      ]
    },
    {
      "cell_type": "markdown",
      "source": [
        "## Chargement du jeu de données Reuters"
      ],
      "metadata": {
        "id": "V0tTfxBaw6ec"
      }
    },
    {
      "cell_type": "markdown",
      "metadata": {
        "id": "sAOtk4qstSTN"
      },
      "source": [
        "# Train a small dense network on the Reuters data"
      ]
    },
    {
      "cell_type": "markdown",
      "metadata": {
        "id": "NqhOmZZqtt3e"
      },
      "source": [
        "### define a vectorizer"
      ]
    },
    {
      "cell_type": "markdown",
      "metadata": {
        "id": "0T06MT0bwh6d"
      },
      "source": [
        "### import numpy"
      ]
    },
    {
      "cell_type": "markdown",
      "source": [
        "Importez NumPy en tant que 'np'."
      ],
      "metadata": {
        "id": "VhsBMTOC4Kvm"
      }
    },
    {
      "cell_type": "code",
      "source": [
        "import numpy as np"
      ],
      "metadata": {
        "id": "aDkZl06r4YD1"
      },
      "execution_count": 2,
      "outputs": []
    },
    {
      "cell_type": "markdown",
      "metadata": {
        "id": "nmQyNoYLEXx3"
      },
      "source": [
        "# Multiclass Classification 1.1"
      ]
    },
    {
      "cell_type": "markdown",
      "metadata": {
        "id": "xwf34iwvEToR"
      },
      "source": [
        "Vous allez travailler avec le jeu de données Reuters, un ensemble de dépêches courtes et leurs sujets, publié par Reuters en 1986. C'est un jeu de données simple et largement utilisé pour la classification de texte.\n",
        "\n",
        "Il y a 46 sujets différents ; certains sujets sont plus représentés que d'autres, mais chaque sujet a au moins 10 exemples dans l'ensemble d'entraînement."
      ]
    },
    {
      "cell_type": "markdown",
      "source": [
        "Cette code charge le jeu de données Reuters, qui est une collection d'articles de presse classés en différentes rubriques. Il est souvent utilisé pour les tâches de classification de texte."
      ],
      "metadata": {
        "id": "eXVEP4V2xFhf"
      }
    },
    {
      "cell_type": "markdown",
      "source": [
        "Importez 'reuters' depuis 'keras.datasets'."
      ],
      "metadata": {
        "id": "DNWHqauG4Tis"
      }
    },
    {
      "cell_type": "code",
      "source": [
        "from keras.datasets import reuters"
      ],
      "metadata": {
        "id": "KDMDnuvn4XbL"
      },
      "execution_count": 3,
      "outputs": []
    },
    {
      "cell_type": "code",
      "metadata": {
        "id": "7PNet4sCEg1H",
        "colab": {
          "base_uri": "https://localhost:8080/"
        },
        "outputId": "8bc66bc1-08a7-41a9-c439-5dd00aabdc3f"
      },
      "source": [
        "(train_data, train_labels), (test_data, test_labels) = reuters.load_data(num_words=10000)"
      ],
      "execution_count": 4,
      "outputs": [
        {
          "output_type": "stream",
          "name": "stdout",
          "text": [
            "Downloading data from https://storage.googleapis.com/tensorflow/tf-keras-datasets/reuters.npz\n",
            "\u001b[1m2110848/2110848\u001b[0m \u001b[32m━━━━━━━━━━━━━━━━━━━━\u001b[0m\u001b[37m\u001b[0m \u001b[1m0s\u001b[0m 0us/step\n"
          ]
        }
      ]
    },
    {
      "cell_type": "markdown",
      "metadata": {
        "id": "Sgm165n9EyR-"
      },
      "source": [
        "## Train a small dense network on the Reuters data"
      ]
    },
    {
      "cell_type": "markdown",
      "metadata": {
        "id": "j9GZE9CFE18m"
      },
      "source": [
        "### Encoding the data"
      ]
    },
    {
      "cell_type": "markdown",
      "metadata": {
        "id": "Kw4FTfphFYqm"
      },
      "source": [
        "#### def vectorize_sequences"
      ]
    },
    {
      "cell_type": "markdown",
      "source": [
        "Cette fonction transforme des séquences de mots en vecteurs numériques où chaque élément du vecteur indique la présence (1) ou l'absence (0) d'un mot spécifique dans la séquence. Cette représentation vectorielle est essentielle pour que le réseau neuronal puisse traiter les données textuelles."
      ],
      "metadata": {
        "id": "20uah1wrynJI"
      }
    },
    {
      "cell_type": "markdown",
      "source": [
        "L'objectif est de transformer une liste de séquences (dans ce cas, des articles de presse représentés par des séquences de nombres) en une représentation vectorielle, utilisable par un réseau neuronal."
      ],
      "metadata": {
        "id": "qIlLGqFOxjV9"
      }
    },
    {
      "cell_type": "code",
      "metadata": {
        "id": "iQ9OcL4PF8_R"
      },
      "source": [
        "def vectorize_sequences(sequences, dimension=10000):\n",
        "  results = np.zeros((len(sequences), dimension))\n",
        "  for i, sequence in enumerate(sequences):\n",
        "    results[i, sequence] = 1\n",
        "  return results"
      ],
      "execution_count": 5,
      "outputs": []
    },
    {
      "cell_type": "markdown",
      "source": [
        "`num_words=10000`: Cet argument spécifie que nous voulons uniquement conserver les 10 000 mots les plus fréquents du jeu de données. Les mots moins fréquents seront ignorés. Cela est fait pour réduire la complexité des données."
      ],
      "metadata": {
        "id": "L2zGhuYxxLzj"
      }
    },
    {
      "cell_type": "markdown",
      "source": [
        "* On crée une matrice remplie de zéros à l'aide de la fonction np.zeros.\n",
        "* enumerate permet d'obtenir à la fois l'index (i) et la valeur (sequence) de chaque élément de la liste.\n",
        "* `results[i, sequence] = 1:` est le cœur de la vectorisation. Pour chaque mot présent dans la sequence courante, on met à 1 la valeur correspondante dans la ligne i de la matrice results.\n",
        "En d'autres termes, si le mot d'index 54 est présent dans la séquence, on mettra `results[i, 54]` à 1."
      ],
      "metadata": {
        "id": "Fnnps_-9x2m3"
      }
    },
    {
      "cell_type": "markdown",
      "metadata": {
        "id": "gSXj2wXhF8uv"
      },
      "source": [
        "#### Encoding the data 1.0"
      ]
    },
    {
      "cell_type": "markdown",
      "source": [
        "Veuillez importer la fonction 'to_categorical' depuis 'tensorflow.keras.utils'. Ensuite, appliquez cette fonction à 'train_labels' et 'test_labels' pour créer respectivement 'one_hot_train_labels' et 'one_hot_test_labels'."
      ],
      "metadata": {
        "id": "wytt-1GK4wpa"
      }
    },
    {
      "cell_type": "code",
      "source": [
        "from tensorflow.keras.utils import to_categorical\n",
        "\n",
        "one_hot_train_labels = to_categorical(train_labels)\n",
        "one_hot_test_labels = to_categorical(test_labels)"
      ],
      "metadata": {
        "id": "Kf4aLFW94zRQ"
      },
      "execution_count": 6,
      "outputs": []
    },
    {
      "cell_type": "markdown",
      "source": [
        "**Qu'est-ce que le \"one-hot encoding\" ?**\n",
        "\n",
        "Imaginez que vous avez 4 catégories : \"sport\", \"finance\", \"technologie\", \"santé\". Au lieu de représenter ces catégories par des nombres (1, 2, 3, 4), le \"one-hot encoding\" les représente par des vecteurs binaires :\n",
        "\n",
        "- \"sport\" : [1, 0, 0, 0]\n",
        "- \"finance\" : [0, 1, 0, 0]\n",
        "- \"technologie\" : [0, 0, 1, 0]\n",
        "- \"santé\" : [0, 0, 0, 1]\n",
        "\n",
        "Chaque vecteur a un seul \"1\" à la position correspondant à la catégorie et des \"0\" partout ailleurs.\n",
        "\n",
        "**Pourquoi utiliser le \"one-hot encoding\" ?**\n",
        "\n",
        "Les réseaux neuronaux fonctionnent mieux avec des données numériques. Le \"one-hot encoding\" permet de représenter des catégories de manière numérique sans imposer un ordre artificiel entre elles (contrairement à l'utilisation de simples nombres). Cela évite de biaiser l'apprentissage du réseau neuronal.\n",
        "\n",
        "En résumé, ce code prépare les étiquettes de catégories des données d'entraînement et de test pour qu'elles puissent être utilisées efficacement par un réseau neuronal pour la classification de texte."
      ],
      "metadata": {
        "id": "CEcT2iNMzVKh"
      }
    },
    {
      "cell_type": "markdown",
      "metadata": {
        "id": "h9pfvXBOG3H-"
      },
      "source": [
        "### Defining the network"
      ]
    },
    {
      "cell_type": "markdown",
      "metadata": {
        "id": "-vxwex0LHF6v"
      },
      "source": [
        "### Defining the network 1.1"
      ]
    },
    {
      "cell_type": "markdown",
      "source": [
        "Importez 'models' et 'layers' depuis 'keras'."
      ],
      "metadata": {
        "id": "9WptzVsP47in"
      }
    },
    {
      "cell_type": "code",
      "metadata": {
        "id": "NqvIEguCG597"
      },
      "source": [
        "from keras import models, layers"
      ],
      "execution_count": 7,
      "outputs": []
    },
    {
      "cell_type": "markdown",
      "source": [
        "Veuillez créer un modèle séquentiel nommé 'model'. Ajoutez-y successivement trois couches Dense :\n",
        "\n",
        "1. Une première couche avec 64 unités, une fonction d'activation 'relu', et une forme d'entrée de (10000,).\n",
        "2. Une deuxième couche avec 64 unités et une fonction d'activation 'relu'.\n",
        "3. Une troisième couche avec 46 unités et une fonction d'activation 'softmax'"
      ],
      "metadata": {
        "id": "qrGmBmsn5IdO"
      }
    },
    {
      "cell_type": "code",
      "metadata": {
        "id": "Ry8mgrmWHWGf",
        "colab": {
          "base_uri": "https://localhost:8080/"
        },
        "outputId": "2f54f152-f7d9-41ef-e335-1caf59a56ecc"
      },
      "source": [
        "model = models.Sequential()\n",
        "model.add(layers.Dense(64, activation='relu', input_shape=(10000,)))\n",
        "model.add(layers.Dense(64, activation='relu'))\n",
        "model.add(layers.Dense(46, activation='softmax'))"
      ],
      "execution_count": 8,
      "outputs": [
        {
          "output_type": "stream",
          "name": "stderr",
          "text": [
            "/usr/local/lib/python3.11/dist-packages/keras/src/layers/core/dense.py:87: UserWarning: Do not pass an `input_shape`/`input_dim` argument to a layer. When using Sequential models, prefer using an `Input(shape)` object as the first layer in the model instead.\n",
            "  super().__init__(activity_regularizer=activity_regularizer, **kwargs)\n"
          ]
        }
      ]
    },
    {
      "cell_type": "markdown",
      "metadata": {
        "id": "EJUqSUvkH0UH"
      },
      "source": [
        "### Defining the optimizer and the loss"
      ]
    },
    {
      "cell_type": "markdown",
      "source": [
        "Veuillez compiler le modèle en utilisant l'optimiseur 'rmsprop', la fonction de perte 'categorical_crossentropy', et la métrique 'accuracy'."
      ],
      "metadata": {
        "id": "0qHTHW3B5SIr"
      }
    },
    {
      "cell_type": "code",
      "metadata": {
        "id": "kmQJJnKyHwVs"
      },
      "source": [
        "model.compile(optimizer='rmsprop',\n",
        "              loss='categorical_crossentropy',\n",
        "              metrics=['accuracy'])"
      ],
      "execution_count": 9,
      "outputs": []
    },
    {
      "cell_type": "markdown",
      "metadata": {
        "id": "f04gKZhzILXX"
      },
      "source": [
        "### Defining a validation set"
      ]
    },
    {
      "cell_type": "markdown",
      "metadata": {
        "id": "n5PG18w8Iz8c"
      },
      "source": [
        "### Encoding the data 1.1"
      ]
    },
    {
      "cell_type": "markdown",
      "metadata": {
        "id": "ZQKbOdfxJZ2Z"
      },
      "source": [
        "### Encoding the data 1.2"
      ]
    },
    {
      "cell_type": "markdown",
      "source": [
        "Veuillez appliquer la fonction 'vectorize_sequences' aux données d'entraînement ('train_data') et aux données de test ('test_data') pour créer respectivement les variables 'x_train' et 'x_test'."
      ],
      "metadata": {
        "id": "HGAjVwyb5ql5"
      }
    },
    {
      "cell_type": "code",
      "metadata": {
        "id": "QW39-AKgJTRy"
      },
      "source": [
        "x_train = vectorize_sequences(train_data)\n",
        "x_test = vectorize_sequences(test_data)"
      ],
      "execution_count": 10,
      "outputs": []
    },
    {
      "cell_type": "markdown",
      "metadata": {
        "id": "MddimZ4CJyTC"
      },
      "source": [
        "### Defining a validation set 1.1"
      ]
    },
    {
      "cell_type": "markdown",
      "source": [
        "Veuillez créer un ensemble de validation en utilisant les 1000 premières données de 'x_train' et 'one_hot_train_labels' et nommez-les respectivement 'x_val' et 'y_val'. Créez également des ensembles d'entraînement partiels en utilisant les données restantes de 'x_train' et 'one_hot_train_labels' et nommez-les respectivement 'partial_x_train' et 'partial_y_train'."
      ],
      "metadata": {
        "id": "eEjqV5Gh5v0U"
      }
    },
    {
      "cell_type": "code",
      "metadata": {
        "id": "CrPlM13YJnqe"
      },
      "source": [
        "x_val = x_train[:1000]\n",
        "partial_x_train = x_train[1000:]\n",
        "\n",
        "y_val = one_hot_train_labels[:1000]\n",
        "partial_y_train = one_hot_train_labels[1000:]"
      ],
      "execution_count": 11,
      "outputs": []
    },
    {
      "cell_type": "markdown",
      "metadata": {
        "id": "PAzc_ezsKMWX"
      },
      "source": [
        "### Training with a validation set"
      ]
    },
    {
      "cell_type": "markdown",
      "source": [
        "Veuillez entraîner le modèle en utilisant 'partial_x_train' et 'partial_y_train' comme données d'entraînement, 'x_val' et 'y_val' comme données de validation, pendant 20 epochs avec une taille de batch de 512. Stockez l'historique d'entraînement dans une variable nommée 'history'."
      ],
      "metadata": {
        "id": "zQ05lZTr55La"
      }
    },
    {
      "cell_type": "code",
      "metadata": {
        "id": "Uwt9cTIkKJrx",
        "outputId": "c8a18a48-ca41-4a8f-8f99-2e63b3069168",
        "colab": {
          "base_uri": "https://localhost:8080/"
        }
      },
      "source": [
        "history = model.fit(partial_x_train, partial_y_train, epochs=20, \\\n",
        "                    batch_size=512, validation_data=(x_val, y_val))"
      ],
      "execution_count": 12,
      "outputs": [
        {
          "output_type": "stream",
          "name": "stdout",
          "text": [
            "Epoch 1/20\n",
            "\u001b[1m16/16\u001b[0m \u001b[32m━━━━━━━━━━━━━━━━━━━━\u001b[0m\u001b[37m\u001b[0m \u001b[1m3s\u001b[0m 113ms/step - accuracy: 0.3668 - loss: 3.1598 - val_accuracy: 0.6160 - val_loss: 1.7889\n",
            "Epoch 2/20\n",
            "\u001b[1m16/16\u001b[0m \u001b[32m━━━━━━━━━━━━━━━━━━━━\u001b[0m\u001b[37m\u001b[0m \u001b[1m1s\u001b[0m 81ms/step - accuracy: 0.6781 - loss: 1.5911 - val_accuracy: 0.6860 - val_loss: 1.3617\n",
            "Epoch 3/20\n",
            "\u001b[1m16/16\u001b[0m \u001b[32m━━━━━━━━━━━━━━━━━━━━\u001b[0m\u001b[37m\u001b[0m \u001b[1m2s\u001b[0m 80ms/step - accuracy: 0.7330 - loss: 1.2109 - val_accuracy: 0.7250 - val_loss: 1.1948\n",
            "Epoch 4/20\n",
            "\u001b[1m16/16\u001b[0m \u001b[32m━━━━━━━━━━━━━━━━━━━━\u001b[0m\u001b[37m\u001b[0m \u001b[1m2s\u001b[0m 58ms/step - accuracy: 0.7853 - loss: 0.9774 - val_accuracy: 0.7630 - val_loss: 1.0614\n",
            "Epoch 5/20\n",
            "\u001b[1m16/16\u001b[0m \u001b[32m━━━━━━━━━━━━━━━━━━━━\u001b[0m\u001b[37m\u001b[0m \u001b[1m1s\u001b[0m 57ms/step - accuracy: 0.8290 - loss: 0.8082 - val_accuracy: 0.7800 - val_loss: 1.0091\n",
            "Epoch 6/20\n",
            "\u001b[1m16/16\u001b[0m \u001b[32m━━━━━━━━━━━━━━━━━━━━\u001b[0m\u001b[37m\u001b[0m \u001b[1m1s\u001b[0m 62ms/step - accuracy: 0.8633 - loss: 0.6626 - val_accuracy: 0.8080 - val_loss: 0.9140\n",
            "Epoch 7/20\n",
            "\u001b[1m16/16\u001b[0m \u001b[32m━━━━━━━━━━━━━━━━━━━━\u001b[0m\u001b[37m\u001b[0m \u001b[1m1s\u001b[0m 58ms/step - accuracy: 0.8862 - loss: 0.5539 - val_accuracy: 0.8050 - val_loss: 0.9001\n",
            "Epoch 8/20\n",
            "\u001b[1m16/16\u001b[0m \u001b[32m━━━━━━━━━━━━━━━━━━━━\u001b[0m\u001b[37m\u001b[0m \u001b[1m1s\u001b[0m 65ms/step - accuracy: 0.9050 - loss: 0.4684 - val_accuracy: 0.8220 - val_loss: 0.8539\n",
            "Epoch 9/20\n",
            "\u001b[1m16/16\u001b[0m \u001b[32m━━━━━━━━━━━━━━━━━━━━\u001b[0m\u001b[37m\u001b[0m \u001b[1m1s\u001b[0m 59ms/step - accuracy: 0.9213 - loss: 0.3942 - val_accuracy: 0.8120 - val_loss: 0.8595\n",
            "Epoch 10/20\n",
            "\u001b[1m16/16\u001b[0m \u001b[32m━━━━━━━━━━━━━━━━━━━━\u001b[0m\u001b[37m\u001b[0m \u001b[1m1s\u001b[0m 61ms/step - accuracy: 0.9291 - loss: 0.3364 - val_accuracy: 0.8090 - val_loss: 0.8552\n",
            "Epoch 11/20\n",
            "\u001b[1m16/16\u001b[0m \u001b[32m━━━━━━━━━━━━━━━━━━━━\u001b[0m\u001b[37m\u001b[0m \u001b[1m1s\u001b[0m 46ms/step - accuracy: 0.9376 - loss: 0.2906 - val_accuracy: 0.8210 - val_loss: 0.8397\n",
            "Epoch 12/20\n",
            "\u001b[1m16/16\u001b[0m \u001b[32m━━━━━━━━━━━━━━━━━━━━\u001b[0m\u001b[37m\u001b[0m \u001b[1m1s\u001b[0m 78ms/step - accuracy: 0.9461 - loss: 0.2454 - val_accuracy: 0.8170 - val_loss: 0.8605\n",
            "Epoch 13/20\n",
            "\u001b[1m16/16\u001b[0m \u001b[32m━━━━━━━━━━━━━━━━━━━━\u001b[0m\u001b[37m\u001b[0m \u001b[1m2s\u001b[0m 45ms/step - accuracy: 0.9507 - loss: 0.2173 - val_accuracy: 0.8180 - val_loss: 0.8639\n",
            "Epoch 14/20\n",
            "\u001b[1m16/16\u001b[0m \u001b[32m━━━━━━━━━━━━━━━━━━━━\u001b[0m\u001b[37m\u001b[0m \u001b[1m1s\u001b[0m 45ms/step - accuracy: 0.9524 - loss: 0.1917 - val_accuracy: 0.8190 - val_loss: 0.8652\n",
            "Epoch 15/20\n",
            "\u001b[1m16/16\u001b[0m \u001b[32m━━━━━━━━━━━━━━━━━━━━\u001b[0m\u001b[37m\u001b[0m \u001b[1m1s\u001b[0m 48ms/step - accuracy: 0.9597 - loss: 0.1664 - val_accuracy: 0.8200 - val_loss: 0.8731\n",
            "Epoch 16/20\n",
            "\u001b[1m16/16\u001b[0m \u001b[32m━━━━━━━━━━━━━━━━━━━━\u001b[0m\u001b[37m\u001b[0m \u001b[1m1s\u001b[0m 45ms/step - accuracy: 0.9568 - loss: 0.1637 - val_accuracy: 0.8100 - val_loss: 0.8916\n",
            "Epoch 17/20\n",
            "\u001b[1m16/16\u001b[0m \u001b[32m━━━━━━━━━━━━━━━━━━━━\u001b[0m\u001b[37m\u001b[0m \u001b[1m1s\u001b[0m 44ms/step - accuracy: 0.9634 - loss: 0.1488 - val_accuracy: 0.8110 - val_loss: 0.9167\n",
            "Epoch 18/20\n",
            "\u001b[1m16/16\u001b[0m \u001b[32m━━━━━━━━━━━━━━━━━━━━\u001b[0m\u001b[37m\u001b[0m \u001b[1m1s\u001b[0m 47ms/step - accuracy: 0.9621 - loss: 0.1298 - val_accuracy: 0.8150 - val_loss: 0.9110\n",
            "Epoch 19/20\n",
            "\u001b[1m16/16\u001b[0m \u001b[32m━━━━━━━━━━━━━━━━━━━━\u001b[0m\u001b[37m\u001b[0m \u001b[1m1s\u001b[0m 44ms/step - accuracy: 0.9581 - loss: 0.1348 - val_accuracy: 0.8200 - val_loss: 0.9300\n",
            "Epoch 20/20\n",
            "\u001b[1m16/16\u001b[0m \u001b[32m━━━━━━━━━━━━━━━━━━━━\u001b[0m\u001b[37m\u001b[0m \u001b[1m1s\u001b[0m 46ms/step - accuracy: 0.9619 - loss: 0.1212 - val_accuracy: 0.8080 - val_loss: 0.9492\n"
          ]
        }
      ]
    },
    {
      "cell_type": "markdown",
      "metadata": {
        "id": "HRvhJ2o_Klun"
      },
      "source": [
        "### Visualize the training"
      ]
    },
    {
      "cell_type": "markdown",
      "source": [
        "Veuillez visualiser l'historique d'entraînement en utilisant Matplotlib. Tracez un graphique affichant la perte d'entraînement et la perte de validation en fonction des epochs. Nommez le graphique 'Training and validation loss', étiquetez l'axe des x 'Epochs', l'axe des y 'Loss', et ajoutez une légende pour identifier les courbes."
      ],
      "metadata": {
        "id": "uXUTQFi_6C1R"
      }
    },
    {
      "cell_type": "code",
      "metadata": {
        "id": "dY89dZmxLX6A",
        "outputId": "2f740bd5-b2cb-4b39-dc55-b278ecd686f3",
        "colab": {
          "base_uri": "https://localhost:8080/",
          "height": 472
        }
      },
      "source": [
        "import matplotlib.pyplot as plt\n",
        "\n",
        "loss = history.history['loss']\n",
        "val_loss = history.history['val_loss']\n",
        "epochs = range(1, len(loss) + 1)\n",
        "plt.plot(epochs, loss, 'bo', label='Training loss')\n",
        "plt.plot(epochs, val_loss, 'b', label='Validation loss')\n",
        "plt.title('Training and validation loss')\n",
        "plt.xlabel('Epochs')\n",
        "plt.ylabel('Loss')\n",
        "plt.legend()\n",
        "plt.show()"
      ],
      "execution_count": 13,
      "outputs": [
        {
          "output_type": "display_data",
          "data": {
            "text/plain": [
              "<Figure size 640x480 with 1 Axes>"
            ],
            "image/png": "[encoded data removed]"
          },
          "metadata": {}
        }
      ]
    },
    {
      "cell_type": "markdown",
      "metadata": {
        "id": "XNHVB8FVMqdG"
      },
      "source": [
        "### Further experiments"
      ]
    },
    {
      "cell_type": "markdown",
      "metadata": {
        "id": "0KAg2oVmMsQp"
      },
      "source": [
        "#### Train on less epochs"
      ]
    },
    {
      "cell_type": "markdown",
      "source": [
        "Veuillez entraîner le modèle en utilisant 'partial_x_train' et 'partial_y_train' comme données d'entraînement, 'x_val' et 'y_val' comme données de validation, pendant 2 epochs avec une taille de batch de 512. Stockez l'historique d'entraînement dans une variable nommée 'history_1'."
      ],
      "metadata": {
        "id": "qPqAe4gU6PIu"
      }
    },
    {
      "cell_type": "code",
      "metadata": {
        "id": "LZ_x8RuJMmAj",
        "outputId": "e9242add-1b6a-4d2a-987d-9e71470dad5e",
        "colab": {
          "base_uri": "https://localhost:8080/"
        }
      },
      "source": [
        "history_1 = model.fit(partial_x_train, partial_y_train, epochs=2, \\\n",
        "                      batch_size=512, validation_data=(x_val, y_val))"
      ],
      "execution_count": 14,
      "outputs": [
        {
          "output_type": "stream",
          "name": "stdout",
          "text": [
            "Epoch 1/2\n",
            "\u001b[1m16/16\u001b[0m \u001b[32m━━━━━━━━━━━━━━━━━━━━\u001b[0m\u001b[37m\u001b[0m \u001b[1m1s\u001b[0m 51ms/step - accuracy: 0.9589 - loss: 0.1232 - val_accuracy: 0.7990 - val_loss: 0.9984\n",
            "Epoch 2/2\n",
            "\u001b[1m16/16\u001b[0m \u001b[32m━━━━━━━━━━━━━━━━━━━━\u001b[0m\u001b[37m\u001b[0m \u001b[1m1s\u001b[0m 47ms/step - accuracy: 0.9586 - loss: 0.1250 - val_accuracy: 0.8130 - val_loss: 0.9420\n"
          ]
        }
      ]
    },
    {
      "cell_type": "markdown",
      "metadata": {
        "id": "fJ719NgVPhVY"
      },
      "source": [
        "#### Visualize the training 1.1"
      ]
    },
    {
      "cell_type": "markdown",
      "source": [
        "Veuillez visualiser l'historique d'entraînement stocké dans 'history_1' en utilisant Matplotlib. Tracez un graphique affichant la perte d'entraînement et la perte de validation en fonction des epochs.\n",
        "Nommez le graphique 'Training and validation loss 1', étiquetez l'axe des x 'Epochs', l'axe des y 'Loss 1', et ajoutez une légende pour identifier les courbes. Les courbes doivent être différenciées par un label 'Training loss 1' et 'Validation loss 1'."
      ],
      "metadata": {
        "id": "bpK_pwTp6Yy1"
      }
    },
    {
      "cell_type": "code",
      "source": [
        "loss_1 = history_1.history['loss']\n",
        "val_loss_1 = history_1.history['val_loss']\n",
        "epochs = range(1, len(loss_1) + 1)\n",
        "plt.plot(epochs, loss_1, 'bo', label='Training loss 1')\n",
        "plt.plot(epochs, val_loss_1, 'b', label='Validation loss 1')\n",
        "plt.title('Training and validation loss 1')\n",
        "plt.xlabel('Epochs')\n",
        "plt.ylabel('Loss 1')\n",
        "plt.legend()\n",
        "plt.show()"
      ],
      "metadata": {
        "id": "WZLCN9T6BKCX",
        "outputId": "866e8b38-533b-44f5-f9fd-033bedf18a27",
        "colab": {
          "base_uri": "https://localhost:8080/",
          "height": 472
        }
      },
      "execution_count": 15,
      "outputs": [
        {
          "output_type": "display_data",
          "data": {
            "text/plain": [
              "<Figure size 640x480 with 1 Axes>"
            ],
            "image/png": "[encoded data removed]"
          },
          "metadata": {}
        }
      ]
    },
    {
      "cell_type": "markdown",
      "metadata": {
        "id": "Y8hS8bQWR7QJ"
      },
      "source": [
        "#### Try using larger or smaller layers"
      ]
    },
    {
      "cell_type": "markdown",
      "metadata": {
        "id": "VrqRGgNbSGXp"
      },
      "source": [
        "##### 32 **units**"
      ]
    },
    {
      "cell_type": "markdown",
      "metadata": {
        "id": "iTsoeyyASHe8"
      },
      "source": [
        "###### Defining the network 1.2"
      ]
    },
    {
      "cell_type": "markdown",
      "source": [
        "Veuillez créer un modèle séquentiel nommé 'model_1'. Ajoutez-y successivement trois couches Dense :\n",
        "\n",
        "1. Une première couche avec 32 unités, une fonction d'activation 'relu', et une forme d'entrée de (1000,).\n",
        "2. Une deuxième couche avec 32 unités et une fonction d'activation 'relu'.\n",
        "3. Une troisième couche avec 46 unités et une fonction d'activation 'softmax'."
      ],
      "metadata": {
        "id": "EfpEYHGa6pqy"
      }
    },
    {
      "cell_type": "code",
      "metadata": {
        "id": "QsYtg6ZPSxDY"
      },
      "source": [
        "model_1 = models.Sequential()\n",
        "model_1.add(layers.Dense(32, activation='relu', input_shape=(1000,)))\n",
        "model_1.add(layers.Dense(32, activation='relu'))\n",
        "model_1.add(layers.Dense(46, activation='softmax'))"
      ],
      "execution_count": 16,
      "outputs": []
    },
    {
      "cell_type": "markdown",
      "metadata": {
        "id": "aYRDzOZcQ8zh"
      },
      "source": [
        "Defining the network 1.3"
      ]
    },
    {
      "cell_type": "markdown",
      "metadata": {
        "id": "igoqITUSi1LS"
      },
      "source": [
        "Defining the optimizer and the loss"
      ]
    },
    {
      "cell_type": "markdown",
      "source": [
        "Veuillez compiler le modèle 'model_1' en utilisant l'optimiseur 'rmsprop', la fonction de perte 'categorical_crossentropy', et la métrique 'accuracy'."
      ],
      "metadata": {
        "id": "gsw5HFiV68R6"
      }
    },
    {
      "cell_type": "code",
      "metadata": {
        "id": "XAd5wmQJimDb"
      },
      "source": [
        "model_1.compile(optimizer='rmsprop',\n",
        "              loss='categorical_crossentropy',\n",
        "              metrics=['accuracy'])"
      ],
      "execution_count": 17,
      "outputs": []
    },
    {
      "cell_type": "markdown",
      "source": [
        "Veuillez créer un modèle séquentiel nommé 'model_2'. Ajoutez-y successivement trois couches Dense :\n",
        "\n",
        "1. Une première couche avec 128 unités, une fonction d'activation 'relu', et une forme d'entrée de (10000,).\n",
        "2. Une deuxième couche avec 128 unités et une fonction d'activation 'relu'.\n",
        "3. Une troisième couche avec 46 unités et une fonction d'activation 'softmax'."
      ],
      "metadata": {
        "id": "V5H3xsyt6_33"
      }
    },
    {
      "cell_type": "code",
      "metadata": {
        "id": "wy1UXocKmSO2"
      },
      "source": [
        "model_2 = models.Sequential()\n",
        "model_2.add(layers.Dense(128, activation='relu', input_shape=(10000,)))\n",
        "model_2.add(layers.Dense(128, activation='relu'))\n",
        "model_2.add(layers.Dense(46, activation='softmax'))"
      ],
      "execution_count": 18,
      "outputs": []
    },
    {
      "cell_type": "markdown",
      "metadata": {
        "id": "nLrhaT9XnUeC"
      },
      "source": [
        "###### Defining the network 1.4"
      ]
    },
    {
      "cell_type": "markdown",
      "metadata": {
        "id": "bKoqWme8nHGO"
      },
      "source": [
        "###### Defining the optimizer and the loss"
      ]
    },
    {
      "cell_type": "markdown",
      "source": [
        "Veuillez compiler le modèle nommé 'model_2' en utilisant l'optimiseur 'rmsprop', la fonction de perte 'categorical_crossentropy', et la métrique 'accuracy'."
      ],
      "metadata": {
        "id": "27g__jdW7SMX"
      }
    },
    {
      "cell_type": "code",
      "metadata": {
        "id": "IWWDIhdBjCJY"
      },
      "source": [
        "model_2.compile(optimizer='rmsprop',\n",
        "              loss='categorical_crossentropy',\n",
        "              metrics=['accuracy'])"
      ],
      "execution_count": 19,
      "outputs": []
    },
    {
      "cell_type": "markdown",
      "source": [
        "Veuillez entraîner le modèle nommé 'model_2' en utilisant 'partial_x_train' et 'partial_y_train' comme données d'entraînement, 'x_val' et 'y_val' comme données de validation, pendant 2 epochs avec une taille de batch de 512. Stockez l'historique d'entraînement dans une variable nommée 'history_1_2'."
      ],
      "metadata": {
        "id": "-O8g_1XF7Vuz"
      }
    },
    {
      "cell_type": "code",
      "metadata": {
        "id": "W7wB_T5FntKd",
        "outputId": "5532aa10-e11c-42a8-9f49-7844d45c3f2f",
        "colab": {
          "base_uri": "https://localhost:8080/"
        }
      },
      "source": [
        "history_1_2 = model_2.fit(partial_x_train, partial_y_train, epochs=2, \\\n",
        "                          batch_size=512, validation_data=(x_val, y_val))"
      ],
      "execution_count": 20,
      "outputs": [
        {
          "output_type": "stream",
          "name": "stdout",
          "text": [
            "Epoch 1/2\n",
            "\u001b[1m16/16\u001b[0m \u001b[32m━━━━━━━━━━━━━━━━━━━━\u001b[0m\u001b[37m\u001b[0m \u001b[1m2s\u001b[0m 109ms/step - accuracy: 0.4307 - loss: 2.9125 - val_accuracy: 0.6690 - val_loss: 1.4946\n",
            "Epoch 2/2\n",
            "\u001b[1m16/16\u001b[0m \u001b[32m━━━━━━━━━━━━━━━━━━━━\u001b[0m\u001b[37m\u001b[0m \u001b[1m1s\u001b[0m 77ms/step - accuracy: 0.7016 - loss: 1.3532 - val_accuracy: 0.7170 - val_loss: 1.2163\n"
          ]
        }
      ]
    },
    {
      "cell_type": "markdown",
      "source": [
        "Veuillez visualiser l'historique d'entraînement stocké dans 'history_1_2' en utilisant Matplotlib. Tracez un graphique affichant la perte d'entraînement et la perte de validation en fonction des epochs. Nommez le graphique 'Training and validation loss 1_2', étiquetez l'axe des x 'Epochs 1_2', l'axe des y 'Loss 1_2', et ajoutez une légende pour identifier les courbes. Les courbes doivent être différenciées par un label 'Training loss 1_2' et 'Validation loss 1_2'."
      ],
      "metadata": {
        "id": "RtF_22pS7uWZ"
      }
    },
    {
      "cell_type": "code",
      "source": [
        "loss_1_2 = history_1_2.history['loss']\n",
        "val_loss_1_2 = history_1_2.history['val_loss']\n",
        "epochs = range(1, len(loss_1_2) + 1)\n",
        "plt.plot(epochs, loss_1_2, 'bo', label='Training loss 1_2')\n",
        "plt.plot(epochs, val_loss_1_2, 'b', label='Validation loss 1_2')\n",
        "plt.title('Training and validation loss 1_2')\n",
        "plt.xlabel('Epochs 1_2')\n",
        "plt.ylabel('Loss 1_2')\n",
        "plt.legend()\n",
        "plt.show()"
      ],
      "metadata": {
        "id": "MfojOfpOB0h3",
        "outputId": "dd84d851-8f89-4d0d-df62-09585c8cb4ca",
        "colab": {
          "base_uri": "https://localhost:8080/",
          "height": 472
        }
      },
      "execution_count": 21,
      "outputs": [
        {
          "output_type": "display_data",
          "data": {
            "text/plain": [
              "<Figure size 640x480 with 1 Axes>"
            ],
            "image/png": "[encoded data removed]"
          },
          "metadata": {}
        }
      ]
    }
  ]
}