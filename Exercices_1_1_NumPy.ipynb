{
  "nbformat": 4,
  "nbformat_minor": 0,
  "metadata": {
    "colab": {
      "provenance": [],
      "include_colab_link": true
    },
    "kernelspec": {
      "name": "python3",
      "display_name": "Python 3"
    },
    "language_info": {
      "name": "python"
    }
  },
  "cells": [
    {
      "cell_type": "markdown",
      "metadata": {
        "id": "view-in-github",
        "colab_type": "text"
      },
      "source": [
        "<a href=\"https://colab.research.google.com/github/pat-ch0/NumPy-intro/blob/main/Exercices_1_1_NumPy.ipynb\" target=\"_parent\"><img src=\"https://colab.research.google.com/assets/colab-badge.svg\" alt=\"Open In Colab\"/></a>"
      ]
    },
    {
      "cell_type": "markdown",
      "source": [
        "# Introduction à NumPy\n",
        "\n",
        "Ce cours présente la bibliothèque NumPy, un outil essentiel pour le calcul scientifique en Python. NumPy fournit des structures de données puissantes, telles que les tableaux multidimensionnels, ainsi que des fonctions mathématiques optimisées pour travailler avec ces tableaux.\n",
        "\n",
        "NumPy est largement utilisé en science des données, en apprentissage automatique et dans de nombreux autres domaines scientifiques pour effectuer des calculs numériques complexes de manière efficace."
      ],
      "metadata": {
        "id": "v0e6xyH9ptrz"
      }
    },
    {
      "cell_type": "markdown",
      "source": [
        "Tester les commandes suivantes"
      ],
      "metadata": {
        "id": "OuHRdUL95EIn"
      }
    },
    {
      "cell_type": "markdown",
      "source": [
        "`import numpy as np`"
      ],
      "metadata": {
        "id": "jJNMD8z449oi"
      }
    },
    {
      "cell_type": "code",
      "execution_count": 1,
      "metadata": {
        "id": "eYeK4ZupIwf2"
      },
      "outputs": [],
      "source": [
        "import numpy as np"
      ]
    },
    {
      "cell_type": "markdown",
      "source": [
        "`as` crée un alias ou un raccourci pour la bibliothèque `numpy`. Au lieu d'écrire `numpy` chaque fois que vous souhaitez utiliser l'une de ses fonctions ou de ses objets, vous pouvez simplement utiliser `np`. Il s'agit d'une convention dans la communauté Python pour l'utilisation de NumPy."
      ],
      "metadata": {
        "id": "e-RsNQj7KYDU"
      }
    },
    {
      "cell_type": "markdown",
      "source": [
        "`mylist = [1,2,3]`"
      ],
      "metadata": {
        "id": "5Ir9RNLi5JYU"
      }
    },
    {
      "cell_type": "code",
      "source": [
        "mylist = [1,2,3]"
      ],
      "metadata": {
        "id": "zYkCPKZcI3HX"
      },
      "execution_count": 2,
      "outputs": []
    },
    {
      "cell_type": "markdown",
      "source": [
        "`type(mylist)`"
      ],
      "metadata": {
        "id": "8F2RGf1J5LK4"
      }
    },
    {
      "cell_type": "code",
      "source": [
        "type(mylist)"
      ],
      "metadata": {
        "colab": {
          "base_uri": "https://localhost:8080/"
        },
        "id": "ssXbd1NJI_Ie",
        "outputId": "5c7d59b2-c84c-4126-edb1-a67a4a13310c"
      },
      "execution_count": 3,
      "outputs": [
        {
          "output_type": "execute_result",
          "data": {
            "text/plain": [
              "list"
            ]
          },
          "metadata": {},
          "execution_count": 3
        }
      ]
    },
    {
      "cell_type": "markdown",
      "source": [
        "`np.array(mylist)`"
      ],
      "metadata": {
        "id": "LoGETChh5Qfc"
      }
    },
    {
      "cell_type": "code",
      "source": [
        "np.array(mylist)"
      ],
      "metadata": {
        "colab": {
          "base_uri": "https://localhost:8080/"
        },
        "id": "pbmdXen6JBzB",
        "outputId": "1f05cb86-4b89-412b-ab10-91c0a873ff85"
      },
      "execution_count": 4,
      "outputs": [
        {
          "output_type": "execute_result",
          "data": {
            "text/plain": [
              "array([1, 2, 3])"
            ]
          },
          "metadata": {},
          "execution_count": 4
        }
      ]
    },
    {
      "cell_type": "markdown",
      "source": [
        "`mylist`"
      ],
      "metadata": {
        "id": "Zcuk6VMU5SOI"
      }
    },
    {
      "cell_type": "code",
      "source": [
        "mylist"
      ],
      "metadata": {
        "id": "abzrOeHXUP4S",
        "outputId": "d6056548-097d-4fcd-e04b-3eaf0dcd88f1",
        "colab": {
          "base_uri": "https://localhost:8080/"
        }
      },
      "execution_count": 9,
      "outputs": [
        {
          "output_type": "execute_result",
          "data": {
            "text/plain": [
              "[1, 2, 3]"
            ]
          },
          "metadata": {},
          "execution_count": 9
        }
      ]
    },
    {
      "cell_type": "markdown",
      "source": [
        "`myarr = np.array(mylist)`"
      ],
      "metadata": {
        "id": "ZhlXesQU5TwB"
      }
    },
    {
      "cell_type": "code",
      "source": [
        "myarr = np.array(mylist)"
      ],
      "metadata": {
        "id": "itghUEBOJF6r"
      },
      "execution_count": 7,
      "outputs": []
    },
    {
      "cell_type": "markdown",
      "source": [
        "`myarr`"
      ],
      "metadata": {
        "id": "aCoIpzcV5VRO"
      }
    },
    {
      "cell_type": "code",
      "source": [
        "myarr"
      ],
      "metadata": {
        "id": "KBAL-AXcULlh",
        "outputId": "d202a69e-7065-4bda-d281-a9f81b22cf63",
        "colab": {
          "base_uri": "https://localhost:8080/"
        }
      },
      "execution_count": 8,
      "outputs": [
        {
          "output_type": "execute_result",
          "data": {
            "text/plain": [
              "array([1, 2, 3])"
            ]
          },
          "metadata": {},
          "execution_count": 8
        }
      ]
    },
    {
      "cell_type": "markdown",
      "source": [
        "`type(myarr)`"
      ],
      "metadata": {
        "id": "3IW0_B2u5WlR"
      }
    },
    {
      "cell_type": "code",
      "source": [
        "type(myarr)"
      ],
      "metadata": {
        "id": "2BfTLbnbUSli",
        "outputId": "52be56cc-31df-4043-f299-eb4fcde7c305",
        "colab": {
          "base_uri": "https://localhost:8080/"
        }
      },
      "execution_count": 10,
      "outputs": [
        {
          "output_type": "execute_result",
          "data": {
            "text/plain": [
              "numpy.ndarray"
            ]
          },
          "metadata": {},
          "execution_count": 10
        }
      ]
    },
    {
      "cell_type": "markdown",
      "source": [
        "`my_matrix = [[1,2,3],[4,5,6],[7,8,9]]`"
      ],
      "metadata": {
        "id": "NBSFOGcl5YCC"
      }
    },
    {
      "cell_type": "code",
      "source": [
        "my_matrix = [[1,2,3],[4,5,6],[7,8,9]]"
      ],
      "metadata": {
        "id": "KXglhSI9JLX3"
      },
      "execution_count": 11,
      "outputs": []
    },
    {
      "cell_type": "markdown",
      "source": [
        "`np.array(my_matrix)`"
      ],
      "metadata": {
        "id": "doMR2IBa5Ze0"
      }
    },
    {
      "cell_type": "code",
      "source": [
        "np.array(my_matrix)"
      ],
      "metadata": {
        "id": "pD9TmvW2UYU8",
        "outputId": "7cb9d05b-582a-4eb7-d208-b57d71cc2ea2",
        "colab": {
          "base_uri": "https://localhost:8080/"
        }
      },
      "execution_count": 12,
      "outputs": [
        {
          "output_type": "execute_result",
          "data": {
            "text/plain": [
              "array([[1, 2, 3],\n",
              "       [4, 5, 6],\n",
              "       [7, 8, 9]])"
            ]
          },
          "metadata": {},
          "execution_count": 12
        }
      ]
    },
    {
      "cell_type": "markdown",
      "source": [
        "`np.arange(0,10)`\n"
      ],
      "metadata": {
        "id": "GiShmxOE5abk"
      }
    },
    {
      "cell_type": "code",
      "source": [
        "np.arange(0,10)"
      ],
      "metadata": {
        "colab": {
          "base_uri": "https://localhost:8080/"
        },
        "id": "SpUo-CIbJXYX",
        "outputId": "8c663976-9481-4779-a901-ac0cff137865"
      },
      "execution_count": 13,
      "outputs": [
        {
          "output_type": "execute_result",
          "data": {
            "text/plain": [
              "array([0, 1, 2, 3, 4, 5, 6, 7, 8, 9])"
            ]
          },
          "metadata": {},
          "execution_count": 13
        }
      ]
    },
    {
      "cell_type": "markdown",
      "source": [
        "`np.arange(0,10,2)`"
      ],
      "metadata": {
        "id": "HEtWM4eu5eer"
      }
    },
    {
      "cell_type": "code",
      "source": [
        "np.arange(0,10,2)"
      ],
      "metadata": {
        "colab": {
          "base_uri": "https://localhost:8080/"
        },
        "id": "zsYNU-aqJieO",
        "outputId": "c129d173-e44b-461d-e5c8-46f2ed7ff360"
      },
      "execution_count": 14,
      "outputs": [
        {
          "output_type": "execute_result",
          "data": {
            "text/plain": [
              "array([0, 2, 4, 6, 8])"
            ]
          },
          "metadata": {},
          "execution_count": 14
        }
      ]
    },
    {
      "cell_type": "markdown",
      "source": [
        "`np.arange(0,101,2)`"
      ],
      "metadata": {
        "id": "Q2YYTT-55gxV"
      }
    },
    {
      "cell_type": "code",
      "source": [
        "np.arange(0,101,2)"
      ],
      "metadata": {
        "colab": {
          "base_uri": "https://localhost:8080/"
        },
        "id": "fvcNo0U4JoUl",
        "outputId": "8ccb9ac7-59fa-49db-82c2-f141d9869078"
      },
      "execution_count": 15,
      "outputs": [
        {
          "output_type": "execute_result",
          "data": {
            "text/plain": [
              "array([  0,   2,   4,   6,   8,  10,  12,  14,  16,  18,  20,  22,  24,\n",
              "        26,  28,  30,  32,  34,  36,  38,  40,  42,  44,  46,  48,  50,\n",
              "        52,  54,  56,  58,  60,  62,  64,  66,  68,  70,  72,  74,  76,\n",
              "        78,  80,  82,  84,  86,  88,  90,  92,  94,  96,  98, 100])"
            ]
          },
          "metadata": {},
          "execution_count": 15
        }
      ]
    },
    {
      "cell_type": "markdown",
      "source": [
        "`np.arange(0,101,20)`"
      ],
      "metadata": {
        "id": "OmAfwsMf5i2h"
      }
    },
    {
      "cell_type": "code",
      "source": [
        "np.arange(0,101,20)"
      ],
      "metadata": {
        "colab": {
          "base_uri": "https://localhost:8080/"
        },
        "id": "DAIo1x23JsPQ",
        "outputId": "262673e4-65cf-4c21-b1b0-2d8f920a083e"
      },
      "execution_count": 16,
      "outputs": [
        {
          "output_type": "execute_result",
          "data": {
            "text/plain": [
              "array([  0,  20,  40,  60,  80, 100])"
            ]
          },
          "metadata": {},
          "execution_count": 16
        }
      ]
    },
    {
      "cell_type": "markdown",
      "source": [
        "\n",
        "```\n",
        "import numpy as np\n",
        "\n",
        "# Création d'un tableau à partir d'une liste\n",
        "mylist = [1, 2, 3]\n",
        "myarr = np.array(mylist)\n",
        "print(myarr)\n",
        "\n",
        "# Création d'un tableau de zéros\n",
        "zeros_arr = np.zeros(5)\n",
        "print(zeros_arr)\n",
        "\n",
        "# Création d'un tableau avec une séquence de nombres\n",
        "seq_arr = np.arange(0, 10, 2)\n",
        "print(seq_arr)\n",
        "\n",
        "# Accès aux attributs d'un tableau\n",
        "print(seq_arr.shape)\n",
        "print(seq_arr.dtype)\n",
        "```\n",
        "\n"
      ],
      "metadata": {
        "id": "CS1zdQsl5lSu"
      }
    },
    {
      "source": [
        "import numpy as np\n",
        "\n",
        "# Création d'un tableau à partir d'une liste\n",
        "mylist = [1, 2, 3]\n",
        "myarr = np.array(mylist)\n",
        "print(myarr)\n",
        "\n",
        "# Création d'un tableau de zéros\n",
        "zeros_arr = np.zeros(5)\n",
        "print(zeros_arr)\n",
        "\n",
        "# Création d'un tableau avec une séquence de nombres\n",
        "seq_arr = np.arange(0, 10, 2)\n",
        "print(seq_arr)\n",
        "\n",
        "# Accès aux attributs d'un tableau\n",
        "print(seq_arr.shape)\n",
        "print(seq_arr.dtype)"
      ],
      "cell_type": "code",
      "metadata": {
        "id": "X_fQAMD1qiRB",
        "outputId": "9ffc90b8-22db-4261-84f6-94b109e21450",
        "colab": {
          "base_uri": "https://localhost:8080/"
        }
      },
      "execution_count": 17,
      "outputs": [
        {
          "output_type": "stream",
          "name": "stdout",
          "text": [
            "[1 2 3]\n",
            "[0. 0. 0. 0. 0.]\n",
            "[0 2 4 6 8]\n",
            "(5,)\n",
            "int64\n"
          ]
        }
      ]
    },
    {
      "cell_type": "markdown",
      "source": [
        "\n",
        "\n",
        "```\n",
        "arr = np.arange(0, 11)\n",
        "\n",
        "# Accès au 8ème élément\n",
        "print(arr[8])\n",
        "\n",
        "# Sélection des éléments de l'index 1 à 4\n",
        "print(arr[1:5])\n",
        "\n",
        "# Indexation booléenne\n",
        "bool_arr = arr > 4\n",
        "print(arr[bool_arr])\n",
        "```\n",
        "\n"
      ],
      "metadata": {
        "id": "r105XFiE6KL6"
      }
    },
    {
      "source": [
        "arr = np.arange(0, 11)\n",
        "\n",
        "# Accès au 8ème élément\n",
        "print(arr[8])\n",
        "\n",
        "# Sélection des éléments de l'index 1 à 4\n",
        "print(arr[1:5])\n",
        "\n",
        "# Indexation booléenne\n",
        "bool_arr = arr > 4\n",
        "#print(bool_arr)\n",
        "print(arr[bool_arr])"
      ],
      "cell_type": "code",
      "metadata": {
        "id": "7_C1oDD9qtXh",
        "outputId": "74efcadc-a0f9-4024-e31a-5dddea096307",
        "colab": {
          "base_uri": "https://localhost:8080/"
        }
      },
      "execution_count": 19,
      "outputs": [
        {
          "output_type": "stream",
          "name": "stdout",
          "text": [
            "8\n",
            "[1 2 3 4]\n",
            "[False False False False False  True  True  True  True  True  True]\n",
            "[ 5  6  7  8  9 10]\n"
          ]
        }
      ]
    },
    {
      "cell_type": "markdown",
      "source": [
        "\n",
        "\n",
        "```\n",
        "arr = np.arange(0, 10)\n",
        "\n",
        "# Addition de 5 à chaque élément\n",
        "print(arr + 5)\n",
        "\n",
        "# Calcul de la racine carrée de chaque élément\n",
        "print(np.sqrt(arr))\n",
        "\n",
        "# Calcul de la somme de tous les éléments\n",
        "print(arr.sum())\n",
        "```\n",
        "\n"
      ],
      "metadata": {
        "id": "L2LFobF46UdB"
      }
    },
    {
      "source": [
        "arr = np.arange(0, 10)\n",
        "\n",
        "# Addition de 5 à chaque élément\n",
        "print(arr + 5)\n",
        "\n",
        "# Calcul de la racine carrée de chaque élément\n",
        "print(np.sqrt(arr))\n",
        "\n",
        "# Calcul de la somme de tous les éléments\n",
        "print(arr.sum())"
      ],
      "cell_type": "code",
      "metadata": {
        "id": "TQKVzn2oqwoK",
        "outputId": "376befe9-40af-4667-a56e-769c84511ab2",
        "colab": {
          "base_uri": "https://localhost:8080/"
        }
      },
      "execution_count": 20,
      "outputs": [
        {
          "output_type": "stream",
          "name": "stdout",
          "text": [
            "[ 5  6  7  8  9 10 11 12 13 14]\n",
            "[0.         1.         1.41421356 1.73205081 2.         2.23606798\n",
            " 2.44948974 2.64575131 2.82842712 3.        ]\n",
            "45\n"
          ]
        }
      ]
    },
    {
      "cell_type": "markdown",
      "source": [
        "\n",
        "\n",
        "---\n",
        "\n"
      ],
      "metadata": {
        "id": "KMjz0UNzuH3X"
      }
    },
    {
      "cell_type": "markdown",
      "source": [
        "\n",
        "\n",
        "```\n",
        "np.zeros(5)\n",
        "```\n",
        "\n"
      ],
      "metadata": {
        "id": "duns1AMH6ZCf"
      }
    },
    {
      "cell_type": "markdown",
      "source": [
        "Ce code utilise la bibliothèque NumPy (np) pour créer un nouveau tableau.\n",
        "\n",
        "Examinons les composants :\n",
        "\n",
        "``` np```  : fait référence à la bibliothèque NumPy, qui a été importée à l'aide de import numpy as np. NumPy fournit des outils puissants pour travailler avec des données numériques en Python, y compris les tableaux.\n",
        "\n",
        "``` zeros()```  : une fonction de NumPy qui crée un tableau rempli de zéros.\n",
        "\n",
        "``` (5)```  : l'argument passé à la fonction zeros(). Il spécifie la forme du tableau que vous souhaitez créer. Dans ce cas, il s'agit d'un nombre unique, 5, indiquant que vous souhaitez un tableau unidimensionnel de 5 éléments.\n",
        "\n",
        "En substance, cette ligne de code crée un tableau NumPy unidimensionnel contenant 5 éléments, tous initialisés à 0.\n",
        "\n",
        "Imaginez que vous créez un conteneur avec 5 emplacements, et que chaque emplacement est initialement rempli avec la valeur 0. Ce tableau peut ensuite être utilisé pour stocker et manipuler des données numériques dans vos programmes Python."
      ],
      "metadata": {
        "id": "6zx58Ls8sFIf"
      }
    },
    {
      "cell_type": "code",
      "source": [
        "np.zeros(5)"
      ],
      "metadata": {
        "colab": {
          "base_uri": "https://localhost:8080/"
        },
        "id": "wgxUKc8IJvtO",
        "outputId": "e0010f18-b529-44f0-9849-1ac3edcc9dab"
      },
      "execution_count": 21,
      "outputs": [
        {
          "output_type": "execute_result",
          "data": {
            "text/plain": [
              "array([0., 0., 0., 0., 0.])"
            ]
          },
          "metadata": {},
          "execution_count": 21
        }
      ]
    },
    {
      "cell_type": "markdown",
      "source": [
        "\n",
        "\n",
        "---\n",
        "\n"
      ],
      "metadata": {
        "id": "8zES4EqouKQb"
      }
    },
    {
      "cell_type": "markdown",
      "source": [
        "\n",
        "\n",
        "```\n",
        "np.zeros((5,5))\n",
        "```\n",
        "\n",
        "Cette ligne de code crée un tableau à deux dimensions (aussi appelé matrice) rempli de zéros.\n",
        "\n",
        "\n",
        "\n",
        "``` ((5, 5))```  : l'argument passé à la fonction ``` zeros()``` . Il spécifie la forme ou les dimensions du tableau que vous souhaitez créer. Dans ce cas, (5, 5) représente un tableau à deux dimensions avec 5 lignes et 5 colonnes."
      ],
      "metadata": {
        "id": "agnPrRVms0bz"
      }
    },
    {
      "cell_type": "code",
      "source": [
        "np.zeros((5,5))"
      ],
      "metadata": {
        "colab": {
          "base_uri": "https://localhost:8080/"
        },
        "id": "LZv4dYSGJ08M",
        "outputId": "b90493bf-f3cd-49dc-b64d-df82f2837310"
      },
      "execution_count": 22,
      "outputs": [
        {
          "output_type": "execute_result",
          "data": {
            "text/plain": [
              "array([[0., 0., 0., 0., 0.],\n",
              "       [0., 0., 0., 0., 0.],\n",
              "       [0., 0., 0., 0., 0.],\n",
              "       [0., 0., 0., 0., 0.],\n",
              "       [0., 0., 0., 0., 0.]])"
            ]
          },
          "metadata": {},
          "execution_count": 22
        }
      ]
    },
    {
      "cell_type": "markdown",
      "source": [
        "\n",
        "\n",
        "---\n",
        "\n"
      ],
      "metadata": {
        "id": "QLZ30rJYuM4A"
      }
    },
    {
      "cell_type": "markdown",
      "source": [
        "\n",
        "\n",
        "```\n",
        "np.zeros((2,5))\n",
        "```\n",
        "\n"
      ],
      "metadata": {
        "id": "g0ckoUEY6xkr"
      }
    },
    {
      "cell_type": "code",
      "source": [
        "np.zeros((2,5))"
      ],
      "metadata": {
        "id": "qEDHHlbTV8hX",
        "outputId": "e2303f49-b5e2-41d4-92a8-4ef53c16c11b",
        "colab": {
          "base_uri": "https://localhost:8080/"
        }
      },
      "execution_count": 23,
      "outputs": [
        {
          "output_type": "execute_result",
          "data": {
            "text/plain": [
              "array([[0., 0., 0., 0., 0.],\n",
              "       [0., 0., 0., 0., 0.]])"
            ]
          },
          "metadata": {},
          "execution_count": 23
        }
      ]
    },
    {
      "cell_type": "markdown",
      "source": [
        "\n",
        "\n",
        "```\n",
        "np.ones((4,4))\n",
        "```\n",
        "\n"
      ],
      "metadata": {
        "id": "mdPa6Vs864Bk"
      }
    },
    {
      "cell_type": "code",
      "source": [
        "np.ones((4,4))"
      ],
      "metadata": {
        "id": "SvWKdqLkV_Wd",
        "outputId": "f4474526-9fa6-4c15-db84-79b2d2e6c1e8",
        "colab": {
          "base_uri": "https://localhost:8080/"
        }
      },
      "execution_count": 24,
      "outputs": [
        {
          "output_type": "execute_result",
          "data": {
            "text/plain": [
              "array([[1., 1., 1., 1.],\n",
              "       [1., 1., 1., 1.],\n",
              "       [1., 1., 1., 1.],\n",
              "       [1., 1., 1., 1.]])"
            ]
          },
          "metadata": {},
          "execution_count": 24
        }
      ]
    },
    {
      "cell_type": "markdown",
      "source": [
        "\n",
        "\n",
        "```\n",
        "np.ones(5)\n",
        "```\n",
        "\n"
      ],
      "metadata": {
        "id": "4S2fbtV767sn"
      }
    },
    {
      "cell_type": "code",
      "source": [
        "np.ones(5)"
      ],
      "metadata": {
        "id": "g2wH-hVsWCVm",
        "outputId": "cd40df7f-d101-47a5-97d0-998d4546cdeb",
        "colab": {
          "base_uri": "https://localhost:8080/"
        }
      },
      "execution_count": 25,
      "outputs": [
        {
          "output_type": "execute_result",
          "data": {
            "text/plain": [
              "array([1., 1., 1., 1., 1.])"
            ]
          },
          "metadata": {},
          "execution_count": 25
        }
      ]
    },
    {
      "cell_type": "markdown",
      "source": [
        "\n",
        "\n",
        "---\n",
        "\n"
      ],
      "metadata": {
        "id": "ZcUwogDyuD85"
      }
    },
    {
      "cell_type": "markdown",
      "source": [
        "\n",
        "\n",
        "```\n",
        "np.linspace(0,10,3)\n",
        "```\n",
        "\n",
        "Cette ligne de code utilise la fonction `np.linspace()` pour créer un tableau de nombres uniformément espacés sur un intervalle spécifié.\n",
        "\n",
        "`linspace()` : fonction de NumPy qui génère une séquence de nombres uniformément espacés.\n",
        "`0` : valeur de début de la séquence.\n",
        "`10` : valeur de fin de la séquence.\n",
        "`3` : nombre total d'éléments que vous souhaitez dans la séquence.\n",
        "\n",
        "Imaginez que vous voulez diviser la plage de 0 à 10 en 3 parties égales. `np.linspace(0, 10, 3)` vous donnerait les valeurs qui marquent ces divisions : `[0., 5., 10.]`. La fonction garantit que les nombres du tableau sont espacés uniformément entre les points de début et de fin.\n",
        "\n",
        "`linspace()` inclut les valeurs de début et de fin dans le tableau de sortie.\n",
        "Elle est particulièrement utile pour créer des séquences numériques pour le traçage de graphiques, les simulations ou d'autres calculs numériques où vous avez besoin d'un nombre spécifique de points uniformément espacés dans une plage donnée."
      ],
      "metadata": {
        "id": "Dcz-I0v_t66N"
      }
    },
    {
      "cell_type": "code",
      "source": [
        "np.linspace(0,10,3)"
      ],
      "metadata": {
        "colab": {
          "base_uri": "https://localhost:8080/"
        },
        "id": "8HBKpf5GKHV0",
        "outputId": "5c467096-b211-4951-853a-702bcb90735b"
      },
      "execution_count": 26,
      "outputs": [
        {
          "output_type": "execute_result",
          "data": {
            "text/plain": [
              "array([ 0.,  5., 10.])"
            ]
          },
          "metadata": {},
          "execution_count": 26
        }
      ]
    },
    {
      "cell_type": "markdown",
      "source": [
        "---"
      ],
      "metadata": {
        "id": "HGVAjUn3vLxc"
      }
    },
    {
      "cell_type": "markdown",
      "source": [
        "\n",
        "\n",
        "```\n",
        "np.linspace(0,10,11)\n",
        "```\n",
        "\n"
      ],
      "metadata": {
        "id": "5x-4NWBW7KSp"
      }
    },
    {
      "cell_type": "code",
      "source": [
        "np.linspace(0,10,11)"
      ],
      "metadata": {
        "colab": {
          "base_uri": "https://localhost:8080/"
        },
        "id": "X-rlCV9JKULT",
        "outputId": "9608ceb7-06c0-40e0-9337-c6292f1ace71"
      },
      "execution_count": 27,
      "outputs": [
        {
          "output_type": "execute_result",
          "data": {
            "text/plain": [
              "array([ 0.,  1.,  2.,  3.,  4.,  5.,  6.,  7.,  8.,  9., 10.])"
            ]
          },
          "metadata": {},
          "execution_count": 27
        }
      ]
    },
    {
      "cell_type": "markdown",
      "source": [
        "\n",
        "\n",
        "```\n",
        "np.linspace(0,10,10)\n",
        "```\n",
        "\n"
      ],
      "metadata": {
        "id": "wJ2QLxDT7N78"
      }
    },
    {
      "cell_type": "code",
      "source": [
        "np.linspace(0,10,10)"
      ],
      "metadata": {
        "colab": {
          "base_uri": "https://localhost:8080/"
        },
        "id": "W7Gi2mZnKaRL",
        "outputId": "3c691987-91f4-412b-8de8-4509455ca16b"
      },
      "execution_count": 28,
      "outputs": [
        {
          "output_type": "execute_result",
          "data": {
            "text/plain": [
              "array([ 0.        ,  1.11111111,  2.22222222,  3.33333333,  4.44444444,\n",
              "        5.55555556,  6.66666667,  7.77777778,  8.88888889, 10.        ])"
            ]
          },
          "metadata": {},
          "execution_count": 28
        }
      ]
    },
    {
      "cell_type": "markdown",
      "source": [
        "\n",
        "\n",
        "```\n",
        "np.linspace(0,5,21)\n",
        "```\n",
        "\n"
      ],
      "metadata": {
        "id": "JlBOY8Er7Qzm"
      }
    },
    {
      "cell_type": "code",
      "source": [
        "np.linspace(0,5,21)"
      ],
      "metadata": {
        "id": "MQLe0-QMWgF4",
        "outputId": "921c5438-a196-4cf7-d892-0069d96a2559",
        "colab": {
          "base_uri": "https://localhost:8080/"
        }
      },
      "execution_count": 29,
      "outputs": [
        {
          "output_type": "execute_result",
          "data": {
            "text/plain": [
              "array([0.  , 0.25, 0.5 , 0.75, 1.  , 1.25, 1.5 , 1.75, 2.  , 2.25, 2.5 ,\n",
              "       2.75, 3.  , 3.25, 3.5 , 3.75, 4.  , 4.25, 4.5 , 4.75, 5.  ])"
            ]
          },
          "metadata": {},
          "execution_count": 29
        }
      ]
    },
    {
      "cell_type": "markdown",
      "source": [
        "\n",
        "\n",
        "```\n",
        "len(np.linspace(0,5,21))\n",
        "```\n",
        "\n"
      ],
      "metadata": {
        "id": "lk0NEjiE7TxA"
      }
    },
    {
      "cell_type": "code",
      "source": [
        "len(np.linspace(0,5,21))"
      ],
      "metadata": {
        "colab": {
          "base_uri": "https://localhost:8080/"
        },
        "id": "dIUfTNj6KkmW",
        "outputId": "fd238f09-b1d6-476a-9d05-a8db8543eb14"
      },
      "execution_count": 30,
      "outputs": [
        {
          "output_type": "execute_result",
          "data": {
            "text/plain": [
              "21"
            ]
          },
          "metadata": {},
          "execution_count": 30
        }
      ]
    },
    {
      "cell_type": "markdown",
      "source": [
        "\n",
        "\n",
        "```\n",
        "np.eye(5)\n",
        "```\n",
        "\n"
      ],
      "metadata": {
        "id": "GO4vncPi7djL"
      }
    },
    {
      "cell_type": "code",
      "source": [
        "np.eye(5)"
      ],
      "metadata": {
        "colab": {
          "base_uri": "https://localhost:8080/"
        },
        "id": "gT2D2dhrKqkI",
        "outputId": "2b3c1ebe-0287-4339-b33e-2821f6ff1031"
      },
      "execution_count": 31,
      "outputs": [
        {
          "output_type": "execute_result",
          "data": {
            "text/plain": [
              "array([[1., 0., 0., 0., 0.],\n",
              "       [0., 1., 0., 0., 0.],\n",
              "       [0., 0., 1., 0., 0.],\n",
              "       [0., 0., 0., 1., 0.],\n",
              "       [0., 0., 0., 0., 1.]])"
            ]
          },
          "metadata": {},
          "execution_count": 31
        }
      ]
    },
    {
      "cell_type": "markdown",
      "source": [
        "\n",
        "\n",
        "```\n",
        "np.random.rand(1)\n",
        "```\n",
        "\n"
      ],
      "metadata": {
        "id": "2DjafEfq7h2v"
      }
    },
    {
      "cell_type": "code",
      "source": [
        "np.random.rand(1)"
      ],
      "metadata": {
        "id": "OwliN6W5WpsD",
        "outputId": "26db6b7c-e37f-49ab-fa9c-5680ee1d2fdb",
        "colab": {
          "base_uri": "https://localhost:8080/"
        }
      },
      "execution_count": 34,
      "outputs": [
        {
          "output_type": "execute_result",
          "data": {
            "text/plain": [
              "array([0.20579068])"
            ]
          },
          "metadata": {},
          "execution_count": 34
        }
      ]
    },
    {
      "cell_type": "markdown",
      "source": [
        "\n",
        "\n",
        "```\n",
        "np.random.rand(1)\n",
        "```\n",
        "\n"
      ],
      "metadata": {
        "id": "3ZkyQLro7mg9"
      }
    },
    {
      "cell_type": "code",
      "source": [
        "np.random.rand(1)"
      ],
      "metadata": {
        "colab": {
          "base_uri": "https://localhost:8080/"
        },
        "id": "PCMKHNfXLH_z",
        "outputId": "a81d9530-1196-4cbb-bee8-0a3f6218a46b"
      },
      "execution_count": 35,
      "outputs": [
        {
          "output_type": "execute_result",
          "data": {
            "text/plain": [
              "array([0.07045321])"
            ]
          },
          "metadata": {},
          "execution_count": 35
        }
      ]
    },
    {
      "cell_type": "markdown",
      "source": [
        "\n",
        "\n",
        "```\n",
        "np.random.rand(5,6)\n",
        "```\n",
        "\n"
      ],
      "metadata": {
        "id": "yjiPTrm77pY-"
      }
    },
    {
      "cell_type": "code",
      "source": [
        "np.random.rand(5,6)"
      ],
      "metadata": {
        "colab": {
          "base_uri": "https://localhost:8080/"
        },
        "id": "OL5PaQiVLNEj",
        "outputId": "8d59a98a-6afa-426b-f239-4cc9c0550859"
      },
      "execution_count": 40,
      "outputs": [
        {
          "output_type": "execute_result",
          "data": {
            "text/plain": [
              "array([[0.11080862, 0.87913543, 0.85627608, 0.4665087 , 0.39771933,\n",
              "        0.27563359],\n",
              "       [0.01682312, 0.73476471, 0.54883519, 0.94311133, 0.84389405,\n",
              "        0.98427261],\n",
              "       [0.03675625, 0.09153325, 0.37076584, 0.88471562, 0.55668477,\n",
              "        0.91666772],\n",
              "       [0.14444196, 0.04625405, 0.66727287, 0.37480184, 0.26882254,\n",
              "        0.44298036],\n",
              "       [0.58449697, 0.48532109, 0.65065024, 0.27126039, 0.28503872,\n",
              "        0.95012687]])"
            ]
          },
          "metadata": {},
          "execution_count": 40
        }
      ]
    },
    {
      "cell_type": "markdown",
      "source": [
        "\n",
        "\n",
        "```\n",
        "np.random.randn(10)\n",
        "```\n",
        "\n"
      ],
      "metadata": {
        "id": "xuuKx9Me7s03"
      }
    },
    {
      "cell_type": "code",
      "source": [
        "np.random.randn(10)"
      ],
      "metadata": {
        "colab": {
          "base_uri": "https://localhost:8080/"
        },
        "id": "3gr78GzhLQxi",
        "outputId": "523675be-7a02-4242-e72b-b1caccde2af7"
      },
      "execution_count": 44,
      "outputs": [
        {
          "output_type": "execute_result",
          "data": {
            "text/plain": [
              "array([-1.43878927, -0.43160387,  1.1713463 , -2.76877987, -0.64097737,\n",
              "       -1.54987175,  0.29973823,  0.31392518,  0.29894874, -1.50600774])"
            ]
          },
          "metadata": {},
          "execution_count": 44
        }
      ]
    },
    {
      "cell_type": "code",
      "source": [
        "np.random.randn(2,3)"
      ],
      "metadata": {
        "colab": {
          "base_uri": "https://localhost:8080/"
        },
        "id": "eS3Bqsg3Ll8z",
        "outputId": "aa3aa1e7-95f1-427f-b0a0-5b1536901105"
      },
      "execution_count": 45,
      "outputs": [
        {
          "output_type": "execute_result",
          "data": {
            "text/plain": [
              "array([[-0.14160342,  1.7220267 , -0.07921077],\n",
              "       [-0.42081827,  0.08761271,  1.6385407 ]])"
            ]
          },
          "metadata": {},
          "execution_count": 45
        }
      ]
    },
    {
      "cell_type": "markdown",
      "source": [
        "\n",
        "\n",
        "```\n",
        "np.random.randint(0,101,5)\n",
        "```\n",
        "\n"
      ],
      "metadata": {
        "id": "md3SCUxq8Gvu"
      }
    },
    {
      "cell_type": "code",
      "source": [
        "np.random.randint(0,101,5)"
      ],
      "metadata": {
        "colab": {
          "base_uri": "https://localhost:8080/"
        },
        "id": "vxuTJnbDLo87",
        "outputId": "f26f83bd-8bf7-4f73-d09b-18b055b74a34"
      },
      "execution_count": 47,
      "outputs": [
        {
          "output_type": "execute_result",
          "data": {
            "text/plain": [
              "array([36,  1, 73, 11, 22])"
            ]
          },
          "metadata": {},
          "execution_count": 47
        }
      ]
    },
    {
      "cell_type": "markdown",
      "source": [
        "\n",
        "\n",
        "```\n",
        "np.random.randint(0,101,(4,5))\n",
        "```\n",
        "\n"
      ],
      "metadata": {
        "id": "7Gry6LcB8ODf"
      }
    },
    {
      "cell_type": "code",
      "source": [
        "np.random.randint(0,101,(4,5))"
      ],
      "metadata": {
        "colab": {
          "base_uri": "https://localhost:8080/"
        },
        "id": "OobqUjwpL2ua",
        "outputId": "f05e0e13-838e-4f2f-96dd-816543d50371"
      },
      "execution_count": 50,
      "outputs": [
        {
          "output_type": "execute_result",
          "data": {
            "text/plain": [
              "array([[  1,   8,   5,  13,  77],\n",
              "       [ 88,  77, 100,  46,  22],\n",
              "       [ 62,  27,  20,  23,   9],\n",
              "       [ 27,  48,  33,  12,  25]])"
            ]
          },
          "metadata": {},
          "execution_count": 50
        }
      ]
    },
    {
      "cell_type": "markdown",
      "source": [
        "\n",
        "\n",
        "```\n",
        "np.random.randint(0,101,10)\n",
        "```\n",
        "\n"
      ],
      "metadata": {
        "id": "P_iZyXbm8SGt"
      }
    },
    {
      "cell_type": "code",
      "source": [
        "np.random.randint(0,101,10)"
      ],
      "metadata": {
        "colab": {
          "base_uri": "https://localhost:8080/"
        },
        "id": "bi3Fjk_vL6lQ",
        "outputId": "d1e3cb76-90c3-4c23-8c94-ddd8c68690f0"
      },
      "execution_count": 52,
      "outputs": [
        {
          "output_type": "execute_result",
          "data": {
            "text/plain": [
              "array([74, 98, 46, 18, 26, 92, 52, 85, 68,  7])"
            ]
          },
          "metadata": {},
          "execution_count": 52
        }
      ]
    },
    {
      "cell_type": "markdown",
      "source": [
        "\n",
        "\n",
        "```\n",
        "np.random.seed(42)\n",
        "np.random.rand(4)\n",
        "```\n",
        "\n"
      ],
      "metadata": {
        "id": "2suv7tLB8V0P"
      }
    },
    {
      "cell_type": "code",
      "source": [
        "np.random.seed(42)\n",
        "np.random.rand(4)"
      ],
      "metadata": {
        "id": "S6U8FB4AXQPc",
        "outputId": "52b82ee1-4441-480f-9694-4825f57d0a65",
        "colab": {
          "base_uri": "https://localhost:8080/"
        }
      },
      "execution_count": 54,
      "outputs": [
        {
          "output_type": "execute_result",
          "data": {
            "text/plain": [
              "array([0.37454012, 0.95071431, 0.73199394, 0.59865848])"
            ]
          },
          "metadata": {},
          "execution_count": 54
        }
      ]
    },
    {
      "cell_type": "code",
      "source": [],
      "metadata": {
        "colab": {
          "base_uri": "https://localhost:8080/"
        },
        "id": "UbWJln-8MatL",
        "outputId": "94fc3b2b-2054-47c6-984f-0bebdfc51cda"
      },
      "execution_count": null,
      "outputs": [
        {
          "output_type": "execute_result",
          "data": {
            "text/plain": [
              "array([0.37454012, 0.95071431, 0.73199394, 0.59865848])"
            ]
          },
          "metadata": {},
          "execution_count": 36
        }
      ]
    },
    {
      "cell_type": "markdown",
      "source": [
        "\n",
        "\n",
        "```\n",
        "np.random.seed(101)\n",
        "np.random.rand(4)\n",
        "```\n",
        "\n"
      ],
      "metadata": {
        "id": "xg1E9WZd8YnR"
      }
    },
    {
      "cell_type": "code",
      "source": [
        "np.random.seed(101)\n",
        "np.random.rand(4)"
      ],
      "metadata": {
        "id": "Vxak_8qKXXRH",
        "outputId": "e26a6166-4ca7-4421-d89e-dbfc41c3ad75",
        "colab": {
          "base_uri": "https://localhost:8080/"
        }
      },
      "execution_count": 55,
      "outputs": [
        {
          "output_type": "execute_result",
          "data": {
            "text/plain": [
              "array([0.51639863, 0.57066759, 0.02847423, 0.17152166])"
            ]
          },
          "metadata": {},
          "execution_count": 55
        }
      ]
    },
    {
      "cell_type": "code",
      "source": [],
      "metadata": {
        "colab": {
          "base_uri": "https://localhost:8080/"
        },
        "id": "hHSEmkVhMsy5",
        "outputId": "b2532f04-a186-490e-a1bb-b061ee981260"
      },
      "execution_count": null,
      "outputs": [
        {
          "output_type": "execute_result",
          "data": {
            "text/plain": [
              "array([0.51639863, 0.57066759, 0.02847423, 0.17152166])"
            ]
          },
          "metadata": {},
          "execution_count": 37
        }
      ]
    },
    {
      "cell_type": "markdown",
      "source": [
        "\n",
        "\n",
        "```\n",
        "np.random.seed(101)\n",
        "np.random.rand(4)\n",
        "```\n",
        "\n"
      ],
      "metadata": {
        "id": "70MGNCm_8bO0"
      }
    },
    {
      "cell_type": "code",
      "source": [
        "np.random.seed(101)\n",
        "np.random.rand(4)"
      ],
      "metadata": {
        "id": "_rC1_YHXXaaX",
        "outputId": "ae13b095-82cf-4182-a698-1ce6216bfa6f",
        "colab": {
          "base_uri": "https://localhost:8080/"
        }
      },
      "execution_count": 56,
      "outputs": [
        {
          "output_type": "execute_result",
          "data": {
            "text/plain": [
              "array([0.51639863, 0.57066759, 0.02847423, 0.17152166])"
            ]
          },
          "metadata": {},
          "execution_count": 56
        }
      ]
    },
    {
      "cell_type": "code",
      "source": [],
      "metadata": {
        "colab": {
          "base_uri": "https://localhost:8080/"
        },
        "id": "VBzUQ5DVM8tH",
        "outputId": "b03218c5-6958-4ce1-80a7-7f00361b5e17"
      },
      "execution_count": null,
      "outputs": [
        {
          "output_type": "execute_result",
          "data": {
            "text/plain": [
              "array([0.51639863, 0.57066759, 0.02847423, 0.17152166])"
            ]
          },
          "metadata": {},
          "execution_count": 38
        }
      ]
    },
    {
      "cell_type": "markdown",
      "source": [
        "\n",
        "\n",
        "---\n",
        "\n"
      ],
      "metadata": {
        "id": "HZf4syPewogt"
      }
    },
    {
      "cell_type": "markdown",
      "source": [
        "\n",
        "\n",
        "```\n",
        "arr = np.arange(0,25)\n",
        "```\n",
        "\n"
      ],
      "metadata": {
        "id": "cvD-kHzE8eWt"
      }
    },
    {
      "cell_type": "code",
      "source": [
        "arr = np.arange(0,25)"
      ],
      "metadata": {
        "id": "Q8r1DGdINBzM"
      },
      "execution_count": 62,
      "outputs": []
    },
    {
      "cell_type": "markdown",
      "source": [
        "\n",
        "\n",
        "```\n",
        "arr.reshape(5,5)\n",
        "```\n",
        "\n"
      ],
      "metadata": {
        "id": "XrW9QEvG8hAy"
      }
    },
    {
      "cell_type": "markdown",
      "source": [
        "Cette ligne utilise la fonction `reshape()` pour modifier la forme d'un tableau existant.\n",
        "\n",
        "`(5, 5)` : indique à reshape() quelle doit être la nouvelle forme du tableau. Dans ce cas, il spécifie que le tableau `arr` doit être remodelé en un tableau à deux dimensions avec 5 lignes et 5 colonnes (une matrice 5x5).\n",
        "\n",
        "Imaginez que vous ayez une file de 25 personnes. `reshape(5, 5)` revient à dire à ces personnes de se réorganiser en une grille de 5x5. Le nombre total de personnes reste le même (25), mais elles sont organisées différemment.\n",
        "\n",
        "*   Le nombre total d'éléments dans le tableau `(arr)` doit être compatible avec la nouvelle forme que vous demandez. Par exemple, si arr avait 25 éléments, le remodeler en (5, 5) fonctionnerait. Mais si `arr` avait 30 éléments, vous obtiendriez une erreur car vous ne pouvez pas faire tenir 30 éléments dans une grille de 5x5.\n",
        "*   `reshape()` ne modifie pas les données d'origine dans le tableau ; il crée simplement une nouvelle vue du tableau avec une forme différente."
      ],
      "metadata": {
        "id": "XGavqmorwp9d"
      }
    },
    {
      "cell_type": "code",
      "source": [
        "arr.reshape(5,5)"
      ],
      "metadata": {
        "colab": {
          "base_uri": "https://localhost:8080/"
        },
        "id": "7YKiUJaBNPoB",
        "outputId": "d17a3da8-d418-4fca-b697-cbd2b109f10a"
      },
      "execution_count": 63,
      "outputs": [
        {
          "output_type": "execute_result",
          "data": {
            "text/plain": [
              "array([[ 0,  1,  2,  3,  4],\n",
              "       [ 5,  6,  7,  8,  9],\n",
              "       [10, 11, 12, 13, 14],\n",
              "       [15, 16, 17, 18, 19],\n",
              "       [20, 21, 22, 23, 24]])"
            ]
          },
          "metadata": {},
          "execution_count": 63
        }
      ]
    },
    {
      "cell_type": "markdown",
      "source": [
        "\n",
        "\n",
        "```\n",
        "arr.reshape(5,4)\n",
        "```\n",
        "\n"
      ],
      "metadata": {
        "id": "wcB-igvw8sAF"
      }
    },
    {
      "cell_type": "markdown",
      "source": [
        "La fonction `reshape()` est cruciale dans les architectures de réseaux de neurones pour les raisons suivantes :\n",
        "\n",
        "### Formatage des données d'entrée\n",
        "*   **Compatibilité avec les couches du réseau** : Les réseaux de neurones, en particulier les réseaux de neurones convolutifs (CNN) et les réseaux de neurones récurrents (RNN), ont des attentes spécifiques quant à la forme des données d'entrée. Par exemple, un CNN attendant des images en entrée aura besoin d'un tableau à 4 dimensions (nombre d'images, hauteur, largeur, canaux de couleur). `reshape()` permet de transformer les données brutes en une forme compatible avec l'architecture du réseau.\n",
        "*   **Aplatissement des données** : Pour certaines couches, comme les couches entièrement connectées (dense layers), il est nécessaire d'aplatir les données en un vecteur unidimensionnel. `reshape()` permet de transformer des données multidimensionnelles en un vecteur unique, facilitant leur traitement par ces couches.\n",
        "### Optimisation des performances\n",
        "*   **Calcul vectoriel** : NumPy et les bibliothèques d'apprentissage automatique comme TensorFlow et PyTorch sont optimisées pour effectuer des opérations sur des tableaux multidimensionnels. `reshape()` permet d'organiser les données de manière à tirer parti de ces optimisations, accélérant ainsi les calculs.\n",
        "Gestion de la mémoire: reshape() permet de manipuler la forme des données sans copier les données sous-jacentes, ce qui est plus efficace en termes de gestion de la mémoire, surtout lorsque l'on travaille avec de grands ensembles de données.\n",
        "### Flexibilité et manipulation des données\n",
        "*   **Transformation des données **: `reshape()` permet de transformer facilement la structure des données pour différentes tâches. Par exemple, on peut passer d'une représentation d'une image en niveaux de gris (2D) à une représentation en couleur (3D) en utilisant `reshape()`.\n",
        "*   **Combinaison et division des données** : `reshape()` peut être utilisé pour combiner plusieurs tableaux en un seul ou pour diviser un grand tableau en plusieurs plus petits, offrant ainsi une grande flexibilité dans la manipulation des données."
      ],
      "metadata": {
        "id": "z8aKig_4yK0e"
      }
    },
    {
      "cell_type": "code",
      "source": [
        "arr.reshape(5,4)"
      ],
      "metadata": {
        "id": "rmHyNEA-X8kG",
        "outputId": "5b19617f-3e0c-4a9b-d7aa-acbe8fc7a438",
        "colab": {
          "base_uri": "https://localhost:8080/",
          "height": 141
        }
      },
      "execution_count": 64,
      "outputs": [
        {
          "output_type": "error",
          "ename": "ValueError",
          "evalue": "cannot reshape array of size 25 into shape (5,4)",
          "traceback": [
            "\u001b[0;31m---------------------------------------------------------------------------\u001b[0m",
            "\u001b[0;31mValueError\u001b[0m                                Traceback (most recent call last)",
            "\u001b[0;32m<ipython-input-64-081adc27730c>\u001b[0m in \u001b[0;36m<cell line: 0>\u001b[0;34m()\u001b[0m\n\u001b[0;32m----> 1\u001b[0;31m \u001b[0marr\u001b[0m\u001b[0;34m.\u001b[0m\u001b[0mreshape\u001b[0m\u001b[0;34m(\u001b[0m\u001b[0;36m5\u001b[0m\u001b[0;34m,\u001b[0m\u001b[0;36m4\u001b[0m\u001b[0;34m)\u001b[0m\u001b[0;34m\u001b[0m\u001b[0;34m\u001b[0m\u001b[0m\n\u001b[0m",
            "\u001b[0;31mValueError\u001b[0m: cannot reshape array of size 25 into shape (5,4)"
          ]
        }
      ]
    },
    {
      "cell_type": "code",
      "source": [],
      "metadata": {
        "colab": {
          "base_uri": "https://localhost:8080/",
          "height": 165
        },
        "id": "LuDtoKnWNGKo",
        "outputId": "fe914f2c-8682-4110-8f83-53b03e0735d9"
      },
      "execution_count": null,
      "outputs": [
        {
          "output_type": "error",
          "ename": "ValueError",
          "evalue": "ignored",
          "traceback": [
            "\u001b[0;31m---------------------------------------------------------------------------\u001b[0m",
            "\u001b[0;31mValueError\u001b[0m                                Traceback (most recent call last)",
            "\u001b[0;32m<ipython-input-41-081adc27730c>\u001b[0m in \u001b[0;36m<module>\u001b[0;34m\u001b[0m\n\u001b[0;32m----> 1\u001b[0;31m \u001b[0marr\u001b[0m\u001b[0;34m.\u001b[0m\u001b[0mreshape\u001b[0m\u001b[0;34m(\u001b[0m\u001b[0;36m5\u001b[0m\u001b[0;34m,\u001b[0m\u001b[0;36m4\u001b[0m\u001b[0;34m)\u001b[0m\u001b[0;34m\u001b[0m\u001b[0;34m\u001b[0m\u001b[0m\n\u001b[0m",
            "\u001b[0;31mValueError\u001b[0m: cannot reshape array of size 25 into shape (5,4)"
          ]
        }
      ]
    },
    {
      "cell_type": "markdown",
      "source": [
        "\n",
        "\n",
        "---\n",
        "\n"
      ],
      "metadata": {
        "id": "jyI-GkKYxtCI"
      }
    },
    {
      "cell_type": "markdown",
      "source": [
        "\n",
        "\n",
        "```\n",
        "ranarr = np.random.randint(0,101,10)\n",
        "```\n",
        "\n"
      ],
      "metadata": {
        "id": "HvsycPcf8zCa"
      }
    },
    {
      "cell_type": "code",
      "source": [
        "ranarr = np.random.randint(0,101,10)"
      ],
      "metadata": {
        "id": "FkcJa-QvNTiD"
      },
      "execution_count": 68,
      "outputs": []
    },
    {
      "cell_type": "markdown",
      "source": [
        "\n",
        "\n",
        "```\n",
        "ranarr\n",
        "```\n",
        "\n"
      ],
      "metadata": {
        "id": "GuwJXBU7816q"
      }
    },
    {
      "cell_type": "code",
      "source": [
        "ranarr"
      ],
      "metadata": {
        "colab": {
          "base_uri": "https://localhost:8080/"
        },
        "id": "XI9qF-OCNa5B",
        "outputId": "d01069a3-2cf6-476f-8ae8-0d81d1142dd9"
      },
      "execution_count": 69,
      "outputs": [
        {
          "output_type": "execute_result",
          "data": {
            "text/plain": [
              "array([12, 93, 40, 49, 83,  8, 29, 59, 34, 44])"
            ]
          },
          "metadata": {},
          "execution_count": 69
        }
      ]
    },
    {
      "cell_type": "markdown",
      "source": [
        "\n",
        "\n",
        "```\n",
        "ranarr.max()\n",
        "```\n",
        "\n"
      ],
      "metadata": {
        "id": "i6BoPanv85Wv"
      }
    },
    {
      "cell_type": "code",
      "source": [
        "ranarr.max()"
      ],
      "metadata": {
        "colab": {
          "base_uri": "https://localhost:8080/"
        },
        "id": "NX-nAawJNcYr",
        "outputId": "ba3f05cb-1c76-4431-abf3-bab6be8ffa7e"
      },
      "execution_count": 70,
      "outputs": [
        {
          "output_type": "execute_result",
          "data": {
            "text/plain": [
              "93"
            ]
          },
          "metadata": {},
          "execution_count": 70
        }
      ]
    },
    {
      "cell_type": "markdown",
      "source": [
        "\n",
        "\n",
        "```\n",
        "ranarr.min()\n",
        "```\n",
        "\n"
      ],
      "metadata": {
        "id": "PB_HfmNI88H1"
      }
    },
    {
      "cell_type": "code",
      "source": [
        "ranarr.min()"
      ],
      "metadata": {
        "colab": {
          "base_uri": "https://localhost:8080/"
        },
        "id": "5396yTfyNeGF",
        "outputId": "d388c12d-d021-4294-a0c0-fe5cab1cde83"
      },
      "execution_count": 71,
      "outputs": [
        {
          "output_type": "execute_result",
          "data": {
            "text/plain": [
              "8"
            ]
          },
          "metadata": {},
          "execution_count": 71
        }
      ]
    },
    {
      "cell_type": "markdown",
      "source": [
        "\n",
        "\n",
        "```\n",
        "ranarr.argmax()\n",
        "```\n",
        "\n"
      ],
      "metadata": {
        "id": "4odTIQ0a8_oB"
      }
    },
    {
      "cell_type": "code",
      "source": [
        "# Index du maximum\n",
        "ranarr.argmax()"
      ],
      "metadata": {
        "colab": {
          "base_uri": "https://localhost:8080/"
        },
        "id": "8aqtTHJKNfpf",
        "outputId": "08b33c46-e915-423c-c17c-4f3290914c8b"
      },
      "execution_count": 74,
      "outputs": [
        {
          "output_type": "execute_result",
          "data": {
            "text/plain": [
              "1"
            ]
          },
          "metadata": {},
          "execution_count": 74
        }
      ]
    },
    {
      "cell_type": "markdown",
      "source": [
        "\n",
        "\n",
        "```\n",
        "ranarr.argmin()\n",
        "```\n",
        "\n"
      ],
      "metadata": {
        "id": "NnhTI1UY9Ccv"
      }
    },
    {
      "cell_type": "code",
      "source": [
        "ranarr.argmin()"
      ],
      "metadata": {
        "colab": {
          "base_uri": "https://localhost:8080/"
        },
        "id": "IDp1HbxcNhWf",
        "outputId": "74122d01-2f2e-4f6c-8203-27491cd4a55f"
      },
      "execution_count": 73,
      "outputs": [
        {
          "output_type": "execute_result",
          "data": {
            "text/plain": [
              "5"
            ]
          },
          "metadata": {},
          "execution_count": 73
        }
      ]
    },
    {
      "cell_type": "markdown",
      "source": [
        "\n",
        "\n",
        "```\n",
        "ranarr.dtype\n",
        "```\n",
        "\n"
      ],
      "metadata": {
        "id": "xAtnfpp89FDf"
      }
    },
    {
      "cell_type": "code",
      "source": [
        "ranarr.dtype"
      ],
      "metadata": {
        "colab": {
          "base_uri": "https://localhost:8080/"
        },
        "id": "rPqLRe6fNoJ1",
        "outputId": "df496386-558a-4db5-a5a6-ec413322b79d"
      },
      "execution_count": 75,
      "outputs": [
        {
          "output_type": "execute_result",
          "data": {
            "text/plain": [
              "dtype('int64')"
            ]
          },
          "metadata": {},
          "execution_count": 75
        }
      ]
    },
    {
      "cell_type": "markdown",
      "source": [
        "\n",
        "\n",
        "```\n",
        "arr\n",
        "```\n",
        "\n"
      ],
      "metadata": {
        "id": "0dvHpd789H0R"
      }
    },
    {
      "cell_type": "code",
      "source": [
        "arr"
      ],
      "metadata": {
        "colab": {
          "base_uri": "https://localhost:8080/"
        },
        "id": "2IOvFzEfNtAn",
        "outputId": "c672deee-9dc1-4bd7-e804-08cd1c899915"
      },
      "execution_count": 76,
      "outputs": [
        {
          "output_type": "execute_result",
          "data": {
            "text/plain": [
              "array([ 0,  1,  2,  3,  4,  5,  6,  7,  8,  9, 10, 11, 12, 13, 14, 15, 16,\n",
              "       17, 18, 19, 20, 21, 22, 23, 24])"
            ]
          },
          "metadata": {},
          "execution_count": 76
        }
      ]
    },
    {
      "cell_type": "markdown",
      "source": [
        "\n",
        "\n",
        "```\n",
        "arr.shape\n",
        "```\n",
        "\n"
      ],
      "metadata": {
        "id": "Et4fHbRx9K-q"
      }
    },
    {
      "cell_type": "code",
      "source": [
        "arr.shape"
      ],
      "metadata": {
        "colab": {
          "base_uri": "https://localhost:8080/"
        },
        "id": "itRaDxugNuv_",
        "outputId": "d1a543fd-1fe5-4832-b422-9b1915d1f013"
      },
      "execution_count": 78,
      "outputs": [
        {
          "output_type": "execute_result",
          "data": {
            "text/plain": [
              "(25,)"
            ]
          },
          "metadata": {},
          "execution_count": 78
        }
      ]
    },
    {
      "cell_type": "markdown",
      "source": [
        "\n",
        "\n",
        "```\n",
        "arr = arr.reshape(5,5)\n",
        "```\n",
        "\n"
      ],
      "metadata": {
        "id": "xl9Vzg4h9NjT"
      }
    },
    {
      "cell_type": "code",
      "source": [
        "arr = arr.reshape(5,5)"
      ],
      "metadata": {
        "id": "3sMO9j7GNwLS"
      },
      "execution_count": 79,
      "outputs": []
    },
    {
      "cell_type": "markdown",
      "source": [
        "\n",
        "\n",
        "```\n",
        "arr\n",
        "```\n",
        "\n"
      ],
      "metadata": {
        "id": "1Ilz_eCa9QAe"
      }
    },
    {
      "cell_type": "code",
      "source": [
        "arr"
      ],
      "metadata": {
        "colab": {
          "base_uri": "https://localhost:8080/"
        },
        "id": "Dfxq9wU9Nz9S",
        "outputId": "7b91dd28-777f-4604-9298-85cf6619bf34"
      },
      "execution_count": 80,
      "outputs": [
        {
          "output_type": "execute_result",
          "data": {
            "text/plain": [
              "array([[ 0,  1,  2,  3,  4],\n",
              "       [ 5,  6,  7,  8,  9],\n",
              "       [10, 11, 12, 13, 14],\n",
              "       [15, 16, 17, 18, 19],\n",
              "       [20, 21, 22, 23, 24]])"
            ]
          },
          "metadata": {},
          "execution_count": 80
        }
      ]
    },
    {
      "cell_type": "markdown",
      "source": [
        "\n",
        "\n",
        "```\n",
        "arr.shape\n",
        "```\n",
        "\n"
      ],
      "metadata": {
        "id": "Dw7GWEsi9SwT"
      }
    },
    {
      "cell_type": "code",
      "source": [
        "arr.shape"
      ],
      "metadata": {
        "colab": {
          "base_uri": "https://localhost:8080/"
        },
        "id": "rUKBLO77N1j9",
        "outputId": "0b49dc78-ccb0-4e73-e03e-ebd9e17bd1f1"
      },
      "execution_count": 81,
      "outputs": [
        {
          "output_type": "execute_result",
          "data": {
            "text/plain": [
              "(5, 5)"
            ]
          },
          "metadata": {},
          "execution_count": 81
        }
      ]
    },
    {
      "cell_type": "markdown",
      "source": [
        "\n",
        "\n",
        "```\n",
        "arr.reshape(25,1)\n",
        "```\n",
        "\n"
      ],
      "metadata": {
        "id": "0siuVwkc9VSv"
      }
    },
    {
      "cell_type": "code",
      "source": [
        "arr.reshape(25,1)"
      ],
      "metadata": {
        "colab": {
          "base_uri": "https://localhost:8080/"
        },
        "id": "v_FxcAF2N4CE",
        "outputId": "1c1b3bec-c1a4-48a0-fdbf-14e814f78d31"
      },
      "execution_count": 82,
      "outputs": [
        {
          "output_type": "execute_result",
          "data": {
            "text/plain": [
              "array([[ 0],\n",
              "       [ 1],\n",
              "       [ 2],\n",
              "       [ 3],\n",
              "       [ 4],\n",
              "       [ 5],\n",
              "       [ 6],\n",
              "       [ 7],\n",
              "       [ 8],\n",
              "       [ 9],\n",
              "       [10],\n",
              "       [11],\n",
              "       [12],\n",
              "       [13],\n",
              "       [14],\n",
              "       [15],\n",
              "       [16],\n",
              "       [17],\n",
              "       [18],\n",
              "       [19],\n",
              "       [20],\n",
              "       [21],\n",
              "       [22],\n",
              "       [23],\n",
              "       [24]])"
            ]
          },
          "metadata": {},
          "execution_count": 82
        }
      ]
    },
    {
      "cell_type": "markdown",
      "source": [
        "\n",
        "\n",
        "```\n",
        "arr.reshape(1,25)\n",
        "```\n",
        "\n"
      ],
      "metadata": {
        "id": "FMVvmeHg9bJs"
      }
    },
    {
      "cell_type": "code",
      "source": [
        "arr.reshape(1,25)"
      ],
      "metadata": {
        "colab": {
          "base_uri": "https://localhost:8080/"
        },
        "id": "Xs5TqNIGN7Dm",
        "outputId": "97000b63-3dec-4eb5-bec8-c5a2ccb16617"
      },
      "execution_count": 83,
      "outputs": [
        {
          "output_type": "execute_result",
          "data": {
            "text/plain": [
              "array([[ 0,  1,  2,  3,  4,  5,  6,  7,  8,  9, 10, 11, 12, 13, 14, 15,\n",
              "        16, 17, 18, 19, 20, 21, 22, 23, 24]])"
            ]
          },
          "metadata": {},
          "execution_count": 83
        }
      ]
    },
    {
      "cell_type": "markdown",
      "source": [
        "# Indexing and selection"
      ],
      "metadata": {
        "id": "8Fd3A20SOQaM"
      }
    },
    {
      "cell_type": "markdown",
      "source": [
        "\n",
        "\n",
        "```\n",
        "arr = np.arange(0,11)\n",
        "```\n",
        "\n"
      ],
      "metadata": {
        "id": "Q7QijYk89j3-"
      }
    },
    {
      "cell_type": "code",
      "source": [
        "arr = np.arange(0,11)"
      ],
      "metadata": {
        "id": "kRNuCr30N-tj"
      },
      "execution_count": 84,
      "outputs": []
    },
    {
      "cell_type": "markdown",
      "source": [
        "\n",
        "\n",
        "```\n",
        "arr\n",
        "```\n",
        "\n"
      ],
      "metadata": {
        "id": "r1pu0A039mfb"
      }
    },
    {
      "cell_type": "code",
      "source": [
        "arr"
      ],
      "metadata": {
        "colab": {
          "base_uri": "https://localhost:8080/"
        },
        "id": "He4b2JsrOXkW",
        "outputId": "fb9e7124-1842-4c17-d095-ac94d0505015"
      },
      "execution_count": 85,
      "outputs": [
        {
          "output_type": "execute_result",
          "data": {
            "text/plain": [
              "array([ 0,  1,  2,  3,  4,  5,  6,  7,  8,  9, 10])"
            ]
          },
          "metadata": {},
          "execution_count": 85
        }
      ]
    },
    {
      "cell_type": "markdown",
      "source": [
        "\n",
        "\n",
        "```\n",
        "arr[8]\n",
        "```\n",
        "\n"
      ],
      "metadata": {
        "id": "0tWAZatu9o3P"
      }
    },
    {
      "cell_type": "code",
      "source": [
        "arr[8]"
      ],
      "metadata": {
        "colab": {
          "base_uri": "https://localhost:8080/"
        },
        "id": "wX-W0pYcOYnh",
        "outputId": "1e52945b-238d-4563-c737-5f2743b88db1"
      },
      "execution_count": 86,
      "outputs": [
        {
          "output_type": "execute_result",
          "data": {
            "text/plain": [
              "8"
            ]
          },
          "metadata": {},
          "execution_count": 86
        }
      ]
    },
    {
      "cell_type": "markdown",
      "source": [
        "\n",
        "\n",
        "```\n",
        "arr[1:5]\n",
        "```\n",
        "\n"
      ],
      "metadata": {
        "id": "HPLUqub_9rdo"
      }
    },
    {
      "cell_type": "code",
      "source": [
        "arr[1:5]"
      ],
      "metadata": {
        "colab": {
          "base_uri": "https://localhost:8080/"
        },
        "id": "obOwn1pXOaXj",
        "outputId": "fe436a0d-cfa5-43d3-ef53-31445824e7fd"
      },
      "execution_count": 88,
      "outputs": [
        {
          "output_type": "execute_result",
          "data": {
            "text/plain": [
              "array([1, 2, 3, 4])"
            ]
          },
          "metadata": {},
          "execution_count": 88
        }
      ]
    },
    {
      "cell_type": "markdown",
      "source": [
        "\n",
        "\n",
        "```\n",
        "arr[0:5]\n",
        "```\n",
        "\n"
      ],
      "metadata": {
        "id": "PzaN3mXS9t1H"
      }
    },
    {
      "cell_type": "code",
      "source": [
        "arr[0:5]"
      ],
      "metadata": {
        "colab": {
          "base_uri": "https://localhost:8080/"
        },
        "id": "yn5iWGJiOdFT",
        "outputId": "a74233de-5de7-4c61-c7fb-43cc39942450"
      },
      "execution_count": 89,
      "outputs": [
        {
          "output_type": "execute_result",
          "data": {
            "text/plain": [
              "array([0, 1, 2, 3, 4])"
            ]
          },
          "metadata": {},
          "execution_count": 89
        }
      ]
    },
    {
      "cell_type": "markdown",
      "source": [
        "\n",
        "\n",
        "```\n",
        "arr[:5]\n",
        "```\n",
        "\n"
      ],
      "metadata": {
        "id": "1VBUl3lW9wnf"
      }
    },
    {
      "cell_type": "code",
      "source": [
        "arr[:5]"
      ],
      "metadata": {
        "colab": {
          "base_uri": "https://localhost:8080/"
        },
        "id": "8P_nkHomOglN",
        "outputId": "8e68e0ec-c156-46d7-ce6b-16f2bfaa969c"
      },
      "execution_count": 90,
      "outputs": [
        {
          "output_type": "execute_result",
          "data": {
            "text/plain": [
              "array([0, 1, 2, 3, 4])"
            ]
          },
          "metadata": {},
          "execution_count": 90
        }
      ]
    },
    {
      "cell_type": "markdown",
      "source": [
        "\n",
        "\n",
        "```\n",
        "arr[5:]\n",
        "```\n",
        "\n"
      ],
      "metadata": {
        "id": "3EPD2Jdi9znM"
      }
    },
    {
      "cell_type": "code",
      "source": [
        "arr[5:]"
      ],
      "metadata": {
        "colab": {
          "base_uri": "https://localhost:8080/"
        },
        "id": "io7fhFaUOif6",
        "outputId": "7dbae105-b31f-4b9a-b66d-3954544eecaa"
      },
      "execution_count": 91,
      "outputs": [
        {
          "output_type": "execute_result",
          "data": {
            "text/plain": [
              "array([ 5,  6,  7,  8,  9, 10])"
            ]
          },
          "metadata": {},
          "execution_count": 91
        }
      ]
    },
    {
      "cell_type": "markdown",
      "source": [
        "\n",
        "\n",
        "```\n",
        "arr\n",
        "```\n",
        "\n"
      ],
      "metadata": {
        "id": "vfGjr0ZQ92Ri"
      }
    },
    {
      "cell_type": "code",
      "source": [
        "arr"
      ],
      "metadata": {
        "colab": {
          "base_uri": "https://localhost:8080/"
        },
        "id": "PaKJF4WMOmz8",
        "outputId": "170bf4c2-b912-45ea-dbfc-ca208a6ab772"
      },
      "execution_count": 92,
      "outputs": [
        {
          "output_type": "execute_result",
          "data": {
            "text/plain": [
              "array([ 0,  1,  2,  3,  4,  5,  6,  7,  8,  9, 10])"
            ]
          },
          "metadata": {},
          "execution_count": 92
        }
      ]
    },
    {
      "cell_type": "markdown",
      "source": [
        "\n",
        "\n",
        "```\n",
        "arr[0:5] = 100\n",
        "```\n",
        "\n"
      ],
      "metadata": {
        "id": "ROabUEWU945O"
      }
    },
    {
      "cell_type": "code",
      "source": [
        "arr[0:5] = 100"
      ],
      "metadata": {
        "id": "Fai_7TJpOufp"
      },
      "execution_count": 93,
      "outputs": []
    },
    {
      "cell_type": "markdown",
      "source": [
        "\n",
        "\n",
        "```\n",
        "arr\n",
        "```\n",
        "\n"
      ],
      "metadata": {
        "id": "_54slb-Y97bo"
      }
    },
    {
      "cell_type": "code",
      "source": [
        "arr"
      ],
      "metadata": {
        "colab": {
          "base_uri": "https://localhost:8080/"
        },
        "id": "w2fjO8KzOx5D",
        "outputId": "207edd4e-6cc5-467a-c400-026ec6515c91"
      },
      "execution_count": 94,
      "outputs": [
        {
          "output_type": "execute_result",
          "data": {
            "text/plain": [
              "array([100, 100, 100, 100, 100,   5,   6,   7,   8,   9,  10])"
            ]
          },
          "metadata": {},
          "execution_count": 94
        }
      ]
    },
    {
      "cell_type": "markdown",
      "source": [
        "\n",
        "\n",
        "```\n",
        "arr = np.arange(0,11)\n",
        "```\n",
        "\n"
      ],
      "metadata": {
        "id": "UgLpkgak992J"
      }
    },
    {
      "cell_type": "code",
      "source": [
        "arr = np.arange(0,11)"
      ],
      "metadata": {
        "id": "f3zYuFgyOyXw"
      },
      "execution_count": 95,
      "outputs": []
    },
    {
      "cell_type": "markdown",
      "source": [
        "\n",
        "\n",
        "```\n",
        "slice_of_arr = arr[0:5]\n",
        "```\n",
        "\n"
      ],
      "metadata": {
        "id": "QBkxSowb-Ait"
      }
    },
    {
      "cell_type": "code",
      "source": [
        "slice_of_arr = arr[0:5]"
      ],
      "metadata": {
        "id": "bHx1RNxUO4Eu"
      },
      "execution_count": 96,
      "outputs": []
    },
    {
      "cell_type": "markdown",
      "source": [
        "\n",
        "\n",
        "```\n",
        "slice_of_arr\n",
        "```\n",
        "\n"
      ],
      "metadata": {
        "id": "Zwfd367N-DAQ"
      }
    },
    {
      "cell_type": "code",
      "source": [
        "slice_of_arr"
      ],
      "metadata": {
        "colab": {
          "base_uri": "https://localhost:8080/"
        },
        "id": "RES9Yb_lO9pE",
        "outputId": "2d340796-66f9-487e-88c6-30c861065c6d"
      },
      "execution_count": 97,
      "outputs": [
        {
          "output_type": "execute_result",
          "data": {
            "text/plain": [
              "array([0, 1, 2, 3, 4])"
            ]
          },
          "metadata": {},
          "execution_count": 97
        }
      ]
    },
    {
      "cell_type": "markdown",
      "source": [
        "\n",
        "\n",
        "```\n",
        "arr\n",
        "```\n",
        "\n"
      ],
      "metadata": {
        "id": "9Z9mS3qb-FX7"
      }
    },
    {
      "cell_type": "code",
      "source": [
        "arr"
      ],
      "metadata": {
        "colab": {
          "base_uri": "https://localhost:8080/"
        },
        "id": "GMG8tBFLPAOa",
        "outputId": "8091e3d0-4d57-4176-9ed6-19e395e7a8d6"
      },
      "execution_count": 98,
      "outputs": [
        {
          "output_type": "execute_result",
          "data": {
            "text/plain": [
              "array([ 0,  1,  2,  3,  4,  5,  6,  7,  8,  9, 10])"
            ]
          },
          "metadata": {},
          "execution_count": 98
        }
      ]
    },
    {
      "cell_type": "markdown",
      "source": [
        "\n",
        "\n",
        "```\n",
        "slice_of_arr[:] = 99\n",
        "```\n",
        "\n"
      ],
      "metadata": {
        "id": "_xf0FCMT-Niw"
      }
    },
    {
      "cell_type": "code",
      "source": [
        "slice_of_arr[:] = 99"
      ],
      "metadata": {
        "id": "25YRckQtPE-1"
      },
      "execution_count": 100,
      "outputs": []
    },
    {
      "cell_type": "markdown",
      "source": [
        "\n",
        "\n",
        "```\n",
        "slice_of_arr\n",
        "```\n",
        "\n"
      ],
      "metadata": {
        "id": "o4Tqh9AO-R9y"
      }
    },
    {
      "cell_type": "code",
      "source": [
        "slice_of_arr"
      ],
      "metadata": {
        "colab": {
          "base_uri": "https://localhost:8080/"
        },
        "id": "2ku5yv0mPKfg",
        "outputId": "f7a57216-500c-4df3-e2ce-2a568a080cc3"
      },
      "execution_count": 101,
      "outputs": [
        {
          "output_type": "execute_result",
          "data": {
            "text/plain": [
              "array([99, 99, 99, 99, 99])"
            ]
          },
          "metadata": {},
          "execution_count": 101
        }
      ]
    },
    {
      "cell_type": "markdown",
      "source": [
        "\n",
        "\n",
        "```\n",
        "arr\n",
        "```\n",
        "\n"
      ],
      "metadata": {
        "id": "24ckvtUh-UpM"
      }
    },
    {
      "cell_type": "code",
      "source": [
        "arr"
      ],
      "metadata": {
        "colab": {
          "base_uri": "https://localhost:8080/"
        },
        "id": "X-N5SUiwPMGW",
        "outputId": "b8a5fbf8-c90e-4daa-801a-17f2ca21e61a"
      },
      "execution_count": 102,
      "outputs": [
        {
          "output_type": "execute_result",
          "data": {
            "text/plain": [
              "array([99, 99, 99, 99, 99,  5,  6,  7,  8,  9, 10])"
            ]
          },
          "metadata": {},
          "execution_count": 102
        }
      ]
    },
    {
      "cell_type": "markdown",
      "source": [
        "\n",
        "\n",
        "```\n",
        "arr_copy = arr.copy()\n",
        "arr_copy[:] = 100\n",
        "```\n",
        "\n"
      ],
      "metadata": {
        "id": "D3GK4dHf-XXn"
      }
    },
    {
      "cell_type": "code",
      "source": [
        "arr_copy = arr.copy()\n",
        "arr_copy[:] = 100"
      ],
      "metadata": {
        "id": "UYS89tcuPOWl"
      },
      "execution_count": 103,
      "outputs": []
    },
    {
      "cell_type": "markdown",
      "source": [
        "\n",
        "\n",
        "```\n",
        "arr_copy\n",
        "```\n",
        "\n"
      ],
      "metadata": {
        "id": "3uqDnsGv-kOl"
      }
    },
    {
      "cell_type": "code",
      "source": [
        "arr_copy"
      ],
      "metadata": {
        "colab": {
          "base_uri": "https://localhost:8080/"
        },
        "id": "P1s2DkavPVbs",
        "outputId": "b8212769-6399-4912-d248-ee94534cb52a"
      },
      "execution_count": 104,
      "outputs": [
        {
          "output_type": "execute_result",
          "data": {
            "text/plain": [
              "array([100, 100, 100, 100, 100, 100, 100, 100, 100, 100, 100])"
            ]
          },
          "metadata": {},
          "execution_count": 104
        }
      ]
    },
    {
      "cell_type": "markdown",
      "source": [
        "\n",
        "\n",
        "```\n",
        "arr\n",
        "```\n",
        "\n"
      ],
      "metadata": {
        "id": "ovknatD8-oSM"
      }
    },
    {
      "cell_type": "code",
      "source": [
        "arr"
      ],
      "metadata": {
        "colab": {
          "base_uri": "https://localhost:8080/"
        },
        "id": "xFyPTH7lPWwV",
        "outputId": "cec561ee-d7b9-4165-a9b7-959d98a127c9"
      },
      "execution_count": 105,
      "outputs": [
        {
          "output_type": "execute_result",
          "data": {
            "text/plain": [
              "array([99, 99, 99, 99, 99,  5,  6,  7,  8,  9, 10])"
            ]
          },
          "metadata": {},
          "execution_count": 105
        }
      ]
    },
    {
      "cell_type": "markdown",
      "source": [
        "\n",
        "\n",
        "```\n",
        "arr_2d = np.array(\n",
        "    [[\n",
        "        5,10,15\n",
        "    ],[\n",
        "        20,25,30\n",
        "    ],[\n",
        "        35,40,45\n",
        "    ]]\n",
        ")\n",
        "```\n",
        "\n"
      ],
      "metadata": {
        "id": "slM4z8Lg-tOE"
      }
    },
    {
      "cell_type": "code",
      "source": [
        "arr_2d = np.array(\n",
        "    [[5,10,15],\n",
        "     [20,25,30],\n",
        "     [35,40,45]]\n",
        ")"
      ],
      "metadata": {
        "id": "GWWb7sZ4PXP7"
      },
      "execution_count": 106,
      "outputs": []
    },
    {
      "cell_type": "markdown",
      "source": [
        "\n",
        "\n",
        "```\n",
        "arr_2d\n",
        "```\n",
        "\n"
      ],
      "metadata": {
        "id": "BbbwSTDI-waI"
      }
    },
    {
      "cell_type": "code",
      "source": [
        "arr_2d"
      ],
      "metadata": {
        "colab": {
          "base_uri": "https://localhost:8080/"
        },
        "id": "wiWt6fbgPmox",
        "outputId": "cb5d2e36-9883-4552-c792-17fa904a9c81"
      },
      "execution_count": 107,
      "outputs": [
        {
          "output_type": "execute_result",
          "data": {
            "text/plain": [
              "array([[ 5, 10, 15],\n",
              "       [20, 25, 30],\n",
              "       [35, 40, 45]])"
            ]
          },
          "metadata": {},
          "execution_count": 107
        }
      ]
    },
    {
      "cell_type": "markdown",
      "source": [
        "\n",
        "\n",
        "```\n",
        "arr_2d.shape\n",
        "```\n",
        "\n"
      ],
      "metadata": {
        "id": "zylDGA4u-zc0"
      }
    },
    {
      "cell_type": "code",
      "source": [
        "arr_2d.shape"
      ],
      "metadata": {
        "colab": {
          "base_uri": "https://localhost:8080/"
        },
        "id": "kGMEgnotP2OS",
        "outputId": "4a0b4c42-67d8-441a-ae2e-348d43f36ddf"
      },
      "execution_count": 108,
      "outputs": [
        {
          "output_type": "execute_result",
          "data": {
            "text/plain": [
              "(3, 3)"
            ]
          },
          "metadata": {},
          "execution_count": 108
        }
      ]
    },
    {
      "cell_type": "markdown",
      "source": [
        "\n",
        "\n",
        "```\n",
        "arr_2d[2]\n",
        "```\n",
        "\n"
      ],
      "metadata": {
        "id": "lyRzUHQo-3dg"
      }
    },
    {
      "cell_type": "code",
      "source": [
        "arr_2d[2]"
      ],
      "metadata": {
        "colab": {
          "base_uri": "https://localhost:8080/"
        },
        "id": "0Ju7dNwiP5BF",
        "outputId": "dcd8b941-ad09-4733-dac0-61d77bc9a8a4"
      },
      "execution_count": 109,
      "outputs": [
        {
          "output_type": "execute_result",
          "data": {
            "text/plain": [
              "array([35, 40, 45])"
            ]
          },
          "metadata": {},
          "execution_count": 109
        }
      ]
    },
    {
      "cell_type": "markdown",
      "source": [
        "\n",
        "\n",
        "```\n",
        "arr_2d[0,2]\n",
        "```\n",
        "\n"
      ],
      "metadata": {
        "id": "zeoGbss8-6ll"
      }
    },
    {
      "cell_type": "code",
      "source": [
        "arr_2d[0,2]"
      ],
      "metadata": {
        "colab": {
          "base_uri": "https://localhost:8080/"
        },
        "id": "xrSoSMQeP7_W",
        "outputId": "6529175d-d38e-4b50-c75d-fe843e17029f"
      },
      "execution_count": 110,
      "outputs": [
        {
          "output_type": "execute_result",
          "data": {
            "text/plain": [
              "15"
            ]
          },
          "metadata": {},
          "execution_count": 110
        }
      ]
    },
    {
      "cell_type": "markdown",
      "source": [
        "\n",
        "\n",
        "```\n",
        "arr_2d[:2]\n",
        "```\n",
        "\n"
      ],
      "metadata": {
        "id": "yygwA777-9gB"
      }
    },
    {
      "cell_type": "code",
      "source": [
        "arr_2d[:2]"
      ],
      "metadata": {
        "colab": {
          "base_uri": "https://localhost:8080/"
        },
        "id": "Micg_jSmRJp3",
        "outputId": "0bbfa97e-39a4-4965-dfeb-b6561ac16fde"
      },
      "execution_count": 111,
      "outputs": [
        {
          "output_type": "execute_result",
          "data": {
            "text/plain": [
              "array([[ 5, 10, 15],\n",
              "       [20, 25, 30]])"
            ]
          },
          "metadata": {},
          "execution_count": 111
        }
      ]
    },
    {
      "cell_type": "markdown",
      "source": [
        "\n",
        "\n",
        "```\n",
        "arr_2d[:2,1:]\n",
        "```\n",
        "\n"
      ],
      "metadata": {
        "id": "FawT7J2L_Aak"
      }
    },
    {
      "cell_type": "code",
      "source": [
        "arr_2d[:2,1:]"
      ],
      "metadata": {
        "colab": {
          "base_uri": "https://localhost:8080/"
        },
        "id": "OVG6B9w_RPoY",
        "outputId": "5e81fe1a-c41b-4c04-c56f-c8bc7d0573a5"
      },
      "execution_count": 112,
      "outputs": [
        {
          "output_type": "execute_result",
          "data": {
            "text/plain": [
              "array([[10, 15],\n",
              "       [25, 30]])"
            ]
          },
          "metadata": {},
          "execution_count": 112
        }
      ]
    },
    {
      "cell_type": "markdown",
      "source": [
        "\n",
        "\n",
        "```\n",
        "arr = np.arange(1,11)\n",
        "```\n",
        "\n"
      ],
      "metadata": {
        "id": "nyjnI2lA_DVJ"
      }
    },
    {
      "cell_type": "code",
      "source": [
        "arr = np.arange(1,11)"
      ],
      "metadata": {
        "id": "p6hGKQRDRVUy"
      },
      "execution_count": 113,
      "outputs": []
    },
    {
      "cell_type": "markdown",
      "source": [
        "\n",
        "\n",
        "```\n",
        "arr\n",
        "```\n",
        "\n"
      ],
      "metadata": {
        "id": "uv7HJL1q_F9Q"
      }
    },
    {
      "cell_type": "code",
      "source": [
        "arr"
      ],
      "metadata": {
        "colab": {
          "base_uri": "https://localhost:8080/"
        },
        "id": "r9Iox3sDRg98",
        "outputId": "057bff2a-ea06-4ac7-c27b-c4888b311afe"
      },
      "execution_count": 114,
      "outputs": [
        {
          "output_type": "execute_result",
          "data": {
            "text/plain": [
              "array([ 1,  2,  3,  4,  5,  6,  7,  8,  9, 10])"
            ]
          },
          "metadata": {},
          "execution_count": 114
        }
      ]
    },
    {
      "cell_type": "markdown",
      "source": [
        "\n",
        "\n",
        "```\n",
        "arr > 4\n",
        "```\n",
        "\n"
      ],
      "metadata": {
        "id": "aqd81no1_Iqb"
      }
    },
    {
      "cell_type": "code",
      "source": [
        "arr > 4"
      ],
      "metadata": {
        "colab": {
          "base_uri": "https://localhost:8080/"
        },
        "id": "QfE5lQg2Rhfj",
        "outputId": "917794b2-ce45-4ac8-c711-22296cb93584"
      },
      "execution_count": 115,
      "outputs": [
        {
          "output_type": "execute_result",
          "data": {
            "text/plain": [
              "array([False, False, False, False,  True,  True,  True,  True,  True,\n",
              "        True])"
            ]
          },
          "metadata": {},
          "execution_count": 115
        }
      ]
    },
    {
      "cell_type": "markdown",
      "source": [
        "\n",
        "\n",
        "```\n",
        "bool_arr = arr>4\n",
        "```\n",
        "\n"
      ],
      "metadata": {
        "id": "j4lHPont_LID"
      }
    },
    {
      "cell_type": "code",
      "source": [
        "bool_arr = arr>4"
      ],
      "metadata": {
        "id": "NUyEo_MMRiwu"
      },
      "execution_count": 116,
      "outputs": []
    },
    {
      "cell_type": "markdown",
      "source": [
        "\n",
        "\n",
        "```\n",
        "bool_arr\n",
        "```\n",
        "\n"
      ],
      "metadata": {
        "id": "LwyCj9c4_Uqv"
      }
    },
    {
      "cell_type": "code",
      "source": [
        "bool_arr"
      ],
      "metadata": {
        "colab": {
          "base_uri": "https://localhost:8080/"
        },
        "id": "Yhq9JAE9RpTW",
        "outputId": "a1312e23-208d-4514-d3fb-5241a9b922ad"
      },
      "execution_count": 117,
      "outputs": [
        {
          "output_type": "execute_result",
          "data": {
            "text/plain": [
              "array([False, False, False, False,  True,  True,  True,  True,  True,\n",
              "        True])"
            ]
          },
          "metadata": {},
          "execution_count": 117
        }
      ]
    },
    {
      "cell_type": "markdown",
      "source": [
        "\n",
        "\n",
        "```\n",
        "arr[bool_arr]\n",
        "```\n",
        "\n"
      ],
      "metadata": {
        "id": "XC6vXIsM_YIv"
      }
    },
    {
      "cell_type": "code",
      "source": [
        "arr[bool_arr]"
      ],
      "metadata": {
        "colab": {
          "base_uri": "https://localhost:8080/"
        },
        "id": "E1ZmJwG_Rqeb",
        "outputId": "95f28d08-f7b1-41dd-afa9-f69c9e5a8918"
      },
      "execution_count": 118,
      "outputs": [
        {
          "output_type": "execute_result",
          "data": {
            "text/plain": [
              "array([ 5,  6,  7,  8,  9, 10])"
            ]
          },
          "metadata": {},
          "execution_count": 118
        }
      ]
    },
    {
      "cell_type": "markdown",
      "source": [
        "\n",
        "\n",
        "```\n",
        "arr[arr>4]\n",
        "```\n",
        "\n"
      ],
      "metadata": {
        "id": "7kadWu-z_ayg"
      }
    },
    {
      "cell_type": "code",
      "source": [
        "arr[arr>4]"
      ],
      "metadata": {
        "colab": {
          "base_uri": "https://localhost:8080/"
        },
        "id": "qRSVhY90Rttt",
        "outputId": "31289a58-4813-46f8-d556-7fb552cc4cd3"
      },
      "execution_count": 119,
      "outputs": [
        {
          "output_type": "execute_result",
          "data": {
            "text/plain": [
              "array([ 5,  6,  7,  8,  9, 10])"
            ]
          },
          "metadata": {},
          "execution_count": 119
        }
      ]
    },
    {
      "cell_type": "markdown",
      "source": [
        "# Arithmetic Operations"
      ],
      "metadata": {
        "id": "ZnID_fP7SB-7"
      }
    },
    {
      "cell_type": "markdown",
      "source": [
        "\n",
        "\n",
        "```\n",
        "arr = np.arange(0,10)\n",
        "```\n",
        "\n"
      ],
      "metadata": {
        "id": "XNwcz99g_dwA"
      }
    },
    {
      "cell_type": "code",
      "source": [
        "arr = np.arange(0,10)"
      ],
      "metadata": {
        "id": "sdDFvk8qR3Ja"
      },
      "execution_count": 120,
      "outputs": []
    },
    {
      "cell_type": "markdown",
      "source": [
        "\n",
        "\n",
        "```\n",
        "arr\n",
        "```\n",
        "\n"
      ],
      "metadata": {
        "id": "ThlV1iBP_gtN"
      }
    },
    {
      "cell_type": "code",
      "source": [
        "arr"
      ],
      "metadata": {
        "colab": {
          "base_uri": "https://localhost:8080/"
        },
        "id": "X0qVATElSMBg",
        "outputId": "b742d65c-f627-464d-c4cc-2265d1545301"
      },
      "execution_count": 121,
      "outputs": [
        {
          "output_type": "execute_result",
          "data": {
            "text/plain": [
              "array([0, 1, 2, 3, 4, 5, 6, 7, 8, 9])"
            ]
          },
          "metadata": {},
          "execution_count": 121
        }
      ]
    },
    {
      "cell_type": "markdown",
      "source": [
        "\n",
        "\n",
        "```\n",
        "arr + 5\n",
        "```\n",
        "\n"
      ],
      "metadata": {
        "id": "GQbQN7Y4_jVl"
      }
    },
    {
      "cell_type": "code",
      "source": [
        "arr + 5"
      ],
      "metadata": {
        "colab": {
          "base_uri": "https://localhost:8080/"
        },
        "id": "ZfCHgQBtSMyS",
        "outputId": "74b1a713-13b0-46eb-a4d0-1878975a0fc5"
      },
      "execution_count": 122,
      "outputs": [
        {
          "output_type": "execute_result",
          "data": {
            "text/plain": [
              "array([ 5,  6,  7,  8,  9, 10, 11, 12, 13, 14])"
            ]
          },
          "metadata": {},
          "execution_count": 122
        }
      ]
    },
    {
      "cell_type": "markdown",
      "source": [
        "\n",
        "\n",
        "```\n",
        "arr - 2\n",
        "```\n",
        "\n"
      ],
      "metadata": {
        "id": "BbCIcCF1_l9B"
      }
    },
    {
      "cell_type": "code",
      "source": [
        "arr - 2"
      ],
      "metadata": {
        "colab": {
          "base_uri": "https://localhost:8080/"
        },
        "id": "iu636hGtSOUp",
        "outputId": "96eb7a03-5587-4fbd-89b3-9e83decf0e34"
      },
      "execution_count": 123,
      "outputs": [
        {
          "output_type": "execute_result",
          "data": {
            "text/plain": [
              "array([-2, -1,  0,  1,  2,  3,  4,  5,  6,  7])"
            ]
          },
          "metadata": {},
          "execution_count": 123
        }
      ]
    },
    {
      "cell_type": "markdown",
      "source": [
        "\n",
        "\n",
        "```\n",
        "arr + arr\n",
        "```\n",
        "\n"
      ],
      "metadata": {
        "id": "70zBe4bn_pAG"
      }
    },
    {
      "cell_type": "code",
      "source": [
        "arr + arr"
      ],
      "metadata": {
        "colab": {
          "base_uri": "https://localhost:8080/"
        },
        "id": "WFatyQ6ySRV1",
        "outputId": "63c36129-c2af-4a02-faa0-e10fce6295ea"
      },
      "execution_count": 124,
      "outputs": [
        {
          "output_type": "execute_result",
          "data": {
            "text/plain": [
              "array([ 0,  2,  4,  6,  8, 10, 12, 14, 16, 18])"
            ]
          },
          "metadata": {},
          "execution_count": 124
        }
      ]
    },
    {
      "cell_type": "markdown",
      "source": [
        "\n",
        "\n",
        "```\n",
        "arr * arr\n",
        "```\n",
        "\n"
      ],
      "metadata": {
        "id": "xYHs7CDu_r9V"
      }
    },
    {
      "cell_type": "code",
      "source": [
        "arr * arr"
      ],
      "metadata": {
        "colab": {
          "base_uri": "https://localhost:8080/"
        },
        "id": "CdhBTTgJSVdI",
        "outputId": "365d543b-0463-4284-abd6-0cc38c61ab5d"
      },
      "execution_count": 125,
      "outputs": [
        {
          "output_type": "execute_result",
          "data": {
            "text/plain": [
              "array([ 0,  1,  4,  9, 16, 25, 36, 49, 64, 81])"
            ]
          },
          "metadata": {},
          "execution_count": 125
        }
      ]
    },
    {
      "cell_type": "markdown",
      "source": [
        "\n",
        "\n",
        "```\n",
        "arr / arr\n",
        "```\n",
        "\n"
      ],
      "metadata": {
        "id": "LFYLYug6_1C-"
      }
    },
    {
      "cell_type": "markdown",
      "source": [
        "`arr / arr` : divise le tableau `arr` par lui-même, élément par élément.\n",
        "\n",
        "\n",
        "\n",
        "*   **Division par zéro** : Si arr contient des zéros, vous rencontrerez un avertissement \"division par zéro\".\n",
        "*   **Type de données** : Le tableau résultant aura le même type de données que `arr`. Si `arr` contient des entiers, le résultat peut également être des entiers, potentiellement avec des décimales tronquées en raison de la division entière. Si `arr` contient des nombres à virgule flottante, le résultat sera des nombres à virgule flottante."
      ],
      "metadata": {
        "id": "xq22cSC51lhW"
      }
    },
    {
      "cell_type": "code",
      "source": [
        "arr / arr"
      ],
      "metadata": {
        "id": "FL7duK54aR6g",
        "outputId": "ceecc717-c9ea-4e03-ded5-f27d9365c851",
        "colab": {
          "base_uri": "https://localhost:8080/"
        }
      },
      "execution_count": 126,
      "outputs": [
        {
          "output_type": "stream",
          "name": "stderr",
          "text": [
            "<ipython-input-126-7f952cd3e0ce>:1: RuntimeWarning: invalid value encountered in divide\n",
            "  arr / arr\n"
          ]
        },
        {
          "output_type": "execute_result",
          "data": {
            "text/plain": [
              "array([nan,  1.,  1.,  1.,  1.,  1.,  1.,  1.,  1.,  1.])"
            ]
          },
          "metadata": {},
          "execution_count": 126
        }
      ]
    },
    {
      "cell_type": "code",
      "source": [],
      "metadata": {
        "colab": {
          "base_uri": "https://localhost:8080/"
        },
        "id": "6zTC7RoeSWzN",
        "outputId": "4045a8b9-f841-4550-b01f-547403a49058"
      },
      "execution_count": null,
      "outputs": [
        {
          "output_type": "stream",
          "name": "stderr",
          "text": [
            "/usr/local/lib/python3.7/dist-packages/ipykernel_launcher.py:1: RuntimeWarning: invalid value encountered in true_divide\n",
            "  \"\"\"Entry point for launching an IPython kernel.\n"
          ]
        },
        {
          "output_type": "execute_result",
          "data": {
            "text/plain": [
              "array([nan,  1.,  1.,  1.,  1.,  1.,  1.,  1.,  1.,  1.])"
            ]
          },
          "metadata": {},
          "execution_count": 102
        }
      ]
    },
    {
      "cell_type": "markdown",
      "source": [
        "\n",
        "\n",
        "```\n",
        "1 / 0\n",
        "```\n",
        "\n"
      ],
      "metadata": {
        "id": "VGcIeNNT_4nk"
      }
    },
    {
      "cell_type": "code",
      "source": [
        "1 / 0"
      ],
      "metadata": {
        "id": "hLUJ5K3daaB_",
        "outputId": "1a276c0b-3dd0-410d-c63a-f0b006ee82f2",
        "colab": {
          "base_uri": "https://localhost:8080/",
          "height": 141
        }
      },
      "execution_count": 127,
      "outputs": [
        {
          "output_type": "error",
          "ename": "ZeroDivisionError",
          "evalue": "division by zero",
          "traceback": [
            "\u001b[0;31m---------------------------------------------------------------------------\u001b[0m",
            "\u001b[0;31mZeroDivisionError\u001b[0m                         Traceback (most recent call last)",
            "\u001b[0;32m<ipython-input-127-bc757c3fda29>\u001b[0m in \u001b[0;36m<cell line: 0>\u001b[0;34m()\u001b[0m\n\u001b[0;32m----> 1\u001b[0;31m \u001b[0;36m1\u001b[0m \u001b[0;34m/\u001b[0m \u001b[0;36m0\u001b[0m\u001b[0;34m\u001b[0m\u001b[0;34m\u001b[0m\u001b[0m\n\u001b[0m",
            "\u001b[0;31mZeroDivisionError\u001b[0m: division by zero"
          ]
        }
      ]
    },
    {
      "cell_type": "code",
      "source": [],
      "metadata": {
        "colab": {
          "base_uri": "https://localhost:8080/",
          "height": 165
        },
        "id": "GjnxGdPWSfa2",
        "outputId": "51f7ea03-54ae-4c95-9abf-9cbf94f45f59"
      },
      "execution_count": null,
      "outputs": [
        {
          "output_type": "error",
          "ename": "ZeroDivisionError",
          "evalue": "ignored",
          "traceback": [
            "\u001b[0;31m---------------------------------------------------------------------------\u001b[0m",
            "\u001b[0;31mZeroDivisionError\u001b[0m                         Traceback (most recent call last)",
            "\u001b[0;32m<ipython-input-103-bc757c3fda29>\u001b[0m in \u001b[0;36m<module>\u001b[0;34m\u001b[0m\n\u001b[0;32m----> 1\u001b[0;31m \u001b[0;36m1\u001b[0m \u001b[0;34m/\u001b[0m \u001b[0;36m0\u001b[0m\u001b[0;34m\u001b[0m\u001b[0;34m\u001b[0m\u001b[0m\n\u001b[0m",
            "\u001b[0;31mZeroDivisionError\u001b[0m: division by zero"
          ]
        }
      ]
    },
    {
      "cell_type": "markdown",
      "source": [
        "\n",
        "\n",
        "```\n",
        "1 / arr\n",
        "```\n",
        "\n"
      ],
      "metadata": {
        "id": "c6ULqerSAE9d"
      }
    },
    {
      "cell_type": "code",
      "source": [
        "1 / arr"
      ],
      "metadata": {
        "id": "u9QBCdb6adNR",
        "outputId": "84fbc6d1-1dc7-4644-a48a-8a6d8944790d",
        "colab": {
          "base_uri": "https://localhost:8080/"
        }
      },
      "execution_count": 129,
      "outputs": [
        {
          "output_type": "stream",
          "name": "stderr",
          "text": [
            "<ipython-input-129-e66ae8057bc3>:1: RuntimeWarning: divide by zero encountered in divide\n",
            "  1 / arr\n"
          ]
        },
        {
          "output_type": "execute_result",
          "data": {
            "text/plain": [
              "array([       inf, 1.        , 0.5       , 0.33333333, 0.25      ,\n",
              "       0.2       , 0.16666667, 0.14285714, 0.125     , 0.11111111])"
            ]
          },
          "metadata": {},
          "execution_count": 129
        }
      ]
    },
    {
      "cell_type": "code",
      "source": [],
      "metadata": {
        "colab": {
          "base_uri": "https://localhost:8080/"
        },
        "id": "08eM2_zCSmW_",
        "outputId": "52aa84dc-d45b-471d-c8b3-bb78d4581d31"
      },
      "execution_count": null,
      "outputs": [
        {
          "output_type": "stream",
          "name": "stderr",
          "text": [
            "/usr/local/lib/python3.7/dist-packages/ipykernel_launcher.py:1: RuntimeWarning: divide by zero encountered in true_divide\n",
            "  \"\"\"Entry point for launching an IPython kernel.\n"
          ]
        },
        {
          "output_type": "execute_result",
          "data": {
            "text/plain": [
              "array([       inf, 1.        , 0.5       , 0.33333333, 0.25      ,\n",
              "       0.2       , 0.16666667, 0.14285714, 0.125     , 0.11111111])"
            ]
          },
          "metadata": {},
          "execution_count": 104
        }
      ]
    },
    {
      "cell_type": "markdown",
      "source": [
        "\n",
        "\n",
        "```\n",
        "np.sqrt(arr)\n",
        "```\n",
        "\n"
      ],
      "metadata": {
        "id": "UJ2kkRk8AHsx"
      }
    },
    {
      "cell_type": "code",
      "source": [
        "np.sqrt(arr)"
      ],
      "metadata": {
        "colab": {
          "base_uri": "https://localhost:8080/"
        },
        "id": "tuRytMD1Sp_F",
        "outputId": "4bfe01d3-2430-47b8-bb49-81b799cd4df4"
      },
      "execution_count": 130,
      "outputs": [
        {
          "output_type": "execute_result",
          "data": {
            "text/plain": [
              "array([0.        , 1.        , 1.41421356, 1.73205081, 2.        ,\n",
              "       2.23606798, 2.44948974, 2.64575131, 2.82842712, 3.        ])"
            ]
          },
          "metadata": {},
          "execution_count": 130
        }
      ]
    },
    {
      "cell_type": "markdown",
      "source": [
        "\n",
        "\n",
        "```\n",
        "np.sin(arr)\n",
        "```\n",
        "\n"
      ],
      "metadata": {
        "id": "1RxP0xSAAKbE"
      }
    },
    {
      "cell_type": "code",
      "source": [
        "np.sin(arr)"
      ],
      "metadata": {
        "colab": {
          "base_uri": "https://localhost:8080/"
        },
        "id": "zBnppLBfS56B",
        "outputId": "b4d255c2-8534-4b18-ed1e-f01a9a8319b2"
      },
      "execution_count": 131,
      "outputs": [
        {
          "output_type": "execute_result",
          "data": {
            "text/plain": [
              "array([ 0.        ,  0.84147098,  0.90929743,  0.14112001, -0.7568025 ,\n",
              "       -0.95892427, -0.2794155 ,  0.6569866 ,  0.98935825,  0.41211849])"
            ]
          },
          "metadata": {},
          "execution_count": 131
        }
      ]
    },
    {
      "cell_type": "markdown",
      "source": [
        "\n",
        "\n",
        "```\n",
        "np.log(arr)\n",
        "```\n",
        "\n"
      ],
      "metadata": {
        "id": "xQ9LKmYrAM-z"
      }
    },
    {
      "cell_type": "code",
      "source": [
        "np.log(arr)"
      ],
      "metadata": {
        "id": "5loC7-oaapUJ",
        "outputId": "4d91dd85-cf56-4687-f68e-59fa1f176e23",
        "colab": {
          "base_uri": "https://localhost:8080/"
        }
      },
      "execution_count": 132,
      "outputs": [
        {
          "output_type": "stream",
          "name": "stderr",
          "text": [
            "<ipython-input-132-a67b4ae04e95>:1: RuntimeWarning: divide by zero encountered in log\n",
            "  np.log(arr)\n"
          ]
        },
        {
          "output_type": "execute_result",
          "data": {
            "text/plain": [
              "array([      -inf, 0.        , 0.69314718, 1.09861229, 1.38629436,\n",
              "       1.60943791, 1.79175947, 1.94591015, 2.07944154, 2.19722458])"
            ]
          },
          "metadata": {},
          "execution_count": 132
        }
      ]
    },
    {
      "cell_type": "code",
      "source": [],
      "metadata": {
        "colab": {
          "base_uri": "https://localhost:8080/"
        },
        "id": "PeNfCW-GS7aH",
        "outputId": "153057b6-a85f-4be0-e3e2-2a1c7f5c6e63"
      },
      "execution_count": null,
      "outputs": [
        {
          "output_type": "stream",
          "name": "stderr",
          "text": [
            "/usr/local/lib/python3.7/dist-packages/ipykernel_launcher.py:1: RuntimeWarning: divide by zero encountered in log\n",
            "  \"\"\"Entry point for launching an IPython kernel.\n"
          ]
        },
        {
          "output_type": "execute_result",
          "data": {
            "text/plain": [
              "array([      -inf, 0.        , 0.69314718, 1.09861229, 1.38629436,\n",
              "       1.60943791, 1.79175947, 1.94591015, 2.07944154, 2.19722458])"
            ]
          },
          "metadata": {},
          "execution_count": 107
        }
      ]
    },
    {
      "cell_type": "markdown",
      "source": [
        "\n",
        "\n",
        "```\n",
        "arr\n",
        "```\n",
        "\n"
      ],
      "metadata": {
        "id": "m4v2MsxMAPzD"
      }
    },
    {
      "cell_type": "code",
      "source": [
        "arr"
      ],
      "metadata": {
        "colab": {
          "base_uri": "https://localhost:8080/"
        },
        "id": "ukLXC3RJS9P4",
        "outputId": "fed2032a-96be-4982-fb1d-e9063e684005"
      },
      "execution_count": 133,
      "outputs": [
        {
          "output_type": "execute_result",
          "data": {
            "text/plain": [
              "array([0, 1, 2, 3, 4, 5, 6, 7, 8, 9])"
            ]
          },
          "metadata": {},
          "execution_count": 133
        }
      ]
    },
    {
      "cell_type": "markdown",
      "source": [
        "\n",
        "\n",
        "```\n",
        "arr.sum()\n",
        "```\n",
        "\n"
      ],
      "metadata": {
        "id": "8HIgXX9pASxl"
      }
    },
    {
      "cell_type": "code",
      "source": [
        "arr.sum()"
      ],
      "metadata": {
        "colab": {
          "base_uri": "https://localhost:8080/"
        },
        "id": "anTFSL1PTKeB",
        "outputId": "f067d6de-0508-444c-b96a-c32e8ed82c22"
      },
      "execution_count": 134,
      "outputs": [
        {
          "output_type": "execute_result",
          "data": {
            "text/plain": [
              "45"
            ]
          },
          "metadata": {},
          "execution_count": 134
        }
      ]
    },
    {
      "cell_type": "markdown",
      "source": [
        "\n",
        "\n",
        "```\n",
        "arr.mean()\n",
        "```\n",
        "\n"
      ],
      "metadata": {
        "id": "dWdWplrHAVmc"
      }
    },
    {
      "cell_type": "code",
      "source": [
        "arr.mean()"
      ],
      "metadata": {
        "colab": {
          "base_uri": "https://localhost:8080/"
        },
        "id": "bAiNNCtETMAr",
        "outputId": "1510dc46-579b-4702-b3af-ba0039ad7151"
      },
      "execution_count": 135,
      "outputs": [
        {
          "output_type": "execute_result",
          "data": {
            "text/plain": [
              "4.5"
            ]
          },
          "metadata": {},
          "execution_count": 135
        }
      ]
    },
    {
      "cell_type": "markdown",
      "source": [
        "\n",
        "\n",
        "```\n",
        "arr.max()\n",
        "```\n",
        "\n"
      ],
      "metadata": {
        "id": "n9kwpQJSAYMt"
      }
    },
    {
      "cell_type": "code",
      "source": [
        "arr.max()"
      ],
      "metadata": {
        "colab": {
          "base_uri": "https://localhost:8080/"
        },
        "id": "0s0B2RGFTNHB",
        "outputId": "3ae9ba69-87cd-432e-bf7f-1a3abd95ab24"
      },
      "execution_count": 136,
      "outputs": [
        {
          "output_type": "execute_result",
          "data": {
            "text/plain": [
              "9"
            ]
          },
          "metadata": {},
          "execution_count": 136
        }
      ]
    },
    {
      "cell_type": "markdown",
      "source": [
        "\n",
        "\n",
        "```\n",
        "arr.var()\n",
        "```\n",
        "\n"
      ],
      "metadata": {
        "id": "1x_-Nx8lAa5F"
      }
    },
    {
      "cell_type": "code",
      "source": [
        "arr.var()"
      ],
      "metadata": {
        "colab": {
          "base_uri": "https://localhost:8080/"
        },
        "id": "neA3XGMKTO2B",
        "outputId": "b82d0947-c172-479d-907e-8fc6350523fb"
      },
      "execution_count": 137,
      "outputs": [
        {
          "output_type": "execute_result",
          "data": {
            "text/plain": [
              "8.25"
            ]
          },
          "metadata": {},
          "execution_count": 137
        }
      ]
    },
    {
      "cell_type": "markdown",
      "source": [
        "\n",
        "\n",
        "```\n",
        "arr.std()\n",
        "```\n",
        "\n"
      ],
      "metadata": {
        "id": "jNsdIqSiAeSn"
      }
    },
    {
      "cell_type": "code",
      "source": [
        "arr.std()"
      ],
      "metadata": {
        "colab": {
          "base_uri": "https://localhost:8080/"
        },
        "id": "3hhUrmeETRC_",
        "outputId": "9a6bc832-3455-4c9e-91d0-9212640194d1"
      },
      "execution_count": 138,
      "outputs": [
        {
          "output_type": "execute_result",
          "data": {
            "text/plain": [
              "2.8722813232690143"
            ]
          },
          "metadata": {},
          "execution_count": 138
        }
      ]
    },
    {
      "cell_type": "markdown",
      "source": [
        "\n",
        "\n",
        "```\n",
        "np.arange(0,25)\n",
        "```\n",
        "\n"
      ],
      "metadata": {
        "id": "92IlD3eBAiMO"
      }
    },
    {
      "cell_type": "code",
      "source": [
        "np.arange(0,25)"
      ],
      "metadata": {
        "colab": {
          "base_uri": "https://localhost:8080/"
        },
        "id": "j_pdXSoSTSZf",
        "outputId": "c0a24723-35c0-4d0e-ee2e-1e03b54c71a3"
      },
      "execution_count": 139,
      "outputs": [
        {
          "output_type": "execute_result",
          "data": {
            "text/plain": [
              "array([ 0,  1,  2,  3,  4,  5,  6,  7,  8,  9, 10, 11, 12, 13, 14, 15, 16,\n",
              "       17, 18, 19, 20, 21, 22, 23, 24])"
            ]
          },
          "metadata": {},
          "execution_count": 139
        }
      ]
    },
    {
      "cell_type": "markdown",
      "source": [
        "\n",
        "\n",
        "```\n",
        "np.arange(0,25).reshape(5,5)\n",
        "```\n",
        "\n"
      ],
      "metadata": {
        "id": "Jwx9C40fAqOO"
      }
    },
    {
      "cell_type": "code",
      "source": [
        "np.arange(0,25).reshape(5,5)"
      ],
      "metadata": {
        "colab": {
          "base_uri": "https://localhost:8080/"
        },
        "id": "h_X0LZUcTfQ6",
        "outputId": "0cc10a79-3561-4345-96d9-51b5750614ad"
      },
      "execution_count": 140,
      "outputs": [
        {
          "output_type": "execute_result",
          "data": {
            "text/plain": [
              "array([[ 0,  1,  2,  3,  4],\n",
              "       [ 5,  6,  7,  8,  9],\n",
              "       [10, 11, 12, 13, 14],\n",
              "       [15, 16, 17, 18, 19],\n",
              "       [20, 21, 22, 23, 24]])"
            ]
          },
          "metadata": {},
          "execution_count": 140
        }
      ]
    },
    {
      "cell_type": "markdown",
      "source": [
        "\n",
        "\n",
        "```\n",
        "arr2d = np.arange(0,25).reshape(5,5)\n",
        "```\n",
        "\n"
      ],
      "metadata": {
        "id": "apyieB2dAuDS"
      }
    },
    {
      "cell_type": "code",
      "source": [
        "arr2d = np.arange(0,25).reshape(5,5)"
      ],
      "metadata": {
        "id": "_Cwu1F0hTi5d"
      },
      "execution_count": 141,
      "outputs": []
    },
    {
      "cell_type": "markdown",
      "source": [
        "\n",
        "\n",
        "```\n",
        "arr2d.shape\n",
        "```\n",
        "\n"
      ],
      "metadata": {
        "id": "IfdNPutOAyk9"
      }
    },
    {
      "cell_type": "code",
      "source": [
        "arr2d.shape"
      ],
      "metadata": {
        "colab": {
          "base_uri": "https://localhost:8080/"
        },
        "id": "YqjklB29Tums",
        "outputId": "877163c2-db80-4b65-9b7d-413b1db13318"
      },
      "execution_count": 142,
      "outputs": [
        {
          "output_type": "execute_result",
          "data": {
            "text/plain": [
              "(5, 5)"
            ]
          },
          "metadata": {},
          "execution_count": 142
        }
      ]
    },
    {
      "cell_type": "markdown",
      "source": [
        "\n",
        "\n",
        "```\n",
        "arr2d\n",
        "```\n",
        "\n"
      ],
      "metadata": {
        "id": "TSL_r3doA1ea"
      }
    },
    {
      "cell_type": "code",
      "source": [
        "arr2d"
      ],
      "metadata": {
        "colab": {
          "base_uri": "https://localhost:8080/"
        },
        "id": "dQ9Qvn60TwLl",
        "outputId": "1b5a0f18-a6ab-4f42-e08b-e73895b9206a"
      },
      "execution_count": 143,
      "outputs": [
        {
          "output_type": "execute_result",
          "data": {
            "text/plain": [
              "array([[ 0,  1,  2,  3,  4],\n",
              "       [ 5,  6,  7,  8,  9],\n",
              "       [10, 11, 12, 13, 14],\n",
              "       [15, 16, 17, 18, 19],\n",
              "       [20, 21, 22, 23, 24]])"
            ]
          },
          "metadata": {},
          "execution_count": 143
        }
      ]
    },
    {
      "cell_type": "markdown",
      "source": [
        "\n",
        "\n",
        "```\n",
        "arr2d.sum()\n",
        "```\n",
        "\n"
      ],
      "metadata": {
        "id": "cTv692WEBCk5"
      }
    },
    {
      "cell_type": "code",
      "source": [
        "arr2d.sum()"
      ],
      "metadata": {
        "colab": {
          "base_uri": "https://localhost:8080/"
        },
        "id": "HOkJoIwHTxIc",
        "outputId": "2e63232a-ebe4-447b-9bb6-d07c1e0cf5c6"
      },
      "execution_count": 144,
      "outputs": [
        {
          "output_type": "execute_result",
          "data": {
            "text/plain": [
              "300"
            ]
          },
          "metadata": {},
          "execution_count": 144
        }
      ]
    },
    {
      "cell_type": "markdown",
      "source": [
        "\n",
        "\n",
        "```\n",
        "arr2d.sum(axis=0)\n",
        "```\n",
        "\n"
      ],
      "metadata": {
        "id": "gEWq6MaiBFdG"
      }
    },
    {
      "cell_type": "code",
      "source": [
        "# Somme par colonne\n",
        "arr2d.sum(axis=0)"
      ],
      "metadata": {
        "colab": {
          "base_uri": "https://localhost:8080/"
        },
        "id": "cMT1cjTATzd-",
        "outputId": "ddfc468e-5a95-4864-a6e2-c585185cfedd"
      },
      "execution_count": 145,
      "outputs": [
        {
          "output_type": "execute_result",
          "data": {
            "text/plain": [
              "array([50, 55, 60, 65, 70])"
            ]
          },
          "metadata": {},
          "execution_count": 145
        }
      ]
    },
    {
      "cell_type": "markdown",
      "source": [
        "\n",
        "\n",
        "```\n",
        "arr2d.sum(axis=1)\n",
        "```\n",
        "\n"
      ],
      "metadata": {
        "id": "QCEbHqTqBIRN"
      }
    },
    {
      "cell_type": "code",
      "source": [
        "arr2d.sum(axis=1)"
      ],
      "metadata": {
        "colab": {
          "base_uri": "https://localhost:8080/"
        },
        "id": "_P2LzXvXT2mP",
        "outputId": "25ffd27c-f8a7-4554-84f6-3058bdcc7af8"
      },
      "execution_count": 146,
      "outputs": [
        {
          "output_type": "execute_result",
          "data": {
            "text/plain": [
              "array([ 10,  35,  60,  85, 110])"
            ]
          },
          "metadata": {},
          "execution_count": 146
        }
      ]
    },
    {
      "cell_type": "markdown",
      "source": [
        "# Exercices"
      ],
      "metadata": {
        "id": "yxK_-ANjUMCg"
      }
    },
    {
      "cell_type": "markdown",
      "source": [
        "Importez la bibliothèque NumPy et donnez-lui l'alias 'np' pour une utilisation simplifiée."
      ],
      "metadata": {
        "id": "c44dqAiNUk56"
      }
    },
    {
      "cell_type": "code",
      "source": [
        "import numpy as np"
      ],
      "metadata": {
        "id": "5TKqKcvjVULg"
      },
      "execution_count": 147,
      "outputs": []
    },
    {
      "cell_type": "markdown",
      "source": [
        "Créez un tableau NumPy unidimensionnel contenant 10 éléments, tous initialisés à 0."
      ],
      "metadata": {
        "id": "TYcuH7i-DeiC"
      }
    },
    {
      "cell_type": "code",
      "source": [
        "np.zeros(10)"
      ],
      "metadata": {
        "id": "mdSL5lgAb73A",
        "outputId": "7a80e034-8604-4d7f-fb82-ea24fe3b1c34",
        "colab": {
          "base_uri": "https://localhost:8080/"
        }
      },
      "execution_count": 148,
      "outputs": [
        {
          "output_type": "execute_result",
          "data": {
            "text/plain": [
              "array([0., 0., 0., 0., 0., 0., 0., 0., 0., 0.])"
            ]
          },
          "metadata": {},
          "execution_count": 148
        }
      ]
    },
    {
      "cell_type": "code",
      "source": [],
      "metadata": {
        "colab": {
          "base_uri": "https://localhost:8080/"
        },
        "id": "70ejbduNVXnx",
        "outputId": "66498b09-6b79-444b-b0d3-be694b78b356"
      },
      "execution_count": null,
      "outputs": [
        {
          "output_type": "execute_result",
          "data": {
            "text/plain": [
              "array([0., 0., 0., 0., 0., 0., 0., 0., 0., 0.])"
            ]
          },
          "metadata": {},
          "execution_count": 131
        }
      ]
    },
    {
      "cell_type": "markdown",
      "source": [
        "Créez un tableau NumPy unidimensionnel contenant 10 éléments, tous initialisés à 1."
      ],
      "metadata": {
        "id": "DWkgbz4ZD1-w"
      }
    },
    {
      "cell_type": "code",
      "source": [
        "np.ones(10)"
      ],
      "metadata": {
        "id": "TBe-xzgFb9Vw",
        "outputId": "991421d8-9fd3-446d-8576-259d5fae09a1",
        "colab": {
          "base_uri": "https://localhost:8080/"
        }
      },
      "execution_count": 149,
      "outputs": [
        {
          "output_type": "execute_result",
          "data": {
            "text/plain": [
              "array([1., 1., 1., 1., 1., 1., 1., 1., 1., 1.])"
            ]
          },
          "metadata": {},
          "execution_count": 149
        }
      ]
    },
    {
      "cell_type": "code",
      "source": [],
      "metadata": {
        "colab": {
          "base_uri": "https://localhost:8080/"
        },
        "id": "LCYDGMS7VaY6",
        "outputId": "371c9462-b01f-4c62-ae93-9f3d666ddb71"
      },
      "execution_count": null,
      "outputs": [
        {
          "output_type": "execute_result",
          "data": {
            "text/plain": [
              "array([1., 1., 1., 1., 1., 1., 1., 1., 1., 1.])"
            ]
          },
          "metadata": {},
          "execution_count": 132
        }
      ]
    },
    {
      "cell_type": "markdown",
      "source": [
        "Créez un tableau NumPy unidimensionnel contenant 10 éléments, tous initialisés à 1, puis multipliez chaque élément par 5."
      ],
      "metadata": {
        "id": "D9UltoQYEM6j"
      }
    },
    {
      "cell_type": "code",
      "source": [
        "np.ones(10)*5"
      ],
      "metadata": {
        "id": "RCTdHMUCcBNu",
        "outputId": "0a84a71d-9262-4b59-80c0-7dac8770bc48",
        "colab": {
          "base_uri": "https://localhost:8080/"
        }
      },
      "execution_count": 150,
      "outputs": [
        {
          "output_type": "execute_result",
          "data": {
            "text/plain": [
              "array([5., 5., 5., 5., 5., 5., 5., 5., 5., 5.])"
            ]
          },
          "metadata": {},
          "execution_count": 150
        }
      ]
    },
    {
      "cell_type": "code",
      "source": [],
      "metadata": {
        "colab": {
          "base_uri": "https://localhost:8080/"
        },
        "id": "T1dQNiRaVcsT",
        "outputId": "9dbfc079-820e-43df-e322-a7dd27b8d69a"
      },
      "execution_count": null,
      "outputs": [
        {
          "output_type": "execute_result",
          "data": {
            "text/plain": [
              "array([5., 5., 5., 5., 5., 5., 5., 5., 5., 5.])"
            ]
          },
          "metadata": {},
          "execution_count": 133
        }
      ]
    },
    {
      "cell_type": "markdown",
      "source": [
        "Créez un tableau NumPy unidimensionnel contenant tous les nombres entiers de 10 à 50 (inclus)."
      ],
      "metadata": {
        "id": "d12yOSYHEVzr"
      }
    },
    {
      "cell_type": "code",
      "source": [
        "np.arange(10,51)"
      ],
      "metadata": {
        "id": "YjbHElB8cdCZ",
        "outputId": "a280194c-effe-4b9f-9ad2-1fdf2bb27cf4",
        "colab": {
          "base_uri": "https://localhost:8080/"
        }
      },
      "execution_count": 151,
      "outputs": [
        {
          "output_type": "execute_result",
          "data": {
            "text/plain": [
              "array([10, 11, 12, 13, 14, 15, 16, 17, 18, 19, 20, 21, 22, 23, 24, 25, 26,\n",
              "       27, 28, 29, 30, 31, 32, 33, 34, 35, 36, 37, 38, 39, 40, 41, 42, 43,\n",
              "       44, 45, 46, 47, 48, 49, 50])"
            ]
          },
          "metadata": {},
          "execution_count": 151
        }
      ]
    },
    {
      "cell_type": "code",
      "source": [],
      "metadata": {
        "colab": {
          "base_uri": "https://localhost:8080/"
        },
        "id": "TlaWxGHNUB6R",
        "outputId": "24f8a3f3-1f56-49c3-8943-48bf7abcd1f3"
      },
      "execution_count": null,
      "outputs": [
        {
          "output_type": "execute_result",
          "data": {
            "text/plain": [
              "array([10, 11, 12, 13, 14, 15, 16, 17, 18, 19, 20, 21, 22, 23, 24, 25, 26,\n",
              "       27, 28, 29, 30, 31, 32, 33, 34, 35, 36, 37, 38, 39, 40, 41, 42, 43,\n",
              "       44, 45, 46, 47, 48, 49, 50])"
            ]
          },
          "metadata": {},
          "execution_count": 123
        }
      ]
    },
    {
      "cell_type": "markdown",
      "source": [
        "Créez un tableau NumPy unidimensionnel contenant tous les nombres entiers pairs de 10 à 50 (inclus)."
      ],
      "metadata": {
        "id": "TovQZFaHExy6"
      }
    },
    {
      "cell_type": "code",
      "source": [
        "np.arange(10,51,2)"
      ],
      "metadata": {
        "id": "udCBIfRlcuC-",
        "outputId": "834ba7d2-c225-460c-adf5-189ed8f4896b",
        "colab": {
          "base_uri": "https://localhost:8080/"
        }
      },
      "execution_count": 152,
      "outputs": [
        {
          "output_type": "execute_result",
          "data": {
            "text/plain": [
              "array([10, 12, 14, 16, 18, 20, 22, 24, 26, 28, 30, 32, 34, 36, 38, 40, 42,\n",
              "       44, 46, 48, 50])"
            ]
          },
          "metadata": {},
          "execution_count": 152
        }
      ]
    },
    {
      "cell_type": "code",
      "source": [],
      "metadata": {
        "colab": {
          "base_uri": "https://localhost:8080/"
        },
        "id": "6zYixqlrUvyF",
        "outputId": "7dacbc66-5800-4953-b5b3-7157d25ef8c4"
      },
      "execution_count": null,
      "outputs": [
        {
          "output_type": "execute_result",
          "data": {
            "text/plain": [
              "array([10, 12, 14, 16, 18, 20, 22, 24, 26, 28, 30, 32, 34, 36, 38, 40, 42,\n",
              "       44, 46, 48, 50])"
            ]
          },
          "metadata": {},
          "execution_count": 124
        }
      ]
    },
    {
      "cell_type": "markdown",
      "source": [
        "Créez un tableau NumPy bidimensionnel de forme 3x3 contenant les nombres de 0 à 8, disposés en lignes successives."
      ],
      "metadata": {
        "id": "Q64FbVNfFJd2"
      }
    },
    {
      "cell_type": "code",
      "source": [
        "np.arange(9).reshape(3,3)"
      ],
      "metadata": {
        "id": "pj7fj7ekc8jL",
        "outputId": "4732047d-0f60-42a4-e423-6946f663bb3c",
        "colab": {
          "base_uri": "https://localhost:8080/"
        }
      },
      "execution_count": 194,
      "outputs": [
        {
          "output_type": "execute_result",
          "data": {
            "text/plain": [
              "array([[0, 1, 2],\n",
              "       [3, 4, 5],\n",
              "       [6, 7, 8]])"
            ]
          },
          "metadata": {},
          "execution_count": 194
        }
      ]
    },
    {
      "cell_type": "code",
      "source": [],
      "metadata": {
        "colab": {
          "base_uri": "https://localhost:8080/"
        },
        "id": "JVzCWtxCUziM",
        "outputId": "28e715a8-d410-4f41-c5bd-d643a227b31e"
      },
      "execution_count": null,
      "outputs": [
        {
          "output_type": "execute_result",
          "data": {
            "text/plain": [
              "array([[0, 1, 2],\n",
              "       [3, 4, 5],\n",
              "       [6, 7, 8]])"
            ]
          },
          "metadata": {},
          "execution_count": 125
        }
      ]
    },
    {
      "cell_type": "markdown",
      "source": [
        "Créez une matrice identité 3x3."
      ],
      "metadata": {
        "id": "hfNDCOcTFRlO"
      }
    },
    {
      "cell_type": "code",
      "source": [
        "np.eye(3)"
      ],
      "metadata": {
        "id": "GpUDOOJrdBNB",
        "outputId": "ba79cb80-4dfc-45cc-bd56-d5713dfca324",
        "colab": {
          "base_uri": "https://localhost:8080/"
        }
      },
      "execution_count": 157,
      "outputs": [
        {
          "output_type": "execute_result",
          "data": {
            "text/plain": [
              "array([[1., 0., 0.],\n",
              "       [0., 1., 0.],\n",
              "       [0., 0., 1.]])"
            ]
          },
          "metadata": {},
          "execution_count": 157
        }
      ]
    },
    {
      "cell_type": "code",
      "source": [],
      "metadata": {
        "colab": {
          "base_uri": "https://localhost:8080/"
        },
        "id": "9BgeL1-dU48y",
        "outputId": "d111d308-51c8-4354-8fae-8426f20ff654"
      },
      "execution_count": 154,
      "outputs": [
        {
          "output_type": "execute_result",
          "data": {
            "text/plain": [
              "array([[1., 0., 0.],\n",
              "       [0., 1., 0.],\n",
              "       [0., 0., 1.]])"
            ]
          },
          "metadata": {},
          "execution_count": 154
        }
      ]
    },
    {
      "cell_type": "markdown",
      "source": [
        "Générez un nombre aléatoire compris entre 0 (inclus) et 1 (exclu)."
      ],
      "metadata": {
        "id": "d0x8OQKAFib2"
      }
    },
    {
      "cell_type": "code",
      "source": [
        "np.random.rand(1)"
      ],
      "metadata": {
        "id": "2YIv2zqqdD_v",
        "outputId": "83098aeb-66d6-40d9-a452-9bf6969ccf68",
        "colab": {
          "base_uri": "https://localhost:8080/"
        }
      },
      "execution_count": 162,
      "outputs": [
        {
          "output_type": "execute_result",
          "data": {
            "text/plain": [
              "array([0.72965305])"
            ]
          },
          "metadata": {},
          "execution_count": 162
        }
      ]
    },
    {
      "cell_type": "code",
      "source": [],
      "metadata": {
        "colab": {
          "base_uri": "https://localhost:8080/"
        },
        "id": "XQagzbuzU9DM",
        "outputId": "e279dd68-3c83-41a5-9b40-a0c1f646b125"
      },
      "execution_count": null,
      "outputs": [
        {
          "output_type": "execute_result",
          "data": {
            "text/plain": [
              "array([0.0756819])"
            ]
          },
          "metadata": {},
          "execution_count": 127
        }
      ]
    },
    {
      "cell_type": "markdown",
      "source": [
        "Générez un tableau NumPy unidimensionnel contenant 25 nombres aléatoires tirés d'une distribution normale standard."
      ],
      "metadata": {
        "id": "lakoD_9EFyNS"
      }
    },
    {
      "cell_type": "code",
      "source": [
        "np.random.randn(25)"
      ],
      "metadata": {
        "id": "4-hbomB7diVU",
        "outputId": "25284dd7-8949-415d-93d1-76d709d5bdaf",
        "colab": {
          "base_uri": "https://localhost:8080/"
        }
      },
      "execution_count": 160,
      "outputs": [
        {
          "output_type": "execute_result",
          "data": {
            "text/plain": [
              "array([ 0.56007451,  0.14005432,  1.39562331, -0.32091398,  1.27997523,\n",
              "       -0.17043005,  0.3080472 , -1.06180767, -1.33171338,  2.08443716,\n",
              "        1.75325834, -0.0604637 ,  0.7076698 , -1.0843546 ,  0.94127579,\n",
              "        1.30117182, -0.15231533,  0.14377024,  0.39244774,  0.32178838,\n",
              "        1.02904824, -0.27207863,  2.06079718, -1.04686723, -2.27373854])"
            ]
          },
          "metadata": {},
          "execution_count": 160
        }
      ]
    },
    {
      "cell_type": "code",
      "source": [],
      "metadata": {
        "colab": {
          "base_uri": "https://localhost:8080/"
        },
        "id": "NOyhH7OyU_sV",
        "outputId": "18b6d7fe-240b-4634-e502-eef651885d61"
      },
      "execution_count": null,
      "outputs": [
        {
          "output_type": "execute_result",
          "data": {
            "text/plain": [
              "array([ 0.91035914,  2.39810814,  1.43125938,  0.42334746,  0.06208316,\n",
              "        0.2658639 , -0.09519518,  0.63311363, -0.21413838,  1.43666095,\n",
              "       -0.28511481,  0.26328773,  1.51080327,  1.69877827, -0.39682137,\n",
              "       -2.89835198,  0.76999556,  0.546213  ,  1.16893157,  0.98804578,\n",
              "        0.98761444,  0.44744034,  1.08801834, -0.60188586, -0.27522432])"
            ]
          },
          "metadata": {},
          "execution_count": 128
        }
      ]
    },
    {
      "cell_type": "markdown",
      "source": [
        "Créez un tableau NumPy unidimensionnel contenant tous les nombres entiers de 1 à 100 (inclus)."
      ],
      "metadata": {
        "id": "0Y0IkBBvF9kA"
      }
    },
    {
      "cell_type": "code",
      "source": [
        "np.arange(1,101)"
      ],
      "metadata": {
        "id": "w9QKxfcreJhk",
        "outputId": "d04fde5a-ba8c-4e45-e8a9-e8110ef2cbc5",
        "colab": {
          "base_uri": "https://localhost:8080/"
        }
      },
      "execution_count": 163,
      "outputs": [
        {
          "output_type": "execute_result",
          "data": {
            "text/plain": [
              "array([  1,   2,   3,   4,   5,   6,   7,   8,   9,  10,  11,  12,  13,\n",
              "        14,  15,  16,  17,  18,  19,  20,  21,  22,  23,  24,  25,  26,\n",
              "        27,  28,  29,  30,  31,  32,  33,  34,  35,  36,  37,  38,  39,\n",
              "        40,  41,  42,  43,  44,  45,  46,  47,  48,  49,  50,  51,  52,\n",
              "        53,  54,  55,  56,  57,  58,  59,  60,  61,  62,  63,  64,  65,\n",
              "        66,  67,  68,  69,  70,  71,  72,  73,  74,  75,  76,  77,  78,\n",
              "        79,  80,  81,  82,  83,  84,  85,  86,  87,  88,  89,  90,  91,\n",
              "        92,  93,  94,  95,  96,  97,  98,  99, 100])"
            ]
          },
          "metadata": {},
          "execution_count": 163
        }
      ]
    },
    {
      "cell_type": "code",
      "source": [],
      "metadata": {
        "colab": {
          "base_uri": "https://localhost:8080/"
        },
        "id": "okliAecUVCzs",
        "outputId": "9ec05728-0caf-4b32-b645-4ca88b94f334"
      },
      "execution_count": null,
      "outputs": [
        {
          "output_type": "execute_result",
          "data": {
            "text/plain": [
              "array([  1,   2,   3,   4,   5,   6,   7,   8,   9,  10,  11,  12,  13,\n",
              "        14,  15,  16,  17,  18,  19,  20,  21,  22,  23,  24,  25,  26,\n",
              "        27,  28,  29,  30,  31,  32,  33,  34,  35,  36,  37,  38,  39,\n",
              "        40,  41,  42,  43,  44,  45,  46,  47,  48,  49,  50,  51,  52,\n",
              "        53,  54,  55,  56,  57,  58,  59,  60,  61,  62,  63,  64,  65,\n",
              "        66,  67,  68,  69,  70,  71,  72,  73,  74,  75,  76,  77,  78,\n",
              "        79,  80,  81,  82,  83,  84,  85,  86,  87,  88,  89,  90,  91,\n",
              "        92,  93,  94,  95,  96,  97,  98,  99, 100])"
            ]
          },
          "metadata": {},
          "execution_count": 129
        }
      ]
    },
    {
      "cell_type": "markdown",
      "source": [
        "Créez un tableau NumPy unidimensionnel contenant les nombres de 1 à 100 (inclus), divisez chaque nombre par 100, puis remodelez ce tableau en une matrice 10x10."
      ],
      "metadata": {
        "id": "pCTGC6V4GNqZ"
      }
    },
    {
      "cell_type": "code",
      "source": [
        "temp = np.arange(1,101) / 100\n",
        "temp.reshape(10,10)"
      ],
      "metadata": {
        "id": "ym-AzWM8ePsB",
        "outputId": "1e923130-6e3d-4ee7-e92f-6d51ae2385f4",
        "colab": {
          "base_uri": "https://localhost:8080/"
        }
      },
      "execution_count": 166,
      "outputs": [
        {
          "output_type": "execute_result",
          "data": {
            "text/plain": [
              "array([[0.01, 0.02, 0.03, 0.04, 0.05, 0.06, 0.07, 0.08, 0.09, 0.1 ],\n",
              "       [0.11, 0.12, 0.13, 0.14, 0.15, 0.16, 0.17, 0.18, 0.19, 0.2 ],\n",
              "       [0.21, 0.22, 0.23, 0.24, 0.25, 0.26, 0.27, 0.28, 0.29, 0.3 ],\n",
              "       [0.31, 0.32, 0.33, 0.34, 0.35, 0.36, 0.37, 0.38, 0.39, 0.4 ],\n",
              "       [0.41, 0.42, 0.43, 0.44, 0.45, 0.46, 0.47, 0.48, 0.49, 0.5 ],\n",
              "       [0.51, 0.52, 0.53, 0.54, 0.55, 0.56, 0.57, 0.58, 0.59, 0.6 ],\n",
              "       [0.61, 0.62, 0.63, 0.64, 0.65, 0.66, 0.67, 0.68, 0.69, 0.7 ],\n",
              "       [0.71, 0.72, 0.73, 0.74, 0.75, 0.76, 0.77, 0.78, 0.79, 0.8 ],\n",
              "       [0.81, 0.82, 0.83, 0.84, 0.85, 0.86, 0.87, 0.88, 0.89, 0.9 ],\n",
              "       [0.91, 0.92, 0.93, 0.94, 0.95, 0.96, 0.97, 0.98, 0.99, 1.  ]])"
            ]
          },
          "metadata": {},
          "execution_count": 166
        }
      ]
    },
    {
      "cell_type": "code",
      "source": [],
      "metadata": {
        "colab": {
          "base_uri": "https://localhost:8080/"
        },
        "id": "shqOcaGHVJCG",
        "outputId": "2ca45d96-42f3-41b3-e289-30cc7b8dbf3c"
      },
      "execution_count": null,
      "outputs": [
        {
          "output_type": "execute_result",
          "data": {
            "text/plain": [
              "array([[0.01, 0.02, 0.03, 0.04, 0.05, 0.06, 0.07, 0.08, 0.09, 0.1 ],\n",
              "       [0.11, 0.12, 0.13, 0.14, 0.15, 0.16, 0.17, 0.18, 0.19, 0.2 ],\n",
              "       [0.21, 0.22, 0.23, 0.24, 0.25, 0.26, 0.27, 0.28, 0.29, 0.3 ],\n",
              "       [0.31, 0.32, 0.33, 0.34, 0.35, 0.36, 0.37, 0.38, 0.39, 0.4 ],\n",
              "       [0.41, 0.42, 0.43, 0.44, 0.45, 0.46, 0.47, 0.48, 0.49, 0.5 ],\n",
              "       [0.51, 0.52, 0.53, 0.54, 0.55, 0.56, 0.57, 0.58, 0.59, 0.6 ],\n",
              "       [0.61, 0.62, 0.63, 0.64, 0.65, 0.66, 0.67, 0.68, 0.69, 0.7 ],\n",
              "       [0.71, 0.72, 0.73, 0.74, 0.75, 0.76, 0.77, 0.78, 0.79, 0.8 ],\n",
              "       [0.81, 0.82, 0.83, 0.84, 0.85, 0.86, 0.87, 0.88, 0.89, 0.9 ],\n",
              "       [0.91, 0.92, 0.93, 0.94, 0.95, 0.96, 0.97, 0.98, 0.99, 1.  ]])"
            ]
          },
          "metadata": {},
          "execution_count": 134
        }
      ]
    },
    {
      "cell_type": "markdown",
      "source": [
        "Créez un tableau NumPy unidimensionnel contenant 20 nombres uniformément espacés entre 0 et 1 (inclus)."
      ],
      "metadata": {
        "id": "ZrHB6LkfGeFN"
      }
    },
    {
      "cell_type": "code",
      "source": [
        "np.linspace(0,1,20)"
      ],
      "metadata": {
        "id": "4Ob4REAVejRS",
        "outputId": "5341cc98-00b9-4636-f7c7-c0c16e8e4d90",
        "colab": {
          "base_uri": "https://localhost:8080/"
        }
      },
      "execution_count": 167,
      "outputs": [
        {
          "output_type": "execute_result",
          "data": {
            "text/plain": [
              "array([0.        , 0.05263158, 0.10526316, 0.15789474, 0.21052632,\n",
              "       0.26315789, 0.31578947, 0.36842105, 0.42105263, 0.47368421,\n",
              "       0.52631579, 0.57894737, 0.63157895, 0.68421053, 0.73684211,\n",
              "       0.78947368, 0.84210526, 0.89473684, 0.94736842, 1.        ])"
            ]
          },
          "metadata": {},
          "execution_count": 167
        }
      ]
    },
    {
      "cell_type": "code",
      "source": [],
      "metadata": {
        "colab": {
          "base_uri": "https://localhost:8080/"
        },
        "id": "8hcp-Z4nWB-Y",
        "outputId": "f09bada3-84f2-43dd-d431-50fb2c0a36dc"
      },
      "execution_count": null,
      "outputs": [
        {
          "output_type": "execute_result",
          "data": {
            "text/plain": [
              "array([0.        , 0.05263158, 0.10526316, 0.15789474, 0.21052632,\n",
              "       0.26315789, 0.31578947, 0.36842105, 0.42105263, 0.47368421,\n",
              "       0.52631579, 0.57894737, 0.63157895, 0.68421053, 0.73684211,\n",
              "       0.78947368, 0.84210526, 0.89473684, 0.94736842, 1.        ])"
            ]
          },
          "metadata": {},
          "execution_count": 135
        }
      ]
    },
    {
      "cell_type": "markdown",
      "source": [
        "Créez une matrice 5x5 nommée mat contenant les nombres de 1 à 25 disposés en lignes successives, puis affichez cette matrice."
      ],
      "metadata": {
        "id": "rIP8WFCnGw1H"
      }
    },
    {
      "cell_type": "code",
      "source": [
        "mat = np.arange(1,26).reshape(5,5)\n",
        "mat"
      ],
      "metadata": {
        "id": "btn7URrte4Lj",
        "outputId": "fed73b43-532a-4333-9b50-574cb5941c2a",
        "colab": {
          "base_uri": "https://localhost:8080/"
        }
      },
      "execution_count": 169,
      "outputs": [
        {
          "output_type": "execute_result",
          "data": {
            "text/plain": [
              "array([[ 1,  2,  3,  4,  5],\n",
              "       [ 6,  7,  8,  9, 10],\n",
              "       [11, 12, 13, 14, 15],\n",
              "       [16, 17, 18, 19, 20],\n",
              "       [21, 22, 23, 24, 25]])"
            ]
          },
          "metadata": {},
          "execution_count": 169
        }
      ]
    },
    {
      "cell_type": "code",
      "source": [],
      "metadata": {
        "colab": {
          "base_uri": "https://localhost:8080/"
        },
        "id": "60nB4ntOWMOC",
        "outputId": "b02bd5e6-822f-46a4-c6d5-e308eaf6a37d"
      },
      "execution_count": null,
      "outputs": [
        {
          "output_type": "execute_result",
          "data": {
            "text/plain": [
              "array([[ 1,  2,  3,  4,  5],\n",
              "       [ 6,  7,  8,  9, 10],\n",
              "       [11, 12, 13, 14, 15],\n",
              "       [16, 17, 18, 19, 20],\n",
              "       [21, 22, 23, 24, 25]])"
            ]
          },
          "metadata": {},
          "execution_count": 136
        }
      ]
    },
    {
      "cell_type": "markdown",
      "source": [
        "Sélectionnez toutes les lignes de la matrice mat à partir de la 3ème ligne (index 2) jusqu'à la fin."
      ],
      "metadata": {
        "id": "x6RsyQ88HDBv"
      }
    },
    {
      "cell_type": "code",
      "source": [
        "mat[2:]"
      ],
      "metadata": {
        "id": "MWXJmfHtfAUV",
        "outputId": "12a4c3d3-e446-4929-829c-9ce448e0e2ba",
        "colab": {
          "base_uri": "https://localhost:8080/"
        }
      },
      "execution_count": 170,
      "outputs": [
        {
          "output_type": "execute_result",
          "data": {
            "text/plain": [
              "array([[11, 12, 13, 14, 15],\n",
              "       [16, 17, 18, 19, 20],\n",
              "       [21, 22, 23, 24, 25]])"
            ]
          },
          "metadata": {},
          "execution_count": 170
        }
      ]
    },
    {
      "cell_type": "code",
      "source": [],
      "metadata": {
        "colab": {
          "base_uri": "https://localhost:8080/"
        },
        "id": "ZKjlBE8kWYxk",
        "outputId": "4b880c50-02fb-446c-c4a2-712e1ae4995a"
      },
      "execution_count": null,
      "outputs": [
        {
          "output_type": "execute_result",
          "data": {
            "text/plain": [
              "array([[11, 12, 13, 14, 15],\n",
              "       [16, 17, 18, 19, 20],\n",
              "       [21, 22, 23, 24, 25]])"
            ]
          },
          "metadata": {},
          "execution_count": 137
        }
      ]
    },
    {
      "cell_type": "markdown",
      "source": [
        "Sélectionnez la partie de la matrice mat qui commence à la 3ème ligne (index 2) et à la 2ème colonne (index 1), et qui inclut toutes les lignes et colonnes suivantes:\n",
        "\n",
        "```\n",
        "array([[12, 13, 14, 15],\n",
        "       [17, 18, 19, 20],\n",
        "       [22, 23, 24, 25]])\n",
        "```"
      ],
      "metadata": {
        "id": "BEAThOqdHLN-"
      }
    },
    {
      "cell_type": "code",
      "source": [
        "mat[2:,1:]"
      ],
      "metadata": {
        "id": "rLgdLXs7fE96",
        "outputId": "3f027dc9-e33c-48d3-b678-a3a5591103cb",
        "colab": {
          "base_uri": "https://localhost:8080/"
        }
      },
      "execution_count": 171,
      "outputs": [
        {
          "output_type": "execute_result",
          "data": {
            "text/plain": [
              "array([[12, 13, 14, 15],\n",
              "       [17, 18, 19, 20],\n",
              "       [22, 23, 24, 25]])"
            ]
          },
          "metadata": {},
          "execution_count": 171
        }
      ]
    },
    {
      "cell_type": "code",
      "source": [],
      "metadata": {
        "colab": {
          "base_uri": "https://localhost:8080/"
        },
        "id": "LO4nZ0jjWhs_",
        "outputId": "2ad7572c-8c56-4bed-bc01-f7c08b69a408"
      },
      "execution_count": null,
      "outputs": [
        {
          "output_type": "execute_result",
          "data": {
            "text/plain": [
              "array([[12, 13, 14, 15],\n",
              "       [17, 18, 19, 20],\n",
              "       [22, 23, 24, 25]])"
            ]
          },
          "metadata": {},
          "execution_count": 138
        }
      ]
    },
    {
      "cell_type": "markdown",
      "source": [
        "Sélectionnez l'élément de la matrice mat situé à la 4ème ligne (index 3) et à la 5ème colonne (index 4)."
      ],
      "metadata": {
        "id": "wTLbNS7gHq8B"
      }
    },
    {
      "cell_type": "code",
      "source": [
        "mat[3,4]"
      ],
      "metadata": {
        "id": "j0E9heIifPRF",
        "outputId": "ca9970c4-b35c-4980-f599-7a3b0794bb36",
        "colab": {
          "base_uri": "https://localhost:8080/"
        }
      },
      "execution_count": 172,
      "outputs": [
        {
          "output_type": "execute_result",
          "data": {
            "text/plain": [
              "20"
            ]
          },
          "metadata": {},
          "execution_count": 172
        }
      ]
    },
    {
      "cell_type": "code",
      "source": [],
      "metadata": {
        "colab": {
          "base_uri": "https://localhost:8080/"
        },
        "id": "bv7OgPCfWk6r",
        "outputId": "242c7d32-19c2-4767-c27b-4d357d65a79e"
      },
      "execution_count": null,
      "outputs": [
        {
          "output_type": "execute_result",
          "data": {
            "text/plain": [
              "20"
            ]
          },
          "metadata": {},
          "execution_count": 139
        }
      ]
    },
    {
      "cell_type": "markdown",
      "source": [
        "Affichez le contenu de la matrice mat."
      ],
      "metadata": {
        "id": "uoZoHKoNH29s"
      }
    },
    {
      "cell_type": "code",
      "source": [
        "mat"
      ],
      "metadata": {
        "id": "fvqGtXMjfSCw",
        "outputId": "5ce3f8c1-dd71-4d51-e308-4e1e95bca5a4",
        "colab": {
          "base_uri": "https://localhost:8080/"
        }
      },
      "execution_count": 173,
      "outputs": [
        {
          "output_type": "execute_result",
          "data": {
            "text/plain": [
              "array([[ 1,  2,  3,  4,  5],\n",
              "       [ 6,  7,  8,  9, 10],\n",
              "       [11, 12, 13, 14, 15],\n",
              "       [16, 17, 18, 19, 20],\n",
              "       [21, 22, 23, 24, 25]])"
            ]
          },
          "metadata": {},
          "execution_count": 173
        }
      ]
    },
    {
      "cell_type": "code",
      "source": [],
      "metadata": {
        "colab": {
          "base_uri": "https://localhost:8080/"
        },
        "id": "xJKXcvR1Wnjo",
        "outputId": "76120155-e1b9-4ef6-a466-b3a6c3db6404"
      },
      "execution_count": null,
      "outputs": [
        {
          "output_type": "execute_result",
          "data": {
            "text/plain": [
              "array([[ 1,  2,  3,  4,  5],\n",
              "       [ 6,  7,  8,  9, 10],\n",
              "       [11, 12, 13, 14, 15],\n",
              "       [16, 17, 18, 19, 20],\n",
              "       [21, 22, 23, 24, 25]])"
            ]
          },
          "metadata": {},
          "execution_count": 140
        }
      ]
    },
    {
      "cell_type": "markdown",
      "source": [
        "Sélectionnez les 3 premières lignes de la matrice mat."
      ],
      "metadata": {
        "id": "Xqz5xK2RIC5w"
      }
    },
    {
      "cell_type": "code",
      "source": [
        "mat[:3]"
      ],
      "metadata": {
        "id": "kvR6wr82fTsf",
        "outputId": "28b282e7-e37d-4c96-f06b-f138f6d885cf",
        "colab": {
          "base_uri": "https://localhost:8080/"
        }
      },
      "execution_count": 174,
      "outputs": [
        {
          "output_type": "execute_result",
          "data": {
            "text/plain": [
              "array([[ 1,  2,  3,  4,  5],\n",
              "       [ 6,  7,  8,  9, 10],\n",
              "       [11, 12, 13, 14, 15]])"
            ]
          },
          "metadata": {},
          "execution_count": 174
        }
      ]
    },
    {
      "cell_type": "code",
      "source": [],
      "metadata": {
        "colab": {
          "base_uri": "https://localhost:8080/"
        },
        "id": "fo_cgk6yWpQ7",
        "outputId": "b2375949-471d-4668-e67b-03344644f880"
      },
      "execution_count": null,
      "outputs": [
        {
          "output_type": "execute_result",
          "data": {
            "text/plain": [
              "array([[ 1,  2,  3,  4,  5],\n",
              "       [ 6,  7,  8,  9, 10],\n",
              "       [11, 12, 13, 14, 15]])"
            ]
          },
          "metadata": {},
          "execution_count": 141
        }
      ]
    },
    {
      "cell_type": "markdown",
      "source": [
        "Sélectionnez les éléments situés dans les 3 premières lignes de la matrice mat et dans la 2ème colonne (index 1)."
      ],
      "metadata": {
        "id": "ZouaApReIOeQ"
      }
    },
    {
      "cell_type": "code",
      "source": [
        "mat[:3,1]"
      ],
      "metadata": {
        "id": "IAYG0pdmfXtM",
        "outputId": "b135c19f-5d19-4590-ad29-67e4194fb50d",
        "colab": {
          "base_uri": "https://localhost:8080/"
        }
      },
      "execution_count": 175,
      "outputs": [
        {
          "output_type": "execute_result",
          "data": {
            "text/plain": [
              "array([ 2,  7, 12])"
            ]
          },
          "metadata": {},
          "execution_count": 175
        }
      ]
    },
    {
      "cell_type": "code",
      "source": [],
      "metadata": {
        "colab": {
          "base_uri": "https://localhost:8080/"
        },
        "id": "g1A7Z635WsAI",
        "outputId": "74db862a-5271-4179-adb0-2e0cfa99b93d"
      },
      "execution_count": null,
      "outputs": [
        {
          "output_type": "execute_result",
          "data": {
            "text/plain": [
              "array([ 2,  7, 12])"
            ]
          },
          "metadata": {},
          "execution_count": 142
        }
      ]
    },
    {
      "cell_type": "markdown",
      "source": [
        "Sélectionnez les éléments situés dans les 3 premières lignes de la matrice mat et dans la 2ème colonne (index 1), mais conservez la structure en 2 dimensions."
      ],
      "metadata": {
        "id": "aJuGcVuCIZd2"
      }
    },
    {
      "cell_type": "code",
      "source": [
        "mat[:3,[1]]"
      ],
      "metadata": {
        "id": "6lDTajg3fbwU",
        "outputId": "9c59c1c9-6d6f-4911-bcee-c4d0e070e12d",
        "colab": {
          "base_uri": "https://localhost:8080/"
        }
      },
      "execution_count": 184,
      "outputs": [
        {
          "output_type": "execute_result",
          "data": {
            "text/plain": [
              "array([[ 2],\n",
              "       [ 7],\n",
              "       [12]])"
            ]
          },
          "metadata": {},
          "execution_count": 184
        }
      ]
    },
    {
      "cell_type": "code",
      "source": [],
      "metadata": {
        "colab": {
          "base_uri": "https://localhost:8080/"
        },
        "id": "5lAlzwcpW1tt",
        "outputId": "21b544b6-ca4e-443d-f182-97be4db61bc3"
      },
      "execution_count": null,
      "outputs": [
        {
          "output_type": "execute_result",
          "data": {
            "text/plain": [
              "array([[ 2],\n",
              "       [ 7],\n",
              "       [12]])"
            ]
          },
          "metadata": {},
          "execution_count": 144
        }
      ]
    },
    {
      "cell_type": "markdown",
      "source": [
        "Sélectionnez tous les éléments de la dernière ligne de la matrice mat."
      ],
      "metadata": {
        "id": "qrqxiPfQIoHy"
      }
    },
    {
      "cell_type": "code",
      "source": [
        "mat[-1:]"
      ],
      "metadata": {
        "id": "e58ENO7xfqNV",
        "outputId": "67fbf5a8-9a78-49f1-868c-84c49c8e247d",
        "colab": {
          "base_uri": "https://localhost:8080/"
        }
      },
      "execution_count": 181,
      "outputs": [
        {
          "output_type": "execute_result",
          "data": {
            "text/plain": [
              "array([[21, 22, 23, 24, 25]])"
            ]
          },
          "metadata": {},
          "execution_count": 181
        }
      ]
    },
    {
      "cell_type": "code",
      "source": [],
      "metadata": {
        "colab": {
          "base_uri": "https://localhost:8080/"
        },
        "id": "Dk7in2bhXFqP",
        "outputId": "c1d55f8c-e952-4fa2-c297-6b4301081e59"
      },
      "execution_count": null,
      "outputs": [
        {
          "output_type": "execute_result",
          "data": {
            "text/plain": [
              "array([21, 22, 23, 24, 25])"
            ]
          },
          "metadata": {},
          "execution_count": 145
        }
      ]
    },
    {
      "cell_type": "markdown",
      "source": [
        "Sélectionnez les deux dernières lignes de la matrice mat."
      ],
      "metadata": {
        "id": "pJW9j3sJJFRh"
      }
    },
    {
      "cell_type": "code",
      "source": [
        "mat[-2:]"
      ],
      "metadata": {
        "id": "MwqLmUBWgCGL",
        "outputId": "21625f60-9cd3-41a8-b5d5-056bc81d3707",
        "colab": {
          "base_uri": "https://localhost:8080/"
        }
      },
      "execution_count": 182,
      "outputs": [
        {
          "output_type": "execute_result",
          "data": {
            "text/plain": [
              "array([[16, 17, 18, 19, 20],\n",
              "       [21, 22, 23, 24, 25]])"
            ]
          },
          "metadata": {},
          "execution_count": 182
        }
      ]
    },
    {
      "cell_type": "code",
      "source": [],
      "metadata": {
        "colab": {
          "base_uri": "https://localhost:8080/"
        },
        "id": "YbYi_a8hXZGN",
        "outputId": "f713e925-eb1b-4380-be17-703297652f52"
      },
      "execution_count": null,
      "outputs": [
        {
          "output_type": "execute_result",
          "data": {
            "text/plain": [
              "array([[16, 17, 18, 19, 20],\n",
              "       [21, 22, 23, 24, 25]])"
            ]
          },
          "metadata": {},
          "execution_count": 147
        }
      ]
    },
    {
      "cell_type": "markdown",
      "source": [
        "Calculez la somme de tous les éléments de la matrice mat."
      ],
      "metadata": {
        "id": "_Vbq0iquJOiM"
      }
    },
    {
      "cell_type": "code",
      "source": [
        "mat.sum()"
      ],
      "metadata": {
        "id": "epGpDc53gTY5",
        "outputId": "be185972-1e39-4c29-9287-1b6d4ede8975",
        "colab": {
          "base_uri": "https://localhost:8080/"
        }
      },
      "execution_count": 187,
      "outputs": [
        {
          "output_type": "execute_result",
          "data": {
            "text/plain": [
              "325"
            ]
          },
          "metadata": {},
          "execution_count": 187
        }
      ]
    },
    {
      "cell_type": "code",
      "source": [],
      "metadata": {
        "colab": {
          "base_uri": "https://localhost:8080/"
        },
        "id": "AmgTC_7VXcN1",
        "outputId": "81ff0dee-0941-4d7a-bf58-f5b3bd6ebf95"
      },
      "execution_count": null,
      "outputs": [
        {
          "output_type": "execute_result",
          "data": {
            "text/plain": [
              "325"
            ]
          },
          "metadata": {},
          "execution_count": 148
        }
      ]
    },
    {
      "cell_type": "markdown",
      "source": [
        "Calculez l'écart type de tous les éléments de la matrice mat."
      ],
      "metadata": {
        "id": "vAzTjyvBJaiH"
      }
    },
    {
      "cell_type": "code",
      "source": [
        "mat.std()"
      ],
      "metadata": {
        "id": "WsN9tn4hgW61",
        "outputId": "058dee9b-7a06-4fcc-d5ce-d4f62af63229",
        "colab": {
          "base_uri": "https://localhost:8080/"
        }
      },
      "execution_count": 191,
      "outputs": [
        {
          "output_type": "execute_result",
          "data": {
            "text/plain": [
              "7.211102550927978"
            ]
          },
          "metadata": {},
          "execution_count": 191
        }
      ]
    },
    {
      "cell_type": "code",
      "source": [],
      "metadata": {
        "colab": {
          "base_uri": "https://localhost:8080/"
        },
        "id": "1jpsA8u_XevH",
        "outputId": "ebebeda8-51a2-4259-b623-3ea1d4953399"
      },
      "execution_count": null,
      "outputs": [
        {
          "output_type": "execute_result",
          "data": {
            "text/plain": [
              "7.211102550927978"
            ]
          },
          "metadata": {},
          "execution_count": 149
        }
      ]
    },
    {
      "cell_type": "markdown",
      "source": [
        "Calculez la somme de chaque colonne de la matrice mat."
      ],
      "metadata": {
        "id": "GEWWG46ZJspJ"
      }
    },
    {
      "cell_type": "code",
      "source": [
        "mat.sum(axis=0)"
      ],
      "metadata": {
        "id": "-mnSP0EtgnJ0",
        "outputId": "9b6fcad4-5604-469e-b197-6ee7987a4983",
        "colab": {
          "base_uri": "https://localhost:8080/"
        }
      },
      "execution_count": 192,
      "outputs": [
        {
          "output_type": "execute_result",
          "data": {
            "text/plain": [
              "array([55, 60, 65, 70, 75])"
            ]
          },
          "metadata": {},
          "execution_count": 192
        }
      ]
    },
    {
      "cell_type": "code",
      "source": [],
      "metadata": {
        "colab": {
          "base_uri": "https://localhost:8080/"
        },
        "id": "Jav1704rXgzP",
        "outputId": "4277b311-2636-4f7b-fed6-03c56f65a748"
      },
      "execution_count": null,
      "outputs": [
        {
          "output_type": "execute_result",
          "data": {
            "text/plain": [
              "array([55, 60, 65, 70, 75])"
            ]
          },
          "metadata": {},
          "execution_count": 150
        }
      ]
    },
    {
      "cell_type": "markdown",
      "source": [
        "Initialisez le générateur de nombres aléatoires avec la graine (seed) 101, puis générez un nombre aléatoire compris entre 0 (inclus) et 1 (exclu).\n",
        "\n",
        "Utiliser une graine permet de rendre les résultats du générateur de nombres aléatoires reproductibles. Si vous utilisez la même graine, vous obtiendrez la même séquence de nombres aléatoires à chaque exécution du code."
      ],
      "metadata": {
        "id": "3R_UWBpLJ24Y"
      }
    },
    {
      "cell_type": "code",
      "source": [
        "np.random.seed(101)\n",
        "np.random.rand(1)"
      ],
      "metadata": {
        "id": "bd1xFo5hgqmG",
        "outputId": "5c4a6395-8a8a-4f62-e103-d738b1a04de8",
        "colab": {
          "base_uri": "https://localhost:8080/"
        }
      },
      "execution_count": 193,
      "outputs": [
        {
          "output_type": "execute_result",
          "data": {
            "text/plain": [
              "array([0.51639863])"
            ]
          },
          "metadata": {},
          "execution_count": 193
        }
      ]
    },
    {
      "cell_type": "code",
      "source": [],
      "metadata": {
        "colab": {
          "base_uri": "https://localhost:8080/"
        },
        "id": "H4h6TExLXkjd",
        "outputId": "4bd2b5f8-691e-405f-8c09-e60b505cd246"
      },
      "execution_count": null,
      "outputs": [
        {
          "output_type": "execute_result",
          "data": {
            "text/plain": [
              "array([0.51639863])"
            ]
          },
          "metadata": {},
          "execution_count": 151
        }
      ]
    }
  ]
}