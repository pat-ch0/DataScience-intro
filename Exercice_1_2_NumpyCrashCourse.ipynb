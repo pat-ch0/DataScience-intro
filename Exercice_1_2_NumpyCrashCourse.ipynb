{
  "nbformat": 4,
  "nbformat_minor": 0,
  "metadata": {
    "colab": {
      "provenance": [],
      "include_colab_link": true
    },
    "kernelspec": {
      "name": "python3",
      "display_name": "Python 3"
    },
    "language_info": {
      "name": "python"
    }
  },
  "cells": [
    {
      "cell_type": "markdown",
      "metadata": {
        "id": "view-in-github",
        "colab_type": "text"
      },
      "source": [
        "<a href=\"https://colab.research.google.com/github/pat-ch0/NumPy-intro/blob/main/Exercice_1_2_NumpyCrashCourse.ipynb\" target=\"_parent\"><img src=\"https://colab.research.google.com/assets/colab-badge.svg\" alt=\"Open In Colab\"/></a>"
      ]
    },
    {
      "cell_type": "markdown",
      "source": [
        "Retrouver pour chaque sortie l'instruction correspondante."
      ],
      "metadata": {
        "id": "bv2hb_pfmX76"
      }
    },
    {
      "cell_type": "markdown",
      "source": [
        "\n",
        "\n",
        "```\n",
        "import numpy as np\n",
        "my_list = [1,2,3]\n",
        "```\n",
        "\n"
      ],
      "metadata": {
        "id": "2K2-QrpclNlg"
      }
    },
    {
      "cell_type": "code",
      "source": [
        "import numpy as np\n",
        "my_list = [1,2,3]"
      ],
      "metadata": {
        "id": "RB39PztnyhhC"
      },
      "execution_count": 1,
      "outputs": []
    },
    {
      "cell_type": "markdown",
      "source": [
        "##### array([1, 2, 3])"
      ],
      "metadata": {
        "id": "X4HkdLem4jGy"
      }
    },
    {
      "cell_type": "code",
      "source": [
        "np.array([1,2,3])"
      ],
      "metadata": {
        "colab": {
          "base_uri": "https://localhost:8080/"
        },
        "id": "gDYShH-RyeMk",
        "outputId": "3eb66553-a9a2-48e1-e230-c4a195a7460a"
      },
      "execution_count": 4,
      "outputs": [
        {
          "output_type": "execute_result",
          "data": {
            "text/plain": [
              "array([1, 2, 3])"
            ]
          },
          "metadata": {},
          "execution_count": 4
        }
      ]
    },
    {
      "cell_type": "markdown",
      "source": [
        "##### numpy.ndarray"
      ],
      "metadata": {
        "id": "Uh4n15TP4qbm"
      }
    },
    {
      "cell_type": "code",
      "source": [
        "arr = np.array([1,2,3])"
      ],
      "metadata": {
        "id": "7OMKvMtgywM0"
      },
      "execution_count": 12,
      "outputs": []
    },
    {
      "cell_type": "code",
      "source": [
        "type(arr)"
      ],
      "metadata": {
        "id": "HHlhF4ady0OG",
        "outputId": "da19b87e-e57a-4d6b-c0b8-5411c7b1665d",
        "colab": {
          "base_uri": "https://localhost:8080/"
        }
      },
      "execution_count": 13,
      "outputs": [
        {
          "output_type": "execute_result",
          "data": {
            "text/plain": [
              "numpy.ndarray"
            ]
          },
          "metadata": {},
          "execution_count": 13
        }
      ]
    },
    {
      "cell_type": "markdown",
      "source": [
        "##### array([1, 2, 3])"
      ],
      "metadata": {
        "id": "_toOXUNJ4xmE"
      }
    },
    {
      "cell_type": "code",
      "source": [
        "arr"
      ],
      "metadata": {
        "colab": {
          "base_uri": "https://localhost:8080/"
        },
        "id": "BvzOJ6u-zCeF",
        "outputId": "50cb99d2-4559-4534-9ec7-123e9a036b4f"
      },
      "execution_count": 14,
      "outputs": [
        {
          "output_type": "execute_result",
          "data": {
            "text/plain": [
              "array([1, 2, 3])"
            ]
          },
          "metadata": {},
          "execution_count": 14
        }
      ]
    },
    {
      "cell_type": "markdown",
      "source": [
        "##### array([0, 1, 2, 3, 4, 5, 6, 7, 8, 9])"
      ],
      "metadata": {
        "id": "YLdbFMyv41gF"
      }
    },
    {
      "cell_type": "code",
      "source": [
        "np.arange(10)"
      ],
      "metadata": {
        "colab": {
          "base_uri": "https://localhost:8080/"
        },
        "id": "JMYPJc9RzC-5",
        "outputId": "1df4a769-5352-4d9f-81f8-1d7cc8209151"
      },
      "execution_count": 15,
      "outputs": [
        {
          "output_type": "execute_result",
          "data": {
            "text/plain": [
              "array([0, 1, 2, 3, 4, 5, 6, 7, 8, 9])"
            ]
          },
          "metadata": {},
          "execution_count": 15
        }
      ]
    },
    {
      "cell_type": "markdown",
      "source": [
        "##### array([ 1,  2,  3,  4,  5,  6,  7,  8,  9, 10])"
      ],
      "metadata": {
        "id": "Ulx3_mCj48XX"
      }
    },
    {
      "cell_type": "code",
      "source": [
        "np.arange(1,11)"
      ],
      "metadata": {
        "colab": {
          "base_uri": "https://localhost:8080/"
        },
        "id": "LHON9ZeDzKVd",
        "outputId": "4ffe3161-275b-4dc4-e7cd-332302cc206b"
      },
      "execution_count": 17,
      "outputs": [
        {
          "output_type": "execute_result",
          "data": {
            "text/plain": [
              "array([ 1,  2,  3,  4,  5,  6,  7,  8,  9, 10])"
            ]
          },
          "metadata": {},
          "execution_count": 17
        }
      ]
    },
    {
      "cell_type": "markdown",
      "source": [
        "##### array([ 0,  2,  4,  6,  8, 10])"
      ],
      "metadata": {
        "id": "S477IuLY5DCp"
      }
    },
    {
      "cell_type": "code",
      "source": [
        "np.arange(0,11,2)"
      ],
      "metadata": {
        "colab": {
          "base_uri": "https://localhost:8080/"
        },
        "id": "MN1RYtUVzSXK",
        "outputId": "aeae64aa-c97a-4823-c18e-4d50b30c39a3"
      },
      "execution_count": 19,
      "outputs": [
        {
          "output_type": "execute_result",
          "data": {
            "text/plain": [
              "array([ 0,  2,  4,  6,  8, 10])"
            ]
          },
          "metadata": {},
          "execution_count": 19
        }
      ]
    },
    {
      "cell_type": "markdown",
      "source": [
        "##### array([0., 0., 0., 0., 0.])"
      ],
      "metadata": {
        "id": "X_B4t8QY5Gfg"
      }
    },
    {
      "cell_type": "code",
      "source": [
        "np.zeros(5)"
      ],
      "metadata": {
        "colab": {
          "base_uri": "https://localhost:8080/"
        },
        "id": "hSk_G3qlzVmY",
        "outputId": "dfe18b9c-38c2-4eca-a45b-425861bb6a52"
      },
      "execution_count": 20,
      "outputs": [
        {
          "output_type": "execute_result",
          "data": {
            "text/plain": [
              "array([0., 0., 0., 0., 0.])"
            ]
          },
          "metadata": {},
          "execution_count": 20
        }
      ]
    },
    {
      "cell_type": "markdown",
      "source": [
        "##### array([[0., 0., 0., 0., 0.], [0., 0., 0., 0., 0.], [0., 0., 0., 0., 0.]])"
      ],
      "metadata": {
        "id": "Jk7gi6jM5KWR"
      }
    },
    {
      "cell_type": "code",
      "source": [
        "np.zeros((3,5))"
      ],
      "metadata": {
        "colab": {
          "base_uri": "https://localhost:8080/"
        },
        "id": "EPU0f5-SzXj6",
        "outputId": "a40ed8c9-efb8-47c3-9d07-e1de58739d81"
      },
      "execution_count": 23,
      "outputs": [
        {
          "output_type": "execute_result",
          "data": {
            "text/plain": [
              "array([[0., 0., 0., 0., 0.],\n",
              "       [0., 0., 0., 0., 0.],\n",
              "       [0., 0., 0., 0., 0.]])"
            ]
          },
          "metadata": {},
          "execution_count": 23
        }
      ]
    },
    {
      "cell_type": "markdown",
      "source": [
        "##### array([1., 1., 1.])"
      ],
      "metadata": {
        "id": "aIWxVCIh5YOx"
      }
    },
    {
      "cell_type": "code",
      "source": [
        "np.ones(3)"
      ],
      "metadata": {
        "colab": {
          "base_uri": "https://localhost:8080/"
        },
        "id": "wRxPkuTqza-N",
        "outputId": "1b10ad47-4472-4faf-b417-5b0d552a77bd"
      },
      "execution_count": 24,
      "outputs": [
        {
          "output_type": "execute_result",
          "data": {
            "text/plain": [
              "array([1., 1., 1.])"
            ]
          },
          "metadata": {},
          "execution_count": 24
        }
      ]
    },
    {
      "cell_type": "markdown",
      "source": [
        "##### array([[1., 1., 1., 1., 1.], [1., 1., 1., 1., 1.], [1., 1., 1., 1., 1.]])"
      ],
      "metadata": {
        "id": "ZZMX2ptd5jzT"
      }
    },
    {
      "cell_type": "code",
      "source": [
        "np.ones((3,5))"
      ],
      "metadata": {
        "colab": {
          "base_uri": "https://localhost:8080/"
        },
        "id": "jigZyPSJzlJk",
        "outputId": "0a0de1d7-18e7-46c0-8614-62c48b8f3716"
      },
      "execution_count": 25,
      "outputs": [
        {
          "output_type": "execute_result",
          "data": {
            "text/plain": [
              "array([[1., 1., 1., 1., 1.],\n",
              "       [1., 1., 1., 1., 1.],\n",
              "       [1., 1., 1., 1., 1.]])"
            ]
          },
          "metadata": {},
          "execution_count": 25
        }
      ]
    },
    {
      "cell_type": "markdown",
      "source": [
        "##### array([ 0. ,  1.1,  2.2,  3.3,  4.4,  5.5,  6.6,  7.7,  8.8,  9.9, 11. ])"
      ],
      "metadata": {
        "id": "GaxGEAUL6sGv"
      }
    },
    {
      "cell_type": "code",
      "source": [
        "np.linspace(0,11,11)"
      ],
      "metadata": {
        "colab": {
          "base_uri": "https://localhost:8080/"
        },
        "id": "OjM1GYaSzodA",
        "outputId": "fc9e2bda-125c-4684-8985-1cbb5c86deb1"
      },
      "execution_count": 29,
      "outputs": [
        {
          "output_type": "execute_result",
          "data": {
            "text/plain": [
              "array([ 0. ,  1.1,  2.2,  3.3,  4.4,  5.5,  6.6,  7.7,  8.8,  9.9, 11. ])"
            ]
          },
          "metadata": {},
          "execution_count": 29
        }
      ]
    },
    {
      "cell_type": "markdown",
      "source": [
        "##### array([ 0.        ,  0.11111111,  0.22222222,  0.33333333,  0.44444444, 0.55555556,  0.66666667,  0.77777778,  0.88888889,  1.        , 1.11111111,  1.22222222,  1.33333333,  1.44444444,  1.55555556, 1.66666667,  1.77777778,  1.88888889,  2.        ,  2.11111111, 2.22222222,  2.33333333,  2.44444444,  2.55555556,  2.66666667, 2.77777778,  2.88888889,  3.        ,  3.11111111,  3.22222222, 3.33333333,  3.44444444,  3.55555556,  3.66666667,  3.77777778, 3.88888889,  4.        ,  4.11111111,  4.22222222,  4.33333333, 4.44444444,  4.55555556,  4.66666667,  4.77777778,  4.88888889, 5.        ,  5.11111111,  5.22222222,  5.33333333,  5.44444444, 5.55555556,  5.66666667,  5.77777778,  5.88888889,  6.        , 6.11111111,  6.22222222,  6.33333333,  6.44444444,  6.55555556, 6.66666667,  6.77777778,  6.88888889,  7.        ,  7.11111111, 7.22222222,  7.33333333,  7.44444444,  7.55555556,  7.66666667, 7.77777778,  7.88888889,  8.        ,  8.11111111,  8.22222222, 8.33333333,  8.44444444,  8.55555556,  8.66666667,  8.77777778, 8.88888889,  9.        ,  9.11111111,  9.22222222,  9.33333333, 9.44444444,  9.55555556,  9.66666667,  9.77777778,  9.88888889, 10.        , 10.11111111, 10.22222222, 10.33333333, 10.44444444, 10.55555556, 10.66666667, 10.77777778, 10.88888889, 11.])"
      ],
      "metadata": {
        "id": "qiApTrJ36zeX"
      }
    },
    {
      "cell_type": "code",
      "source": [
        "np.linspace(0,11,100)"
      ],
      "metadata": {
        "colab": {
          "base_uri": "https://localhost:8080/"
        },
        "id": "sgYgxmoL1xc6",
        "outputId": "52d1daf6-9155-4e5b-d1ba-e796bead447a"
      },
      "execution_count": 30,
      "outputs": [
        {
          "output_type": "execute_result",
          "data": {
            "text/plain": [
              "array([ 0.        ,  0.11111111,  0.22222222,  0.33333333,  0.44444444,\n",
              "        0.55555556,  0.66666667,  0.77777778,  0.88888889,  1.        ,\n",
              "        1.11111111,  1.22222222,  1.33333333,  1.44444444,  1.55555556,\n",
              "        1.66666667,  1.77777778,  1.88888889,  2.        ,  2.11111111,\n",
              "        2.22222222,  2.33333333,  2.44444444,  2.55555556,  2.66666667,\n",
              "        2.77777778,  2.88888889,  3.        ,  3.11111111,  3.22222222,\n",
              "        3.33333333,  3.44444444,  3.55555556,  3.66666667,  3.77777778,\n",
              "        3.88888889,  4.        ,  4.11111111,  4.22222222,  4.33333333,\n",
              "        4.44444444,  4.55555556,  4.66666667,  4.77777778,  4.88888889,\n",
              "        5.        ,  5.11111111,  5.22222222,  5.33333333,  5.44444444,\n",
              "        5.55555556,  5.66666667,  5.77777778,  5.88888889,  6.        ,\n",
              "        6.11111111,  6.22222222,  6.33333333,  6.44444444,  6.55555556,\n",
              "        6.66666667,  6.77777778,  6.88888889,  7.        ,  7.11111111,\n",
              "        7.22222222,  7.33333333,  7.44444444,  7.55555556,  7.66666667,\n",
              "        7.77777778,  7.88888889,  8.        ,  8.11111111,  8.22222222,\n",
              "        8.33333333,  8.44444444,  8.55555556,  8.66666667,  8.77777778,\n",
              "        8.88888889,  9.        ,  9.11111111,  9.22222222,  9.33333333,\n",
              "        9.44444444,  9.55555556,  9.66666667,  9.77777778,  9.88888889,\n",
              "       10.        , 10.11111111, 10.22222222, 10.33333333, 10.44444444,\n",
              "       10.55555556, 10.66666667, 10.77777778, 10.88888889, 11.        ])"
            ]
          },
          "metadata": {},
          "execution_count": 30
        }
      ]
    },
    {
      "cell_type": "code",
      "source": [
        "np.linspace(0,11,5000)"
      ],
      "metadata": {
        "id": "QBk2gBqWpcsZ",
        "outputId": "dbd2511a-7dd4-4026-dacf-c52f3e6dd5bb",
        "colab": {
          "base_uri": "https://localhost:8080/"
        }
      },
      "execution_count": 32,
      "outputs": [
        {
          "output_type": "execute_result",
          "data": {
            "text/plain": [
              "array([0.00000000e+00, 2.20044009e-03, 4.40088018e-03, ...,\n",
              "       1.09955991e+01, 1.09977996e+01, 1.10000000e+01])"
            ]
          },
          "metadata": {},
          "execution_count": 32
        }
      ]
    },
    {
      "cell_type": "code",
      "source": [],
      "metadata": {
        "colab": {
          "base_uri": "https://localhost:8080/"
        },
        "id": "dcH-Stxw2-r1",
        "outputId": "50ce80e0-ac8a-4497-db0d-c88386ad8421"
      },
      "execution_count": null,
      "outputs": [
        {
          "output_type": "execute_result",
          "data": {
            "text/plain": [
              "array([0.00000000e+00, 2.20044009e-03, 4.40088018e-03, ...,\n",
              "       1.09955991e+01, 1.09977996e+01, 1.10000000e+01])"
            ]
          },
          "metadata": {},
          "execution_count": 17
        }
      ]
    },
    {
      "cell_type": "code",
      "source": [
        "print(4)"
      ],
      "metadata": {
        "id": "HlAgjBivp5WM",
        "outputId": "f5dc1954-ebed-4e8c-ad3c-69e2b11a7604",
        "colab": {
          "base_uri": "https://localhost:8080/"
        }
      },
      "execution_count": 33,
      "outputs": [
        {
          "output_type": "stream",
          "name": "stdout",
          "text": [
            "4\n"
          ]
        }
      ]
    },
    {
      "cell_type": "code",
      "source": [],
      "metadata": {
        "colab": {
          "base_uri": "https://localhost:8080/"
        },
        "id": "vaYJ26Sd3B_A",
        "outputId": "3da2fcb4-b423-4c61-8ba5-281686511518"
      },
      "execution_count": null,
      "outputs": [
        {
          "output_type": "execute_result",
          "data": {
            "text/plain": [
              "4"
            ]
          },
          "metadata": {},
          "execution_count": 18
        }
      ]
    },
    {
      "cell_type": "code",
      "source": [
        "print(2)"
      ],
      "metadata": {
        "id": "hpAJdSaap7Bc",
        "outputId": "32b19b0f-5ec0-4ddf-fd33-c8ca125a4fa3",
        "colab": {
          "base_uri": "https://localhost:8080/"
        }
      },
      "execution_count": 35,
      "outputs": [
        {
          "output_type": "stream",
          "name": "stdout",
          "text": [
            "2\n"
          ]
        }
      ]
    },
    {
      "cell_type": "code",
      "source": [],
      "metadata": {
        "colab": {
          "base_uri": "https://localhost:8080/"
        },
        "id": "FvjiIDrZ3MyP",
        "outputId": "2bfddbcf-2c29-4947-a0a2-7395aff7034e"
      },
      "execution_count": null,
      "outputs": [
        {
          "output_type": "execute_result",
          "data": {
            "text/plain": [
              "2"
            ]
          },
          "metadata": {},
          "execution_count": 19
        }
      ]
    },
    {
      "cell_type": "code",
      "source": [
        "print(713)"
      ],
      "metadata": {
        "id": "CP_2zaZUp-Uo",
        "outputId": "cf3f2763-55f3-4060-daa0-7b96a3d06d52",
        "colab": {
          "base_uri": "https://localhost:8080/"
        }
      },
      "execution_count": 36,
      "outputs": [
        {
          "output_type": "stream",
          "name": "stdout",
          "text": [
            "713\n"
          ]
        }
      ]
    },
    {
      "cell_type": "code",
      "source": [],
      "metadata": {
        "colab": {
          "base_uri": "https://localhost:8080/"
        },
        "id": "JJpfmYD03Qc7",
        "outputId": "6443912f-55be-4bc3-f3b5-dd267a039f89"
      },
      "execution_count": null,
      "outputs": [
        {
          "output_type": "execute_result",
          "data": {
            "text/plain": [
              "713"
            ]
          },
          "metadata": {},
          "execution_count": 20
        }
      ]
    },
    {
      "cell_type": "code",
      "source": [
        "arr = np.random.randint(0, 1000, (3, 3))\n",
        "arr"
      ],
      "metadata": {
        "id": "3PN2AHrlqI4E",
        "outputId": "ec6c432f-b99a-405a-95a9-665ab1546f72",
        "colab": {
          "base_uri": "https://localhost:8080/"
        }
      },
      "execution_count": 39,
      "outputs": [
        {
          "output_type": "execute_result",
          "data": {
            "text/plain": [
              "array([[873,  35, 734],\n",
              "       [ 50, 110, 789],\n",
              "       [ 66, 656, 825]])"
            ]
          },
          "metadata": {},
          "execution_count": 39
        }
      ]
    },
    {
      "cell_type": "code",
      "source": [],
      "metadata": {
        "colab": {
          "base_uri": "https://localhost:8080/"
        },
        "id": "oYl6g98o3S6P",
        "outputId": "8e495851-4e33-4e71-dd78-3235aae7e1d2"
      },
      "execution_count": null,
      "outputs": [
        {
          "output_type": "execute_result",
          "data": {
            "text/plain": [
              "array([[  7, 919, 780],\n",
              "       [172, 608, 147],\n",
              "       [881, 166, 273]])"
            ]
          },
          "metadata": {},
          "execution_count": 21
        }
      ]
    },
    {
      "cell_type": "code",
      "source": [
        "np.random.normal"
      ],
      "metadata": {
        "colab": {
          "base_uri": "https://localhost:8080/"
        },
        "id": "UOcUCLmV3V4X",
        "outputId": "d337deab-407c-4bd9-c301-787e08b86fa8"
      },
      "execution_count": 40,
      "outputs": [
        {
          "output_type": "execute_result",
          "data": {
            "text/plain": [
              "<function RandomState.normal>"
            ]
          },
          "metadata": {},
          "execution_count": 40
        }
      ]
    },
    {
      "cell_type": "markdown",
      "source": [
        "*   `random` : module au sein de numpy spécialement conçu pour générer des nombres aléatoires.\n",
        "*   `normal` : fonction au sein du module `random` qui génère des nombres aléatoires à partir d'une **distribution normale**, également appelée **distribution gaussienne**. Cette distribution est couramment utilisée en statistique et en probabilité en raison de sa courbe en forme de cloche.\n",
        "\n",
        "`np.random.normal` **en elle-même ne génère aucun nombre aléatoire**. Elle fait simplement référence à la fonction qui peut être utilisée pour les générer. Pour obtenir réellement des nombres aléatoires à partir d'une distribution normale, vous devrez appeler cette fonction avec des paramètres spécifiques, comme la moyenne (centre) et l'écart type (dispersion) de la distribution.\n",
        "\n",
        "Par exemple, pour générer 10 nombres aléatoires à partir d'une distribution normale avec une moyenne de 0 et un écart type de 1, vous utiliseriez :\n",
        "\n",
        "\n",
        "`np.random.normal(loc=0, scale=1, size=10)`"
      ],
      "metadata": {
        "id": "Wbjbxblu8HyW"
      }
    },
    {
      "cell_type": "markdown",
      "source": [
        "Par exemple, les modèles dits génératifs génèrent des distributions de probabilités, qui sont ensuite utilisées pour générer de nouvelles données :\n",
        "\n",
        "1.   **Apprentissage de la distribution** : Pendant l'entraînement, le modèle apprend la distribution de probabilité des données d'entrée (dans le cas de GPT, du texte). Il apprend par exemple la probabilité d'apparition d'un mot après une séquence de mots donnée.\n",
        "\n",
        "2.   **Prédiction de la prochaine donnée** : Lorsqu'on lui demande de générer du texte, le modèle utilise sa connaissance de la distribution pour prédire la prochaine donnée (le prochain mot, caractère, etc.). Il calcule la probabilité de chaque option possible et choisit celle qui a la plus haute probabilité.\n",
        "\n",
        "3.   **Génération itérative** : Ce processus est répété de manière itérative, en utilisant la donnée nouvellement générée comme contexte pour prédire la suivante. C'est ainsi que le modèle construit des séquences de données (des phrases, des paragraphes, etc.).\n",
        "\n",
        "4.   **Echantillonnage** : Il est important de noter que le modèle ne choisit pas toujours l'option la plus probable. Il peut également **échantillonner** à partir de la distribution, c'est-à-dire choisir une option au hasard en fonction de sa probabilité. Cela permet au modèle de générer des données plus variées et créatives, et d'éviter de se répéter constamment.\n",
        "\n",
        "En résumé:\n",
        "\n",
        "*   Le modèle **ne crée pas de nouvelles données à partir de rien**. Il utilise les données d'entraînement pour apprendre une distribution de probabilité.\n",
        "*   Il utilise cette distribution pour **prédire la prochaine donnée** dans une séquence, soit en choisissant l'option la plus probable, soit en échantillonnant à partir de la distribution.\n",
        "*   La génération de nouvelles données est donc un** processus itératif** basé sur des prédictions probabilistes.\n",
        "\n",
        "On peut dire que le modèle génère des distributions de probabilités qui servent de \"recette\" pour créer de nouvelles données. C'est cette \"recette\" qui est apprise pendant l'entraînement, et qui permet au modèle de générer des données similaires à celles qu'il a vues."
      ],
      "metadata": {
        "id": "N7XmgubfBui-"
      }
    },
    {
      "cell_type": "markdown",
      "source": [
        "\n",
        "\n",
        "---\n",
        "\n"
      ],
      "metadata": {
        "id": "WFFLYw6jDg-N"
      }
    },
    {
      "cell_type": "code",
      "source": [
        "np.random.seed(101)\n",
        "print(np.random.randint(0,100,10))"
      ],
      "metadata": {
        "colab": {
          "base_uri": "https://localhost:8080/"
        },
        "id": "JKdd9fs53b-v",
        "outputId": "abae55fb-673d-4728-cc7d-82b1d9873839"
      },
      "execution_count": 62,
      "outputs": [
        {
          "output_type": "stream",
          "name": "stdout",
          "text": [
            "[95 11 81 70 63 87 75  9 77 40]\n"
          ]
        }
      ]
    },
    {
      "cell_type": "markdown",
      "source": [
        "`seed()` : est utilisée pour \"amorcer\" le générateur de nombres aléatoires. Imaginez que vous plantez une graine spécifique pour une plante - cela garantit que vous obtenez la même plante (ou dans ce cas, la même séquence de nombres aléatoires) chaque fois que vous utilisez cette graine.\n",
        "\n",
        "Ici, `101` est la valeur de la graine. En définissant la graine sur `101`, nous nous assurons que la génération de nombres aléatoires suivante produira toujours la même séquence de nombres. Ceci est utile pour la reproductibilité, ce qui signifie que si quelqu'un d'autre exécute le même code avec la même graine, il obtiendra les mêmes résultats \"aléatoires\".\n",
        "\n",
        "`print(np.random.randint(0,100,10))` génère puis affiche une séquence de nombres entiers aléatoires.\n",
        "\n",
        "Ainsi, cette ligne générera 10 nombres entiers aléatoires entre 0 (inclus) et 100 (exclus), puis les affichera sur la console. Étant donné que nous avons défini la graine avec `np.random.seed(101)` précédemment, ces 10 nombres aléatoires seront toujours les mêmes chaque fois que le code est exécuté.\n",
        "\n",
        "En résumé, ces deux lignes ensemble génèrent une séquence de nombres \"pseudo-aléatoires\". Ils semblent aléatoires, mais ils sont en réalité déterminés par la valeur initiale de la graine. Cela permet d'obtenir des résultats reproductibles lorsque vous travaillez avec l'aléatoire dans votre code."
      ],
      "metadata": {
        "id": "WT3OG8PWEIWg"
      }
    },
    {
      "cell_type": "markdown",
      "source": [
        "\n",
        "\n",
        "---\n",
        "\n"
      ],
      "metadata": {
        "id": "yzZ0jRykE4dr"
      }
    },
    {
      "cell_type": "code",
      "source": [
        "np.random.randint(0, 100, 10)"
      ],
      "metadata": {
        "id": "s5SjTezyqy6S",
        "outputId": "3474ceeb-787b-4896-e3d1-c0d1091b8e0f",
        "colab": {
          "base_uri": "https://localhost:8080/"
        }
      },
      "execution_count": 43,
      "outputs": [
        {
          "output_type": "execute_result",
          "data": {
            "text/plain": [
              "array([ 4, 63, 40, 60, 92, 64,  5, 12, 93, 40])"
            ]
          },
          "metadata": {},
          "execution_count": 43
        }
      ]
    },
    {
      "cell_type": "code",
      "source": [],
      "metadata": {
        "colab": {
          "base_uri": "https://localhost:8080/"
        },
        "id": "feM-hQbQ3stQ",
        "outputId": "de30031a-d419-408b-c110-16a42aab3164"
      },
      "execution_count": null,
      "outputs": [
        {
          "output_type": "execute_result",
          "data": {
            "text/plain": [
              "array([ 4, 63, 40, 60, 92, 64,  5, 12, 93, 40])"
            ]
          },
          "metadata": {},
          "execution_count": 25
        }
      ]
    },
    {
      "cell_type": "code",
      "source": [
        "arr = np.array([1, 2, 3])\n",
        "arr"
      ],
      "metadata": {
        "id": "QbMrWsVkq-Wg",
        "outputId": "141ba6c8-1378-4532-989a-65d8a43f7758",
        "colab": {
          "base_uri": "https://localhost:8080/"
        }
      },
      "execution_count": 51,
      "outputs": [
        {
          "output_type": "execute_result",
          "data": {
            "text/plain": [
              "array([1, 2, 3])"
            ]
          },
          "metadata": {},
          "execution_count": 51
        }
      ]
    },
    {
      "cell_type": "code",
      "source": [],
      "metadata": {
        "colab": {
          "base_uri": "https://localhost:8080/"
        },
        "id": "HHa1b2y2313d",
        "outputId": "f101b17d-5f75-43ca-d043-9aa295724337"
      },
      "execution_count": null,
      "outputs": [
        {
          "output_type": "execute_result",
          "data": {
            "text/plain": [
              "array([1, 2, 3])"
            ]
          },
          "metadata": {},
          "execution_count": 29
        }
      ]
    },
    {
      "cell_type": "markdown",
      "source": [
        "##### 3"
      ],
      "metadata": {
        "id": "h99GuQG_E_0y"
      }
    },
    {
      "cell_type": "code",
      "source": [
        "arr[-1]"
      ],
      "metadata": {
        "colab": {
          "base_uri": "https://localhost:8080/"
        },
        "id": "cq2y9JnO4CwX",
        "outputId": "5b335940-ba15-4bbf-88d9-6ed21fef374e"
      },
      "execution_count": 53,
      "outputs": [
        {
          "output_type": "execute_result",
          "data": {
            "text/plain": [
              "3"
            ]
          },
          "metadata": {},
          "execution_count": 53
        }
      ]
    },
    {
      "cell_type": "markdown",
      "source": [
        "##### 1"
      ],
      "metadata": {
        "id": "xblTcZhSFC-E"
      }
    },
    {
      "cell_type": "code",
      "source": [
        "arr[0]"
      ],
      "metadata": {
        "colab": {
          "base_uri": "https://localhost:8080/"
        },
        "id": "sYxZ552v4EWo",
        "outputId": "2e591bdb-32d0-40b1-b900-06cbda92a0f5"
      },
      "execution_count": 55,
      "outputs": [
        {
          "output_type": "execute_result",
          "data": {
            "text/plain": [
              "1"
            ]
          },
          "metadata": {},
          "execution_count": 55
        }
      ]
    },
    {
      "cell_type": "markdown",
      "source": [
        "##### 2.0"
      ],
      "metadata": {
        "id": "5kjOwjM3FTS1"
      }
    },
    {
      "cell_type": "code",
      "source": [
        "float(arr[1])"
      ],
      "metadata": {
        "colab": {
          "base_uri": "https://localhost:8080/"
        },
        "id": "ulSalVVj4FhE",
        "outputId": "d3d687dd-cb12-4ea5-e5b5-57dea6ff6bd5"
      },
      "execution_count": 56,
      "outputs": [
        {
          "output_type": "execute_result",
          "data": {
            "text/plain": [
              "2.0"
            ]
          },
          "metadata": {},
          "execution_count": 56
        }
      ]
    },
    {
      "cell_type": "markdown",
      "source": [
        "##### 2"
      ],
      "metadata": {
        "id": "6aFdV4csFVYx"
      }
    },
    {
      "cell_type": "code",
      "source": [
        "arr[1]"
      ],
      "metadata": {
        "colab": {
          "base_uri": "https://localhost:8080/"
        },
        "id": "lBtwI9OT4I8p",
        "outputId": "a8504546-b613-47d6-b659-4abe3b2ce437"
      },
      "execution_count": 57,
      "outputs": [
        {
          "output_type": "execute_result",
          "data": {
            "text/plain": [
              "2"
            ]
          },
          "metadata": {},
          "execution_count": 57
        }
      ]
    },
    {
      "cell_type": "markdown",
      "source": [
        "##### array([1, 2, 3])"
      ],
      "metadata": {
        "id": "Gdf6aMQzFab9"
      }
    },
    {
      "cell_type": "code",
      "source": [
        "arr"
      ],
      "metadata": {
        "colab": {
          "base_uri": "https://localhost:8080/"
        },
        "id": "tacmRj5D4MO0",
        "outputId": "259af067-a5d4-44e3-861c-4f4376a4fa10"
      },
      "execution_count": 58,
      "outputs": [
        {
          "output_type": "execute_result",
          "data": {
            "text/plain": [
              "array([1, 2, 3])"
            ]
          },
          "metadata": {},
          "execution_count": 58
        }
      ]
    },
    {
      "cell_type": "code",
      "source": [
        "arr = np.random.randint(0,100,10)"
      ],
      "metadata": {
        "id": "RJLLUY8z4PZa"
      },
      "execution_count": 63,
      "outputs": []
    },
    {
      "cell_type": "code",
      "source": [
        "arr"
      ],
      "metadata": {
        "id": "4I24mBsorZQX",
        "outputId": "6232af40-4fea-4bc4-958a-c7cf253c1d5f",
        "colab": {
          "base_uri": "https://localhost:8080/"
        }
      },
      "execution_count": 64,
      "outputs": [
        {
          "output_type": "execute_result",
          "data": {
            "text/plain": [
              "array([ 4, 63, 40, 60, 92, 64,  5, 12, 93, 40])"
            ]
          },
          "metadata": {},
          "execution_count": 64
        }
      ]
    },
    {
      "cell_type": "code",
      "source": [],
      "metadata": {
        "colab": {
          "base_uri": "https://localhost:8080/"
        },
        "id": "9mhfQS7C4mZb",
        "outputId": "bdd12fd1-9488-4521-8114-15ae2cc5a8d0"
      },
      "execution_count": null,
      "outputs": [
        {
          "output_type": "execute_result",
          "data": {
            "text/plain": [
              "array([49, 83,  8, 29, 59, 34, 44, 72, 19, 10])"
            ]
          },
          "metadata": {},
          "execution_count": 36
        }
      ]
    },
    {
      "cell_type": "markdown",
      "source": [
        "##### 83"
      ],
      "metadata": {
        "id": "HfouvTvfFwAo"
      }
    },
    {
      "cell_type": "code",
      "source": [
        "arr.max()"
      ],
      "metadata": {
        "id": "2lbgbka_rkx3",
        "outputId": "c357d7cf-f082-4f65-facb-751c6ad50d66",
        "colab": {
          "base_uri": "https://localhost:8080/"
        }
      },
      "execution_count": 67,
      "outputs": [
        {
          "output_type": "execute_result",
          "data": {
            "text/plain": [
              "93"
            ]
          },
          "metadata": {},
          "execution_count": 67
        }
      ]
    },
    {
      "cell_type": "code",
      "source": [],
      "metadata": {
        "colab": {
          "base_uri": "https://localhost:8080/"
        },
        "id": "Shyy_YxS4o2g",
        "outputId": "2e833eb6-0067-4d06-d1b6-fca24a28ad4d"
      },
      "execution_count": null,
      "outputs": [
        {
          "output_type": "execute_result",
          "data": {
            "text/plain": [
              "83"
            ]
          },
          "metadata": {},
          "execution_count": 37
        }
      ]
    },
    {
      "cell_type": "markdown",
      "source": [
        "##### 8"
      ],
      "metadata": {
        "id": "Cn7le5PcFzxT"
      }
    },
    {
      "cell_type": "code",
      "source": [
        "arr.min()"
      ],
      "metadata": {
        "id": "mF8Gjyjjrwld",
        "outputId": "68fb9b35-ca33-4ed6-fa79-ce9e4521b096",
        "colab": {
          "base_uri": "https://localhost:8080/"
        }
      },
      "execution_count": 68,
      "outputs": [
        {
          "output_type": "execute_result",
          "data": {
            "text/plain": [
              "4"
            ]
          },
          "metadata": {},
          "execution_count": 68
        }
      ]
    },
    {
      "cell_type": "code",
      "source": [],
      "metadata": {
        "id": "i3YHmn5CrwX4"
      },
      "execution_count": null,
      "outputs": []
    },
    {
      "cell_type": "markdown",
      "source": [
        "##### 40.7"
      ],
      "metadata": {
        "id": "4Kaysw_BF3n8"
      }
    },
    {
      "cell_type": "code",
      "source": [
        "arr.std()"
      ],
      "metadata": {
        "id": "lkUvj6Y5rz8u",
        "outputId": "1e118652-8f04-4f29-9537-15f9208da02d",
        "colab": {
          "base_uri": "https://localhost:8080/"
        }
      },
      "execution_count": 70,
      "outputs": [
        {
          "output_type": "execute_result",
          "data": {
            "text/plain": [
              "31.289135494608985"
            ]
          },
          "metadata": {},
          "execution_count": 70
        }
      ]
    },
    {
      "cell_type": "code",
      "source": [],
      "metadata": {
        "colab": {
          "base_uri": "https://localhost:8080/"
        },
        "id": "c_kXA3aL4sbt",
        "outputId": "7765b0ae-f8dc-482a-bdb8-aa1a09017b17"
      },
      "execution_count": null,
      "outputs": [
        {
          "output_type": "execute_result",
          "data": {
            "text/plain": [
              "40.7"
            ]
          },
          "metadata": {},
          "execution_count": 39
        }
      ]
    },
    {
      "cell_type": "markdown",
      "source": [
        "##### 1"
      ],
      "metadata": {
        "id": "HJCnnkQJGAIe"
      }
    },
    {
      "cell_type": "code",
      "source": [
        "arr.argmin()"
      ],
      "metadata": {
        "id": "CQf0kcAer5ZB",
        "outputId": "d7452046-aaaf-4596-a0e8-c8bb0245ea4e",
        "colab": {
          "base_uri": "https://localhost:8080/"
        }
      },
      "execution_count": 71,
      "outputs": [
        {
          "output_type": "execute_result",
          "data": {
            "text/plain": [
              "0"
            ]
          },
          "metadata": {},
          "execution_count": 71
        }
      ]
    },
    {
      "cell_type": "code",
      "source": [],
      "metadata": {
        "colab": {
          "base_uri": "https://localhost:8080/"
        },
        "id": "8U2lRdM84wCF",
        "outputId": "e6c35fb6-cf77-4d11-ca25-274542aa0d95"
      },
      "execution_count": null,
      "outputs": [
        {
          "output_type": "execute_result",
          "data": {
            "text/plain": [
              "1"
            ]
          },
          "metadata": {},
          "execution_count": 40
        }
      ]
    },
    {
      "cell_type": "markdown",
      "source": [
        "##### array([[49, 83,  8, 29, 59], [34, 44, 72, 19, 10]])"
      ],
      "metadata": {
        "id": "UEp1KZzhGEaJ"
      }
    },
    {
      "cell_type": "code",
      "source": [
        "np.random.randint(0,100,(2,5))"
      ],
      "metadata": {
        "id": "O9gk1F9br-Lt",
        "outputId": "78893c85-b6a7-4c81-88b8-ed99fa9df791",
        "colab": {
          "base_uri": "https://localhost:8080/"
        }
      },
      "execution_count": 81,
      "outputs": [
        {
          "output_type": "execute_result",
          "data": {
            "text/plain": [
              "array([[ 6, 88, 71, 68, 23],\n",
              "       [35, 79, 98, 67, 82]])"
            ]
          },
          "metadata": {},
          "execution_count": 81
        }
      ]
    },
    {
      "cell_type": "code",
      "source": [],
      "metadata": {
        "colab": {
          "base_uri": "https://localhost:8080/"
        },
        "id": "34jX1AEV41Gc",
        "outputId": "b2be71e6-945b-4e4b-c1cf-e9bcfde2a7e4"
      },
      "execution_count": null,
      "outputs": [
        {
          "output_type": "execute_result",
          "data": {
            "text/plain": [
              "array([[49, 83,  8, 29, 59],\n",
              "       [34, 44, 72, 19, 10]])"
            ]
          },
          "metadata": {},
          "execution_count": 41
        }
      ]
    },
    {
      "cell_type": "markdown",
      "source": [
        "##### array([[ 0,  1,  2,  3,  4,  5,  6,  7,  8,  9], [10, 11, 12, 13, 14, 15, 16, 17, 18, 19], [20, 21, 22, 23, 24, 25, 26, 27, 28, 29], [30, 31, 32, 33, 34, 35, 36, 37, 38, 39], [40, 41, 42, 43, 44, 45, 46, 47, 48, 49], [50, 51, 52, 53, 54, 55, 56, 57, 58, 59], [60, 61, 62, 63, 64, 65, 66, 67, 68, 69], [70, 71, 72, 73, 74, 75, 76, 77, 78, 79], [80, 81, 82, 83, 84, 85, 86, 87, 88, 89], [90, 91, 92, 93, 94, 95, 96, 97,98, 99]])"
      ],
      "metadata": {
        "id": "vk7dD57PGOYq"
      }
    },
    {
      "cell_type": "code",
      "source": [
        "mat = np.arange(0,100).reshape(10,10)\n",
        "mat"
      ],
      "metadata": {
        "id": "l1qzt08648zA",
        "outputId": "27e5e576-2eae-4d86-b364-df6128428198",
        "colab": {
          "base_uri": "https://localhost:8080/"
        }
      },
      "execution_count": 83,
      "outputs": [
        {
          "output_type": "execute_result",
          "data": {
            "text/plain": [
              "array([[ 0,  1,  2,  3,  4,  5,  6,  7,  8,  9],\n",
              "       [10, 11, 12, 13, 14, 15, 16, 17, 18, 19],\n",
              "       [20, 21, 22, 23, 24, 25, 26, 27, 28, 29],\n",
              "       [30, 31, 32, 33, 34, 35, 36, 37, 38, 39],\n",
              "       [40, 41, 42, 43, 44, 45, 46, 47, 48, 49],\n",
              "       [50, 51, 52, 53, 54, 55, 56, 57, 58, 59],\n",
              "       [60, 61, 62, 63, 64, 65, 66, 67, 68, 69],\n",
              "       [70, 71, 72, 73, 74, 75, 76, 77, 78, 79],\n",
              "       [80, 81, 82, 83, 84, 85, 86, 87, 88, 89],\n",
              "       [90, 91, 92, 93, 94, 95, 96, 97, 98, 99]])"
            ]
          },
          "metadata": {},
          "execution_count": 83
        }
      ]
    },
    {
      "cell_type": "code",
      "source": [],
      "metadata": {
        "colab": {
          "base_uri": "https://localhost:8080/"
        },
        "id": "cHdHAe485FCS",
        "outputId": "3841c8f4-1799-4d2f-f628-ea95f1c839bf"
      },
      "execution_count": null,
      "outputs": [
        {
          "output_type": "execute_result",
          "data": {
            "text/plain": [
              "array([[ 0,  1,  2,  3,  4,  5,  6,  7,  8,  9],\n",
              "       [10, 11, 12, 13, 14, 15, 16, 17, 18, 19],\n",
              "       [20, 21, 22, 23, 24, 25, 26, 27, 28, 29],\n",
              "       [30, 31, 32, 33, 34, 35, 36, 37, 38, 39],\n",
              "       [40, 41, 42, 43, 44, 45, 46, 47, 48, 49],\n",
              "       [50, 51, 52, 53, 54, 55, 56, 57, 58, 59],\n",
              "       [60, 61, 62, 63, 64, 65, 66, 67, 68, 69],\n",
              "       [70, 71, 72, 73, 74, 75, 76, 77, 78, 79],\n",
              "       [80, 81, 82, 83, 84, 85, 86, 87, 88, 89],\n",
              "       [90, 91, 92, 93, 94, 95, 96, 97, 98, 99]])"
            ]
          },
          "metadata": {},
          "execution_count": 43
        }
      ]
    },
    {
      "cell_type": "markdown",
      "source": [
        "##### 1"
      ],
      "metadata": {
        "id": "NIbtFGKDGsXg"
      }
    },
    {
      "cell_type": "code",
      "source": [
        "mat[0,1]"
      ],
      "metadata": {
        "colab": {
          "base_uri": "https://localhost:8080/"
        },
        "id": "uOWkplLd5GDq",
        "outputId": "3eb75d0f-cfde-4e79-a139-4dd36a4ac0b9"
      },
      "execution_count": 84,
      "outputs": [
        {
          "output_type": "execute_result",
          "data": {
            "text/plain": [
              "1"
            ]
          },
          "metadata": {},
          "execution_count": 84
        }
      ]
    },
    {
      "cell_type": "markdown",
      "source": [
        "##### 3"
      ],
      "metadata": {
        "id": "GnhJ2bOjGuPV"
      }
    },
    {
      "cell_type": "code",
      "source": [
        "mat[0,3]"
      ],
      "metadata": {
        "colab": {
          "base_uri": "https://localhost:8080/"
        },
        "id": "QKfeDzdb5L49",
        "outputId": "99375291-0f2a-4878-f033-d574071a303a"
      },
      "execution_count": 85,
      "outputs": [
        {
          "output_type": "execute_result",
          "data": {
            "text/plain": [
              "3"
            ]
          },
          "metadata": {},
          "execution_count": 85
        }
      ]
    },
    {
      "cell_type": "markdown",
      "source": [
        "##### array([ 0, 10, 20, 30, 40, 50, 60, 70, 80, 90])"
      ],
      "metadata": {
        "id": "kkJrReXYG5I3"
      }
    },
    {
      "cell_type": "code",
      "source": [
        "np.arange(0,91,10)"
      ],
      "metadata": {
        "id": "JAd1B830sVQ7",
        "outputId": "26678bbe-a3a6-4298-e895-7ed25fb225d4",
        "colab": {
          "base_uri": "https://localhost:8080/"
        }
      },
      "execution_count": 86,
      "outputs": [
        {
          "output_type": "execute_result",
          "data": {
            "text/plain": [
              "array([ 0, 10, 20, 30, 40, 50, 60, 70, 80, 90])"
            ]
          },
          "metadata": {},
          "execution_count": 86
        }
      ]
    },
    {
      "cell_type": "code",
      "source": [],
      "metadata": {
        "colab": {
          "base_uri": "https://localhost:8080/"
        },
        "id": "cEIWhRwN5QkD",
        "outputId": "9da529fa-c09e-4b7c-ec6d-404a67c62e50"
      },
      "execution_count": null,
      "outputs": [
        {
          "output_type": "execute_result",
          "data": {
            "text/plain": [
              "array([ 0, 10, 20, 30, 40, 50, 60, 70, 80, 90])"
            ]
          },
          "metadata": {},
          "execution_count": 47
        }
      ]
    },
    {
      "cell_type": "markdown",
      "source": [
        "##### array([50, 51, 52, 53, 54, 55, 56, 57, 58, 59])"
      ],
      "metadata": {
        "id": "hj5VQsNoHB2Y"
      }
    },
    {
      "cell_type": "code",
      "source": [
        "np.arange(50,60)"
      ],
      "metadata": {
        "id": "_-gszX40saS1",
        "outputId": "7e195cfe-fcee-4da0-9851-cc162618c921",
        "colab": {
          "base_uri": "https://localhost:8080/"
        }
      },
      "execution_count": 87,
      "outputs": [
        {
          "output_type": "execute_result",
          "data": {
            "text/plain": [
              "array([50, 51, 52, 53, 54, 55, 56, 57, 58, 59])"
            ]
          },
          "metadata": {},
          "execution_count": 87
        }
      ]
    },
    {
      "cell_type": "code",
      "source": [],
      "metadata": {
        "colab": {
          "base_uri": "https://localhost:8080/"
        },
        "id": "e8JRO6aZ5g9_",
        "outputId": "4bb0831b-5cbe-4225-a650-963ad4e67731"
      },
      "execution_count": null,
      "outputs": [
        {
          "output_type": "execute_result",
          "data": {
            "text/plain": [
              "array([50, 51, 52, 53, 54, 55, 56, 57, 58, 59])"
            ]
          },
          "metadata": {},
          "execution_count": 48
        }
      ]
    },
    {
      "cell_type": "markdown",
      "source": [
        "##### array([[ 0,  1,  2], [10, 11, 12], [20, 21, 22]])"
      ],
      "metadata": {
        "id": "KmlNPWoRHLV0"
      }
    },
    {
      "cell_type": "code",
      "source": [
        "mat[:3,:3]"
      ],
      "metadata": {
        "colab": {
          "base_uri": "https://localhost:8080/"
        },
        "id": "RHIf-gAJ5sam",
        "outputId": "b92e2cf5-2c75-4ce0-b312-8d3df7218b8c"
      },
      "execution_count": 88,
      "outputs": [
        {
          "output_type": "execute_result",
          "data": {
            "text/plain": [
              "array([[ 0,  1,  2],\n",
              "       [10, 11, 12],\n",
              "       [20, 21, 22]])"
            ]
          },
          "metadata": {},
          "execution_count": 88
        }
      ]
    },
    {
      "cell_type": "code",
      "source": [
        "mat > 50"
      ],
      "metadata": {
        "colab": {
          "base_uri": "https://localhost:8080/"
        },
        "id": "7A-dVbqU57iF",
        "outputId": "7609cde3-dab0-44c0-dc38-8be73f447fc3"
      },
      "execution_count": 90,
      "outputs": [
        {
          "output_type": "execute_result",
          "data": {
            "text/plain": [
              "array([[False, False, False, False, False, False, False, False, False,\n",
              "        False],\n",
              "       [False, False, False, False, False, False, False, False, False,\n",
              "        False],\n",
              "       [False, False, False, False, False, False, False, False, False,\n",
              "        False],\n",
              "       [False, False, False, False, False, False, False, False, False,\n",
              "        False],\n",
              "       [False, False, False, False, False, False, False, False, False,\n",
              "        False],\n",
              "       [False,  True,  True,  True,  True,  True,  True,  True,  True,\n",
              "         True],\n",
              "       [ True,  True,  True,  True,  True,  True,  True,  True,  True,\n",
              "         True],\n",
              "       [ True,  True,  True,  True,  True,  True,  True,  True,  True,\n",
              "         True],\n",
              "       [ True,  True,  True,  True,  True,  True,  True,  True,  True,\n",
              "         True],\n",
              "       [ True,  True,  True,  True,  True,  True,  True,  True,  True,\n",
              "         True]])"
            ]
          },
          "metadata": {},
          "execution_count": 90
        }
      ]
    },
    {
      "cell_type": "code",
      "source": [
        "my_filter = mat > 50"
      ],
      "metadata": {
        "id": "j1ldYBcW5-Os"
      },
      "execution_count": 91,
      "outputs": []
    },
    {
      "cell_type": "code",
      "source": [
        "# @title\n",
        "mat[my_filter]"
      ],
      "metadata": {
        "colab": {
          "base_uri": "https://localhost:8080/"
        },
        "id": "G96qOip06E2x",
        "outputId": "05c8ec51-9b00-4f97-9a39-92fe25c8addd"
      },
      "execution_count": 92,
      "outputs": [
        {
          "output_type": "execute_result",
          "data": {
            "text/plain": [
              "array([51, 52, 53, 54, 55, 56, 57, 58, 59, 60, 61, 62, 63, 64, 65, 66, 67,\n",
              "       68, 69, 70, 71, 72, 73, 74, 75, 76, 77, 78, 79, 80, 81, 82, 83, 84,\n",
              "       85, 86, 87, 88, 89, 90, 91, 92, 93, 94, 95, 96, 97, 98, 99])"
            ]
          },
          "metadata": {},
          "execution_count": 92
        }
      ]
    }
  ]
}